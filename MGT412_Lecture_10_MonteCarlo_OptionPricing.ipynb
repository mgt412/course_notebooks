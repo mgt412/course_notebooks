{
  "nbformat": 4,
  "nbformat_minor": 0,
  "metadata": {
    "colab": {
      "name": "MGT412_Lecture_10_MonteCarlo_OptionPricing.ipynb",
      "version": "0.3.2",
      "provenance": [],
      "collapsed_sections": [],
      "include_colab_link": true
    },
    "language_info": {
      "codemirror_mode": {
        "name": "ipython",
        "version": 3
      },
      "file_extension": ".py",
      "mimetype": "text/x-python",
      "name": "python",
      "nbconvert_exporter": "python",
      "pygments_lexer": "ipython3",
      "version": "3.6.5"
    },
    "kernelspec": {
      "display_name": "Python 3",
      "language": "python",
      "name": "python3"
    }
  },
  "cells": [
    {
      "cell_type": "markdown",
      "metadata": {
        "id": "view-in-github",
        "colab_type": "text"
      },
      "source": [
        "<a href=\"https://colab.research.google.com/github/mgt412/course_notebooks/blob/master/MGT412_Lecture_10_MonteCarlo_OptionPricing.ipynb\" target=\"_parent\"><img src=\"https://colab.research.google.com/assets/colab-badge.svg\" alt=\"Open In Colab\"/></a>"
      ]
    },
    {
      "cell_type": "markdown",
      "metadata": {
        "id": "qbTJ6K5NNzjJ",
        "colab_type": "text"
      },
      "source": [
        "# Lecture 10: Monte Carlo Option Pricing"
      ]
    },
    {
      "cell_type": "code",
      "metadata": {
        "id": "sJRPvCvKNzjK",
        "colab_type": "code",
        "colab": {}
      },
      "source": [
        "import numpy as np\n",
        "import numpy.random as npr\n",
        "from scipy.stats import norm\n",
        "import matplotlib.pyplot as plt\n",
        "%matplotlib inline"
      ],
      "execution_count": 0,
      "outputs": []
    },
    {
      "cell_type": "markdown",
      "metadata": {
        "id": "JYD9Z0oPNzjQ",
        "colab_type": "text"
      },
      "source": [
        "## Monte Carlo simulation (static, plain vanilla call & put)\n",
        "\n",
        "1. Simulate a large number ($N$) of terminal stock prices.\n",
        "2. Compute the option value for each terminal stock price.\n",
        "3. Take the average across all $N$.\n",
        "4. The method is simple and intuitive. It requires two assumptions:\n",
        "  * The option is European (only exercised at maturity)\n",
        "  * The option payoff depends only on final stock prices.\n",
        "5. Useful method for plain vanilla calls and puts."
      ]
    },
    {
      "cell_type": "code",
      "metadata": {
        "id": "Pc1KWvFSWCDE",
        "colab_type": "code",
        "colab": {}
      },
      "source": [
        "# initialize values\n",
        "T, N, S, r, sigma, K, typeEA, typeCP = 2, 2000, 100, 0.03, 0.20, 110, 'European', 'call'\n",
        "\n",
        "def BlackScholes(T,S,K,sigma,r,typeCP):\n",
        "  d1=(np.log(S/K)+(r+0.5*sigma**2)*T)/(sigma*np.sqrt(T))\n",
        "  d2=d1-sigma*np.sqrt(T)\n",
        "  \n",
        "  call=S*norm.cdf(d1)-K*np.exp(-r*T)*norm.cdf(d2)\n",
        "  put = K*np.exp(-r*T)*norm.cdf(-d2)- S*norm.cdf(-d1)\n",
        "  \n",
        "  if typeCP=='call':\n",
        "    return call\n",
        "  else:\n",
        "    return put"
      ],
      "execution_count": 0,
      "outputs": []
    },
    {
      "cell_type": "code",
      "metadata": {
        "id": "hNmIAYvdNzjR",
        "colab_type": "code",
        "colab": {}
      },
      "source": [
        "def montecarlo(T,N,S,r,sigma,K,typeCP):\n",
        "\n",
        "    if typeCP==\"call\":\n",
        "        typeCP=1\n",
        "    else:\n",
        "        typeCP=-1\n",
        "\n",
        "    z = npr.randn(N)\n",
        "    # simulate index level at maturity\n",
        "    ST = S*np.exp((r-0.5*sigma**2)*T+sigma*np.sqrt(T)*z)\n",
        "    # calculate payoff at maturity\n",
        "    OptionT= np.maximum(typeCP*(ST - K), 0)\n",
        "    option = np.exp(-r*T)*OptionT.mean()\n",
        "    return option"
      ],
      "execution_count": 0,
      "outputs": []
    },
    {
      "cell_type": "markdown",
      "metadata": {
        "id": "XFzA6PQOXLnJ",
        "colab_type": "text"
      },
      "source": [
        "### How does Monte Carlo stack up against Black-Scholes?"
      ]
    },
    {
      "cell_type": "code",
      "metadata": {
        "id": "jl38FYbVOzu4",
        "colab_type": "code",
        "colab": {
          "base_uri": "https://localhost:8080/",
          "height": 530
        },
        "outputId": "3344b2ee-51e8-4b5e-ea51-16ea38defb29"
      },
      "source": [
        "N_space=np.linspace(20,10000) # number of simulations\n",
        "\n",
        "binomial_space=[montecarlo(T,int(x),S,r,sigma,K, \"call\") for x in N_space]\n",
        "BS_space=[BlackScholes(T,S,K,sigma,r,'call') for x in N_space]\n",
        "\n",
        "fig=plt.figure(figsize=(12,8))\n",
        "plt.plot(N_space,binomial_space,label='Monte Carlo price',c='b')\n",
        "plt.plot(N_space, BS_space,label='Black-Scholes price',c='r',ls='--')\n",
        "plt.xlabel('Number of Monte Carlo simulations',fontsize=18)\n",
        "plt.ylabel('Price',fontsize=18)\n",
        "plt.xticks(fontsize=16)\n",
        "plt.yticks(fontsize=16)\n",
        "plt.legend(fontsize=16,loc='best')"
      ],
      "execution_count": 20,
      "outputs": [
        {
          "output_type": "execute_result",
          "data": {
            "text/plain": [
              "<matplotlib.legend.Legend at 0x7fc961b54c50>"
            ]
          },
          "metadata": {
            "tags": []
          },
          "execution_count": 20
        },
        {
          "output_type": "display_data",
          "data": {
            "image/png": "[encoded data removed]",
            "text/plain": [
              "<Figure size 864x576 with 1 Axes>"
            ]
          },
          "metadata": {
            "tags": []
          }
        }
      ]
    },
    {
      "cell_type": "markdown",
      "metadata": {
        "id": "oQ_9otTvNzjU",
        "colab_type": "text"
      },
      "source": [
        "## Monte Carlo simulation (dynamic, i.e., Asian options)\n",
        "\n",
        "#### Asian options\n",
        "Let $A(0;T)$ be the average price of stock S between zero and $T$.\n",
        "\n",
        "An Asian call option pays off at T:\n",
        "$$ AC=\\max\\left(A\\left(0,T\\right)-K,0\\right). $$\n",
        "\n",
        "An Asian put option pays off at T:\n",
        "$$ AP=\\max\\left(K-A\\left(0,T\\right),0\\right). $$\n",
        "\n",
        "\n",
        "1. Asian option payoffs do not only depend on the final stock price.\n",
        "2. To price them, we need to simulate the entire path of the stock price."
      ]
    },
    {
      "cell_type": "code",
      "metadata": {
        "id": "tlSzB_CPNzjU",
        "colab_type": "code",
        "colab": {}
      },
      "source": [
        "def montecarlo_dynamic(T,N,steps,S,r,sigma,K,typeCP):\n",
        "\n",
        "    if typeCP==\"call\":\n",
        "        typeCP=1\n",
        "    else:\n",
        "        typeCP=-1\n",
        "\n",
        "    dt=np.float(T)/steps\n",
        "\n",
        "    SPath=np.zeros((steps+1,N)) # matrix of N paths\n",
        "    \n",
        "    SPath[0]=S # first value is S for all paths\n",
        "    for t in range(1,steps+1):\n",
        "        z = npr.randn(N) # random noise for all paths at time t\n",
        "        SPath[t]=SPath[t-1]*np.exp((r-0.5*sigma**2)*dt+sigma*np.sqrt(dt)*z)\n",
        "        \n",
        "    # calculate payoff at maturity\n",
        "    OptionT= np.maximum(typeCP*(SPath.mean(axis=0)-K), 0)\n",
        "    option = np.exp(-r*T)*OptionT.mean()\n",
        "    return option"
      ],
      "execution_count": 0,
      "outputs": []
    },
    {
      "cell_type": "markdown",
      "metadata": {
        "id": "jjcVShPyNzjX",
        "colab_type": "text"
      },
      "source": [
        "## Least-Squares Monte Carlo (for American options)\n",
        "\n",
        "To price American options, you need to consider early exercise: \n",
        "\n",
        "You cannot simply \"simulate\" a stock path since intermediate exercise times matter.\n",
        "\n",
        "* American options can be exercised at any moment during their life.\n",
        "* In practice, we only look at exercises at the specific steps in the tree (more like a Bermudan option).\n",
        "* You need to account for the exercise possibility at any node in the tree.\n",
        "*  The value of a (call) option is:\n",
        "\t\\begin{equation}\n",
        "\tV_{0}=\\max_{\\tau\\in\\left\\{0,\\Delta t, 2\\Delta t,....T\\right\\}} e^{-rT} \\mathbb{E}\\left[\\max\\left(S_\\tau-K,0\\right)\\right]\n",
        "\t\\end{equation}\n",
        "* That is, the value of the option is the **maximum over all possible exercise dates.**\n",
        "\n",
        "### Recursive framework\n",
        "\n",
        "* The formula before can be cast into a recursive framework. \n",
        "* At each potential exercise date $t$, the value of the option is the maximum of two choices: \n",
        "\t1.  the value of immediate exercise\n",
        "\t2.  the discounted expected value of the option at the next possible exercise moment.\n",
        "\n",
        "\n",
        "\\begin{equation*}\n",
        "\tV_{t}\\left(S_t\\right)=\\max\\left[\\max\\left(S_t-K,0\\right), e^{-r\\Delta t} \\mathbb{E}V_{t+\\Delta t}\\left(S_{t+\\Delta t}\\right)\\right]\n",
        "\t\\end{equation*}\n",
        "\n",
        "### Simplest idea:\n",
        "\n",
        "1. One can work backwards through this equation to get $V_{0}$.\n",
        "2. To get the option value at $t$, we need an \\textit{expectation} of the value at $t+1$.\n",
        "3. One solution would be to look at the value of the option on that particular path.\n",
        "4.  However, that would imply perfect foresight, i.e., not really an expectation.\n",
        "\n",
        "### Refined solution (no perfect foresight):\n",
        "\n",
        "\n",
        "1. A better solution is to regress all continuation values, across \\textbf{all paths} on functions of the stock price:\n",
        "\t\\begin{equation*}\n",
        "\tV_{t+1,i}\\left(S_{t+1,i}\\right)e^{-r\\Delta t}=\\beta_0+\\beta_1 S_{t,i} + \\beta_2 S^2_{t,i} + ... +\\text{error}\n",
        "\t\\end{equation*}\n",
        "2. The fitted values of the regression are used as the expectation.\n",
        "3.  You need to do as many regressions as steps in the tree. \n",
        "4. The number of observations is equal to the number of paths.\n",
        "5. Hence, the Least Squares Monte Carlo name of the approach."
      ]
    },
    {
      "cell_type": "markdown",
      "metadata": {
        "id": "N140v91Qba9K",
        "colab_type": "text"
      },
      "source": [
        "### Algorithm\n",
        "\n",
        "1. Define auxiliary variables"
      ]
    },
    {
      "cell_type": "code",
      "metadata": {
        "id": "AFDmbq6lbfOi",
        "colab_type": "code",
        "colab": {}
      },
      "source": [
        "if typeCP==\"call\":\n",
        "  typeCP=1\n",
        "else:\n",
        "  typeCP=-1\n",
        "  \n",
        "steps=50\n",
        "\n",
        "# possible exercise types (discrete, not continuous)  \n",
        "dt = np.float(T) / steps\n",
        "df = np.exp(-r * dt)"
      ],
      "execution_count": 0,
      "outputs": []
    },
    {
      "cell_type": "markdown",
      "metadata": {
        "id": "yDZJpOH9bw7U",
        "colab_type": "text"
      },
      "source": [
        "2. Simulate the stock price paths"
      ]
    },
    {
      "cell_type": "code",
      "metadata": {
        "id": "LhJCkDaAb18p",
        "colab_type": "code",
        "colab": {}
      },
      "source": [
        "SPath = np.zeros((steps + 1, N)) # empty path variables\n",
        "SPath[0] = S # first price is given\n",
        "\n",
        "z=npr.randn(steps,N) # generate random variables for each step and path\n",
        "for t in range(1, steps + 1): # fill stock prices using random variables\n",
        "  SPath[t] = SPath[t - 1] * np.exp((r - 0.5 * sigma ** 2) * dt + sigma * np.sqrt(dt) *z[t-1])"
      ],
      "execution_count": 0,
      "outputs": []
    },
    {
      "cell_type": "markdown",
      "metadata": {
        "id": "3H98h4NtcGij",
        "colab_type": "text"
      },
      "source": [
        "3. Compute immediate exercise values for **all** nodes in the tree."
      ]
    },
    {
      "cell_type": "code",
      "metadata": {
        "id": "HkZkdceHcKVp",
        "colab_type": "code",
        "colab": {}
      },
      "source": [
        "# case-based calculation of payoff\n",
        "h = np.maximum(typeCP*(SPath - K), 0)"
      ],
      "execution_count": 0,
      "outputs": []
    },
    {
      "cell_type": "markdown",
      "metadata": {
        "id": "lA9TtPRfcOBN",
        "colab_type": "text"
      },
      "source": [
        "4. Copy the exercise values into a **value** matrix (to not over-write them)."
      ]
    },
    {
      "cell_type": "code",
      "metadata": {
        "id": "t5-9a0MvcTfB",
        "colab_type": "code",
        "colab": {}
      },
      "source": [
        "V = np.copy(h)"
      ],
      "execution_count": 0,
      "outputs": []
    },
    {
      "cell_type": "markdown",
      "metadata": {
        "id": "ocYrk_TOcaHL",
        "colab_type": "text"
      },
      "source": [
        "5. For each level in the tree, regress discounted continuation values on stock prices polynomials:\n",
        "\n",
        "* Save the fitted continuation values of the regression ($C$);\n",
        "* If the continuation value $C$ is larger than the immediate exercise value $h$, update the value matrix with the (discounted) continuation value.\n",
        "* If the continuation value $C$ is smaller than the immediate exercise value $h$, update the value matrix with the immediate exercise value."
      ]
    },
    {
      "cell_type": "code",
      "metadata": {
        "id": "jphTJ-Q_cZXB",
        "colab_type": "code",
        "colab": {}
      },
      "source": [
        "for t in range(steps - 1, 0, -1):\n",
        "  reg = np.polyfit(SPath[t], V[t + 1] * df, 7)\n",
        "  C = np.polyval(reg, SPath[t])\n",
        "  V[t] = np.where(C > h[t], V[t + 1] * df, h[t])"
      ],
      "execution_count": 0,
      "outputs": []
    },
    {
      "cell_type": "markdown",
      "metadata": {
        "id": "vP8Dufr3czwf",
        "colab_type": "text"
      },
      "source": [
        "6. The option value is the discounted average over all paths of the continuation values at the first possible exercise moment."
      ]
    },
    {
      "cell_type": "code",
      "metadata": {
        "id": "pfdwXiayc3vt",
        "colab_type": "code",
        "colab": {}
      },
      "source": [
        "option = df * 1 / N * np.sum(V[1])"
      ],
      "execution_count": 0,
      "outputs": []
    },
    {
      "cell_type": "markdown",
      "metadata": {
        "id": "wf2gqisoc6qa",
        "colab_type": "text"
      },
      "source": [
        "### LSM in a single function"
      ]
    },
    {
      "cell_type": "code",
      "metadata": {
        "id": "ZNbQEczLNzjX",
        "colab_type": "code",
        "colab": {}
      },
      "source": [
        "def LSM_montecarlo(T,N,steps,S,r,sigma,K, typeCP):\n",
        "\n",
        "    if typeCP==\"call\":\n",
        "        typeCP=1\n",
        "    else:\n",
        "        typeCP=-1\n",
        "    \n",
        "    dt = np.float(T) / steps\n",
        "    df = np.exp(-r * dt)\n",
        "    \n",
        "    # simulation of index levels\n",
        "    SPath = np.zeros((steps + 1, N))\n",
        "    SPath[0] = S\n",
        "    z=npr.randn(steps,N)\n",
        "    for t in range(1, steps + 1):\n",
        "        SPath[t] = SPath[t - 1] * np.exp((r - 0.5 * sigma ** 2) * dt + sigma * np.sqrt(dt) *z[t-1])\n",
        "\n",
        "    # case-based calculation of payoff\n",
        "    h = np.maximum(typeCP*(SPath - K), 0)\n",
        "    # LSM algorithm\n",
        "    V = np.copy(h)\n",
        "    for t in range(steps - 1, 0, -1):\n",
        "        reg = np.polyfit(SPath[t], V[t + 1] * df, 7)\n",
        "        C = np.polyval(reg, SPath[t])\n",
        "        V[t] = np.where(C > h[t], V[t + 1] * df, h[t])\n",
        "    # MCS estimator\n",
        "    option = df * 1 / N * np.sum(V[1])\n",
        "    return option"
      ],
      "execution_count": 0,
      "outputs": []
    },
    {
      "cell_type": "markdown",
      "metadata": {
        "id": "B3-fvFDrNzjZ",
        "colab_type": "text"
      },
      "source": [
        "## Applications for exotic options"
      ]
    },
    {
      "cell_type": "markdown",
      "metadata": {
        "id": "jPjOBY4PNzja",
        "colab_type": "text"
      },
      "source": [
        "**Lookback option** A *lookback* call option pays the difference between the spot price at expiration and the minimum spot price over the term of the contract, if this difference is larger than zero. At maturity, the value of the option is:\n",
        "\n",
        "\\begin{equation}\n",
        "\\textit{Lookback}_T=\\max \\left(0, S_T-\\min_{0\\leq t \\leq T} S_t\\right).\n",
        "\\end{equation}\n",
        "\n",
        "Write a Python function to value the *lookback* call option using a **binomial tree**. \n",
        "\n",
        "1. The function takes as inputs: the stock price at $t=0$, i.e., $S_0$, the stock volatility $\\sigma$, the number of steps in the tree $N$, the risk-free rate $r$ (yearly, continuously compounded) and the maturity $T$ (in years). \n",
        "2. Use the Cox-Ross-Rubinstein model to compute the up and down steps, i.e., $u=\\exp\\left(\\sigma \\sqrt{\\frac{T}{N}}\\right)$ and $ud=1$. \n",
        "3. The output of the function is the price of the lookback option. \n",
        "4. Numerical example: S0=50, $\\sigma$=0.25, N=10, r=0.02, T=1.\n",
        "5. Can you value this option via Monte Carlo simulation of the final price $S_T$? Discuss. "
      ]
    },
    {
      "cell_type": "code",
      "metadata": {
        "id": "YaF4Jxh3Nzja",
        "colab_type": "code",
        "colab": {}
      },
      "source": [
        "def lookback(T,N,S0,r,sigma):\n",
        "\n",
        "    ### Preliminary steps\n",
        "    dt=np.float(T)/N # step size\n",
        "    u=np.exp(sigma*np.sqrt(dt)) # up and down steps\n",
        "    d=1/u\n",
        "    p=(np.exp(r*dt)-d)/(u-d) # risk-neutral probability\n",
        "    \n",
        "    # Path generator (2**N paths, N steps)\n",
        "    Paths=np.zeros([N+1,2**N]) # initialize paths\n",
        "    Paths[0,:]=S0 # first element on path is S0\n",
        "\n",
        "    for j in range(N,0,-1): # fill in all (2^N) possible paths in a N x 2^N matrix\n",
        "            temp=2**(N-j)*([1 for i in range(0,2**(j-1))],[0 for i in range(0,2**(j-1))])\n",
        "            print (temp, \"\\n\")\n",
        "            Paths[N-j+1,:]=[val for s in temp for val in s]\n",
        "            print (Paths, \"\\n\")\n",
        "\n",
        "    # risk-neutral probabilities\n",
        "    RN_Probs=p**Paths[1:].sum(axis=0)*(1-p)**(N-Paths[1:].sum(axis=0))\n",
        "\n",
        "    # fill the paths matrix with up and down steps\n",
        "    Paths[1:]=Paths[1:]*(u-d)+d\n",
        "\n",
        "    for i in range(1,np.size(Paths,axis=0)):\n",
        "        Paths[i,:]=Paths[i-1,:]*Paths[i,:]\n",
        "\n",
        "    ### Option price\n",
        "    option_path_values=Paths[-1,:]-Paths.min(axis=0) # option value for each path\n",
        "\n",
        "    option=np.dot(option_path_values,RN_Probs) # scalar product of value and path probability\n",
        "\n",
        "    return option_path_values, option"
      ],
      "execution_count": 0,
      "outputs": []
    },
    {
      "cell_type": "code",
      "metadata": {
        "id": "Zb1MPVItNzjc",
        "colab_type": "code",
        "colab": {
          "base_uri": "https://localhost:8080/",
          "height": 408
        },
        "outputId": "de8ba257-245f-4cfc-ea2a-faa5b4a247d7"
      },
      "source": [
        "lookback(1,3,100,0.01,0.25)"
      ],
      "execution_count": 35,
      "outputs": [
        {
          "output_type": "stream",
          "text": [
            "([1, 1, 1, 1], [0, 0, 0, 0]) \n",
            "\n",
            "[[100. 100. 100. 100. 100. 100. 100. 100.]\n",
            " [  1.   1.   1.   1.   0.   0.   0.   0.]\n",
            " [  0.   0.   0.   0.   0.   0.   0.   0.]\n",
            " [  0.   0.   0.   0.   0.   0.   0.   0.]] \n",
            "\n",
            "([1, 1], [0, 0], [1, 1], [0, 0]) \n",
            "\n",
            "[[100. 100. 100. 100. 100. 100. 100. 100.]\n",
            " [  1.   1.   1.   1.   0.   0.   0.   0.]\n",
            " [  1.   1.   0.   0.   1.   1.   0.   0.]\n",
            " [  0.   0.   0.   0.   0.   0.   0.   0.]] \n",
            "\n",
            "([1], [0], [1], [0], [1], [0], [1], [0]) \n",
            "\n",
            "[[100. 100. 100. 100. 100. 100. 100. 100.]\n",
            " [  1.   1.   1.   1.   0.   0.   0.   0.]\n",
            " [  1.   1.   0.   0.   1.   1.   0.   0.]\n",
            " [  1.   0.   1.   0.   1.   0.   1.   0.]] \n",
            "\n"
          ],
          "name": "stdout"
        },
        {
          "output_type": "execute_result",
          "data": {
            "text/plain": [
              "(array([54.18958056, 15.52740254, 15.52740254,  0.        , 28.96785234,\n",
              "         0.        , 11.63399289,  0.        ]), 14.46608334291325)"
            ]
          },
          "metadata": {
            "tags": []
          },
          "execution_count": 35
        }
      ]
    },
    {
      "cell_type": "markdown",
      "metadata": {
        "id": "MAYRT64zNzji",
        "colab_type": "text"
      },
      "source": [
        "**Power option** A *power* call option pays a (positive) power of the difference between the spot price at expiration and a strike price, if this difference is larger than zero. At maturity, the value of the option is:\n",
        "\\begin{equation}\n",
        "\\textit{Power}_{T,k}=\\max \\left(0, \\left[S_T-K\\right]^{k}\\right).\n",
        "\\end{equation}\n",
        "\n",
        "1. Write a Python function to value the power call option using a binomial tree. \n",
        "2. The function takes as inputs: the stock price at $t=0$, i.e., $S_0$, the stock volatility $\\sigma$, the number of steps in the tree $N$, the strike price $K$, the power coefficient $k$, the risk-free rate $r$ (yearly, continuously compounded) and the maturity $T$ (in years). \n",
        "3. Use the Cox-Ross-Rubinstein model to compute the up and down steps, i.e., $u=\\exp\\left(\\sigma \\sqrt{\\frac{T}{N}}\\right)$ and $ud=1$. \n",
        "4. The output of the function is the price of the lookback option. \n",
        "5. Numerical example: S0=50, sigma=0.25, N=10, r=0.02, T=1, K=50, k=2\n",
        "6. How would you evaluate a plain vanilla call option using the function you just created? \n",
        "7. Can you evaluate the power option using Monte Carlo simulations? Explain."
      ]
    },
    {
      "cell_type": "code",
      "metadata": {
        "id": "9Sz6TtxjNzji",
        "colab_type": "code",
        "colab": {}
      },
      "source": [
        "def power(T,N,S0,K,k,r,sigma):\n",
        "    \n",
        "    ### Preliminary steps\n",
        "    dt=np.float(T)/N # step size\n",
        "    u=np.exp(sigma*np.sqrt(dt)) # up and down steps\n",
        "    d=1/u\n",
        "    p=(np.exp(r*dt)-d)/(u-d) # risk-neutral probability\n",
        "\n",
        "    #### Path generator\n",
        "    Paths=np.zeros([N+1,2**N]) # initialize paths\n",
        "    Paths[0,:]=S0 # first element on path is S0\n",
        "\n",
        "    for j in range(N,0,-1): # fill in all (2^N) possible paths in a N x 2^N matrix\n",
        "        temp=2**(N-j)*([1 for i in range(0,2**(j-1))],[0 for i in range(0,2**(j-1))])\n",
        "        Paths[N-j+1,:]=[val for s in temp for val in s]\n",
        "\n",
        "    # risk-neutral probabilities\n",
        "    RN_Probs=p**Paths[1:].sum(axis=0)*(1-p)**(N-Paths[1:].sum(axis=0))\n",
        "\n",
        "    # fill the paths matrix with up and down steps\n",
        "    Paths[1:]=Paths[1:]*(u-d)+d\n",
        "\n",
        "    for i in range(1,np.size(Paths,axis=0)):\n",
        "        Paths[i,:]=Paths[i-1,:]*Paths[i,:]\n",
        "\n",
        "    ### Option price\n",
        "    option_path_values=np.maximum(0,(Paths[-1,:]-K)**k) # option value for each path\n",
        "\n",
        "    option=np.exp(-r*T)*np.dot(option_path_values,RN_Probs) # scalar product of value and path probability\n",
        "\n",
        "    return option_path_values, Paths, option"
      ],
      "execution_count": 0,
      "outputs": []
    },
    {
      "cell_type": "code",
      "metadata": {
        "id": "ESlpxNU0Nzjk",
        "colab_type": "code",
        "colab": {}
      },
      "source": [
        "def power2(T,N,S,K,k,r,sigma):\n",
        "\n",
        "    dt=np.float(T)/N # step size\n",
        "    u=np.exp(sigma*np.sqrt(dt)) # up and down steps\n",
        "    d=1/u\n",
        "    p=(np.exp(r*dt)-d)/(u-d) # risk-neutral probabilities\n",
        "\n",
        "    ST=np.zeros(N+1) # Final stock prices vector\n",
        "    option=np.zeros(N+1) # option price vector\n",
        "\n",
        "    for i in range(0,N+1):\n",
        "        ST[i]=S*u**(N-i)*d**i # Fill in terminal stock prices\n",
        "        option[i]=max((ST[i]-K)**k,0) # Fill in terminal option prices\n",
        "    \n",
        "    for i in range(N-1,-1,-1):\n",
        "        for j in range(0,i+1):\n",
        "            option[j]=np.exp(-r*dt)*(p*option[j]+(1-p)*option[j+1])\n",
        "\n",
        "    return option[0]"
      ],
      "execution_count": 0,
      "outputs": []
    },
    {
      "cell_type": "code",
      "metadata": {
        "id": "ZaLmxwqcNzjm",
        "colab_type": "code",
        "colab": {
          "base_uri": "https://localhost:8080/",
          "height": 34
        },
        "outputId": "60ce1d48-4d8f-4317-c42d-e39b5cd32700"
      },
      "source": [
        "power(1,5,100,150,3,0.10,0.25)[2], power2(1,5,100,150,3,0.10,0.25) # two ways to solve the same problem"
      ],
      "execution_count": 38,
      "outputs": [
        {
          "output_type": "execute_result",
          "data": {
            "text/plain": [
              "(784.3374468302424, 784.337446830242)"
            ]
          },
          "metadata": {
            "tags": []
          },
          "execution_count": 38
        }
      ]
    },
    {
      "cell_type": "code",
      "metadata": {
        "id": "np6UERtLNzjo",
        "colab_type": "code",
        "colab": {}
      },
      "source": [
        ""
      ],
      "execution_count": 0,
      "outputs": []
    }
  ]
}