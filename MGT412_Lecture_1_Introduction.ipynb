{
  "nbformat": 4,
  "nbformat_minor": 0,
  "metadata": {
    "colab": {
      "name": "MGT412_Lecture_1_Introduction.ipynb",
      "version": "0.3.2",
      "provenance": [],
      "include_colab_link": true
    },
    "language_info": {
      "codemirror_mode": {
        "name": "ipython",
        "version": 3
      },
      "file_extension": ".py",
      "mimetype": "text/x-python",
      "name": "python",
      "nbconvert_exporter": "python",
      "pygments_lexer": "ipython3",
      "version": "3.6.5"
    },
    "kernelspec": {
      "display_name": "Python 3",
      "language": "python",
      "name": "python3"
    }
  },
  "cells": [
    {
      "cell_type": "markdown",
      "metadata": {
        "id": "view-in-github",
        "colab_type": "text"
      },
      "source": [
        "<a href=\"https://colab.research.google.com/github/mgt412/course_notebooks/blob/master/MGT412_Lecture_1_Introduction.ipynb\" target=\"_parent\"><img src=\"https://colab.research.google.com/assets/colab-badge.svg\" alt=\"Open In Colab\"/></a>"
      ]
    },
    {
      "cell_type": "markdown",
      "metadata": {
        "id": "LT3OZ_BLhVaD",
        "colab_type": "text"
      },
      "source": [
        "# Python for Finance: Lecture 1 material"
      ]
    },
    {
      "cell_type": "markdown",
      "metadata": {
        "id": "YN484BCWhVaE",
        "colab_type": "text"
      },
      "source": [
        "### Mathematical and logical operators"
      ]
    },
    {
      "cell_type": "markdown",
      "metadata": {
        "id": "kUbKfAOYhVaF",
        "colab_type": "text"
      },
      "source": [
        "* Arithmetic operators (classical)"
      ]
    },
    {
      "cell_type": "code",
      "metadata": {
        "id": "Rp31bwfkhVaF",
        "colab_type": "code",
        "colab": {},
        "outputId": "c679804d-f7bc-428b-b400-022789c7383d"
      },
      "source": [
        "a=5+15 # addition\n",
        "b=5-15 # substraction\n",
        "c=5*15 # multiplication\n",
        "d=5/15 # division\n",
        "e=2**5 # power\n",
        "\n",
        "a,b,c,d,e # display all results\n",
        "\n",
        "# What is odd about the result"
      ],
      "execution_count": 0,
      "outputs": [
        {
          "output_type": "execute_result",
          "data": {
            "text/plain": [
              "(20, -10, 75, 0, 32)"
            ]
          },
          "metadata": {
            "tags": []
          },
          "execution_count": 5
        }
      ]
    },
    {
      "cell_type": "code",
      "metadata": {
        "id": "w_lOWd58hVaK",
        "colab_type": "code",
        "colab": {},
        "outputId": "4bc034d7-a172-4b43-8686-ea1909f66892"
      },
      "source": [
        "d1=5.0/15 # use float types to get correct division output\n",
        "d1"
      ],
      "execution_count": 0,
      "outputs": [
        {
          "output_type": "execute_result",
          "data": {
            "text/plain": [
              "0.3333333333333333"
            ]
          },
          "metadata": {
            "tags": []
          },
          "execution_count": 7
        }
      ]
    },
    {
      "cell_type": "markdown",
      "metadata": {
        "id": "ZXFJj2ndhVaM",
        "colab_type": "text"
      },
      "source": [
        "* Arithmetic operators (strings)"
      ]
    },
    {
      "cell_type": "code",
      "metadata": {
        "id": "fY_K9_eYhVaN",
        "colab_type": "code",
        "colab": {},
        "outputId": "0ca39d7c-268e-4824-d95d-5a09ae84ed98"
      },
      "source": [
        "\"hello\"+\" \"+\"word\", \"hi! \"*3 # arithmetic operations on strings"
      ],
      "execution_count": 0,
      "outputs": [
        {
          "output_type": "execute_result",
          "data": {
            "text/plain": [
              "('hello word', 'hi! hi! hi! ')"
            ]
          },
          "metadata": {
            "tags": []
          },
          "execution_count": 8
        }
      ]
    },
    {
      "cell_type": "markdown",
      "metadata": {
        "id": "BIN2pTG2hVaP",
        "colab_type": "text"
      },
      "source": [
        "* Assigment opperators"
      ]
    },
    {
      "cell_type": "code",
      "metadata": {
        "id": "LcvhN4cuhVaQ",
        "colab_type": "code",
        "colab": {},
        "outputId": "61431ca5-4b02-4947-f8e8-ee5a6dde5622"
      },
      "source": [
        "x=3 # variable assignment\n",
        "x+=2 # assignment and addition\n",
        "x"
      ],
      "execution_count": 0,
      "outputs": [
        {
          "output_type": "execute_result",
          "data": {
            "text/plain": [
              "5"
            ]
          },
          "metadata": {
            "tags": []
          },
          "execution_count": 9
        }
      ]
    },
    {
      "cell_type": "code",
      "metadata": {
        "id": "iiFpJBi5hVaS",
        "colab_type": "code",
        "colab": {},
        "outputId": "04e95f3f-568b-4c76-f9f6-39856f5304fd"
      },
      "source": [
        "y=4\n",
        "y*=5 # assignment and multiplication\n",
        "y"
      ],
      "execution_count": 0,
      "outputs": [
        {
          "output_type": "execute_result",
          "data": {
            "text/plain": [
              "20"
            ]
          },
          "metadata": {
            "tags": []
          },
          "execution_count": 10
        }
      ]
    },
    {
      "cell_type": "markdown",
      "metadata": {
        "id": "tlDEAL3RhVaU",
        "colab_type": "text"
      },
      "source": [
        "* Comparison operators"
      ]
    },
    {
      "cell_type": "code",
      "metadata": {
        "id": "RjATBXDNhVaV",
        "colab_type": "code",
        "colab": {},
        "outputId": "c1366fb5-f330-46e0-f09e-586164bbbc61"
      },
      "source": [
        "# Equality\n",
        "2==2"
      ],
      "execution_count": 0,
      "outputs": [
        {
          "output_type": "execute_result",
          "data": {
            "text/plain": [
              "True"
            ]
          },
          "metadata": {
            "tags": []
          },
          "execution_count": 11
        }
      ]
    },
    {
      "cell_type": "code",
      "metadata": {
        "id": "V7lJ2CuzhVaY",
        "colab_type": "code",
        "colab": {},
        "outputId": "7b116743-74cc-46cf-b191-aba7f71c64d8"
      },
      "source": [
        "# Inequality\n",
        "5!=5"
      ],
      "execution_count": 0,
      "outputs": [
        {
          "output_type": "execute_result",
          "data": {
            "text/plain": [
              "False"
            ]
          },
          "metadata": {
            "tags": []
          },
          "execution_count": 12
        }
      ]
    },
    {
      "cell_type": "code",
      "metadata": {
        "id": "L6fo_KBPhVaa",
        "colab_type": "code",
        "colab": {},
        "outputId": "2bc669d8-cd2f-4c3d-9a04-2b61b8687ee8"
      },
      "source": [
        "# Greater/smaller\n",
        "2>-5, 2>=3, 5<10, 2<5<=5"
      ],
      "execution_count": 0,
      "outputs": [
        {
          "output_type": "execute_result",
          "data": {
            "text/plain": [
              "(True, False, True, True)"
            ]
          },
          "metadata": {
            "tags": []
          },
          "execution_count": 17
        }
      ]
    },
    {
      "cell_type": "markdown",
      "metadata": {
        "id": "yimJzJ5phVad",
        "colab_type": "text"
      },
      "source": [
        "* Boolean operators"
      ]
    },
    {
      "cell_type": "code",
      "metadata": {
        "id": "XmJ3Aog_hVad",
        "colab_type": "code",
        "colab": {},
        "outputId": "ac7c50df-7685-4a78-dcc6-4912050dd2c2"
      },
      "source": [
        "(1==2) and (3+2==5)"
      ],
      "execution_count": 0,
      "outputs": [
        {
          "output_type": "execute_result",
          "data": {
            "text/plain": [
              "False"
            ]
          },
          "metadata": {
            "tags": []
          },
          "execution_count": 18
        }
      ]
    },
    {
      "cell_type": "code",
      "metadata": {
        "id": "tV4lq6wRhVaf",
        "colab_type": "code",
        "colab": {},
        "outputId": "3af9624d-e9ef-4c71-c7f1-862750cf0438"
      },
      "source": [
        "(1==2) or (3+2==5)"
      ],
      "execution_count": 0,
      "outputs": [
        {
          "output_type": "execute_result",
          "data": {
            "text/plain": [
              "True"
            ]
          },
          "metadata": {
            "tags": []
          },
          "execution_count": 19
        }
      ]
    },
    {
      "cell_type": "code",
      "metadata": {
        "id": "SP0YradvhVah",
        "colab_type": "code",
        "colab": {},
        "outputId": "8972def7-f1b0-4f96-9c02-7b67f93219e1"
      },
      "source": [
        "not(1==2)"
      ],
      "execution_count": 0,
      "outputs": [
        {
          "output_type": "execute_result",
          "data": {
            "text/plain": [
              "True"
            ]
          },
          "metadata": {
            "tags": []
          },
          "execution_count": 20
        }
      ]
    },
    {
      "cell_type": "markdown",
      "metadata": {
        "id": "EudRTJU5hVaj",
        "colab_type": "text"
      },
      "source": [
        "### Control flow"
      ]
    },
    {
      "cell_type": "code",
      "metadata": {
        "id": "TdyU0p5vhVaj",
        "colab_type": "code",
        "colab": {},
        "outputId": "4cbe60d3-890c-4ce8-9cee-e2bac1018888"
      },
      "source": [
        "# IF-ELSE statement\n",
        "stocks=100\n",
        "capital=20\n",
        "loans=100\n",
        "deposits=180\n",
        "x=-0.3\n",
        "if stocks*(1+x)+loans-deposits<0:\n",
        "    print \"bankrupt\"\n",
        "else:\n",
        "    print \"still alive\""
      ],
      "execution_count": 0,
      "outputs": [
        {
          "output_type": "stream",
          "text": [
            "bankrupt\n"
          ],
          "name": "stdout"
        }
      ]
    },
    {
      "cell_type": "code",
      "metadata": {
        "id": "V30In5iehVam",
        "colab_type": "code",
        "colab": {},
        "outputId": "0bfd31e6-f1cb-4c90-caa2-047c1bf662b6"
      },
      "source": [
        "# WHILE loop\n",
        "a=1\n",
        "n=1\n",
        "while a<100:\n",
        "    a*=n\n",
        "    n+=1\n",
        "    print a"
      ],
      "execution_count": 0,
      "outputs": [
        {
          "output_type": "stream",
          "text": [
            "1\n",
            "2\n",
            "6\n",
            "24\n",
            "120\n"
          ],
          "name": "stdout"
        }
      ]
    },
    {
      "cell_type": "code",
      "metadata": {
        "id": "k4WdAKqLhVao",
        "colab_type": "code",
        "colab": {},
        "outputId": "c4c184c3-2d08-4820-bec9-604824da09e3"
      },
      "source": [
        "# FOR loop\n",
        "names=[\"Anne\", \"Bob\",\"Thomas\",\"Daisy\"]\n",
        "for x in names:\n",
        "    print \"Hello \"+x+\"\\n\""
      ],
      "execution_count": 0,
      "outputs": [
        {
          "output_type": "stream",
          "text": [
            "Hello Anne\n",
            "\n",
            "Hello Bob\n",
            "\n",
            "Hello Thomas\n",
            "\n",
            "Hello Daisy\n",
            "\n"
          ],
          "name": "stdout"
        }
      ]
    },
    {
      "cell_type": "markdown",
      "metadata": {
        "id": "0jjVThjFhVar",
        "colab_type": "text"
      },
      "source": [
        "### User-defined functions"
      ]
    },
    {
      "cell_type": "code",
      "metadata": {
        "collapsed": true,
        "id": "H0A5EyljhVar",
        "colab_type": "code",
        "colab": {}
      },
      "source": [
        "# Sign of a function\n",
        "def sign(x):\n",
        "    if x>0:\n",
        "        return 1\n",
        "    elif x<=0:\n",
        "        return -1"
      ],
      "execution_count": 0,
      "outputs": []
    },
    {
      "cell_type": "markdown",
      "metadata": {
        "id": "NWZkddwAhVau",
        "colab_type": "text"
      },
      "source": [
        "**Global and local variables**"
      ]
    },
    {
      "cell_type": "code",
      "metadata": {
        "id": "6769bVOvhVau",
        "colab_type": "code",
        "colab": {}
      },
      "source": [
        "x=5\n",
        "def sum1(y): # global x\n",
        "    print x+y\n",
        "def sum2(x,y): # local x\n",
        "    print x+y"
      ],
      "execution_count": 0,
      "outputs": []
    },
    {
      "cell_type": "markdown",
      "metadata": {
        "id": "oY8KLeZMhVaw",
        "colab_type": "text"
      },
      "source": [
        "## Exercise: What does this function do?"
      ]
    },
    {
      "cell_type": "code",
      "metadata": {
        "id": "uJZv4PH3hVaw",
        "colab_type": "code",
        "colab": {}
      },
      "source": [
        "def mysteryfunction(x,tol):\n",
        "    lower=0.0\n",
        "    upper=x\n",
        "    temp=0.5*(lower+upper)\n",
        "    while (abs(x-temp*temp)>tol):\n",
        "        if temp*temp>x:\n",
        "            upper=temp\n",
        "        else:\n",
        "            lower=temp\n",
        "        temp=(upper+lower)*0.5\n",
        "    return temp"
      ],
      "execution_count": 0,
      "outputs": []
    },
    {
      "cell_type": "markdown",
      "metadata": {
        "id": "U84pbg2lhVay",
        "colab_type": "text"
      },
      "source": [
        "### Data types in Python"
      ]
    },
    {
      "cell_type": "code",
      "metadata": {
        "id": "k0C_JGFHhVaz",
        "colab_type": "code",
        "colab": {},
        "outputId": "c8753ba1-a1a2-4de4-d615-a09e28c43973"
      },
      "source": [
        "a=10\n",
        "type(a), a/4"
      ],
      "execution_count": 0,
      "outputs": [
        {
          "output_type": "execute_result",
          "data": {
            "text/plain": [
              "(int, 2)"
            ]
          },
          "metadata": {
            "tags": []
          },
          "execution_count": 38
        }
      ]
    },
    {
      "cell_type": "code",
      "metadata": {
        "id": "f2i2Ci4ahVa1",
        "colab_type": "code",
        "colab": {},
        "outputId": "bf60adbc-fd83-46ed-bd42-98634cd7fa9c"
      },
      "source": [
        "b=0.35\n",
        "type(b), b+0.1"
      ],
      "execution_count": 0,
      "outputs": [
        {
          "output_type": "execute_result",
          "data": {
            "text/plain": [
              "(float, 0.44999999999999996)"
            ]
          },
          "metadata": {
            "tags": []
          },
          "execution_count": 37
        }
      ]
    },
    {
      "cell_type": "code",
      "metadata": {
        "id": "ZJZ9MDWfhVa3",
        "colab_type": "code",
        "colab": {},
        "outputId": "6651518e-a88e-4744-88b4-e1800060018d"
      },
      "source": [
        "c=\"string type\"\n",
        "type(c)"
      ],
      "execution_count": 0,
      "outputs": [
        {
          "output_type": "execute_result",
          "data": {
            "text/plain": [
              "str"
            ]
          },
          "metadata": {
            "tags": []
          },
          "execution_count": 47
        }
      ]
    },
    {
      "cell_type": "code",
      "metadata": {
        "id": "aCEgCEXghVa5",
        "colab_type": "code",
        "colab": {},
        "outputId": "2f221385-5040-4a25-e1ae-5831bcb40120"
      },
      "source": [
        "# Examples of string methods\n",
        "c.capitalize(), c.replace('st','b'), c.split(\" \")"
      ],
      "execution_count": 0,
      "outputs": [
        {
          "output_type": "execute_result",
          "data": {
            "text/plain": [
              "('String type', 'bring type', ['string', 'type'])"
            ]
          },
          "metadata": {
            "tags": []
          },
          "execution_count": 50
        }
      ]
    },
    {
      "cell_type": "markdown",
      "metadata": {
        "id": "rXf9fB-RhVa9",
        "colab_type": "text"
      },
      "source": [
        "* tuples"
      ]
    },
    {
      "cell_type": "code",
      "metadata": {
        "id": "BJXvv7eYhVa-",
        "colab_type": "code",
        "colab": {},
        "outputId": "63fdb46a-65e9-4b1c-9124-26dc8c4fbaea"
      },
      "source": [
        "t=(1,2.5,\"data\")\n",
        "t.count(\"data\"), t.index(1)"
      ],
      "execution_count": 0,
      "outputs": [
        {
          "output_type": "execute_result",
          "data": {
            "text/plain": [
              "(1, 0)"
            ]
          },
          "metadata": {
            "tags": []
          },
          "execution_count": 52
        }
      ]
    },
    {
      "cell_type": "markdown",
      "metadata": {
        "id": "5Dip70szhVbA",
        "colab_type": "text"
      },
      "source": [
        "* list"
      ]
    },
    {
      "cell_type": "code",
      "metadata": {
        "id": "hTOnjuo7hVbB",
        "colab_type": "code",
        "colab": {},
        "outputId": "67452447-1dfb-423c-bc03-f124448bb2ed"
      },
      "source": [
        "l=[1,2.5,\"data\"]\n",
        "l.append([4,3]) # append at the end\n",
        "l"
      ],
      "execution_count": 0,
      "outputs": [
        {
          "output_type": "execute_result",
          "data": {
            "text/plain": [
              "[1, 2.5, 'data', [4, 3]]"
            ]
          },
          "metadata": {
            "tags": []
          },
          "execution_count": 62
        }
      ]
    },
    {
      "cell_type": "code",
      "metadata": {
        "id": "k-vlWStfhVbF",
        "colab_type": "code",
        "colab": {},
        "outputId": "faadf424-db29-49be-9cc5-61265f1bc93d"
      },
      "source": [
        "l.insert(1,\"insert\") # insert before index\n",
        "l"
      ],
      "execution_count": 0,
      "outputs": [
        {
          "output_type": "execute_result",
          "data": {
            "text/plain": [
              "[1, 'insert', 2.5, 'data', [4, 3]]"
            ]
          },
          "metadata": {
            "tags": []
          },
          "execution_count": 63
        }
      ]
    },
    {
      "cell_type": "code",
      "metadata": {
        "id": "RUUF6ZkQhVbH",
        "colab_type": "code",
        "colab": {},
        "outputId": "76e645ab-330d-458e-f350-4804959a9a67"
      },
      "source": [
        "l.remove(2.5) # remove first occurence\n",
        "l"
      ],
      "execution_count": 0,
      "outputs": [
        {
          "output_type": "execute_result",
          "data": {
            "text/plain": [
              "[1, 'insert', 'data', [4, 3]]"
            ]
          },
          "metadata": {
            "tags": []
          },
          "execution_count": 64
        }
      ]
    },
    {
      "cell_type": "code",
      "metadata": {
        "id": "ciY7mPFChVbI",
        "colab_type": "code",
        "colab": {},
        "outputId": "7363f778-b4fb-4557-9f7a-bd7f01823b41"
      },
      "source": [
        "l[1:3] # slice a list"
      ],
      "execution_count": 0,
      "outputs": [
        {
          "output_type": "execute_result",
          "data": {
            "text/plain": [
              "['insert', 'data']"
            ]
          },
          "metadata": {
            "tags": []
          },
          "execution_count": 67
        }
      ]
    },
    {
      "cell_type": "markdown",
      "metadata": {
        "id": "Svw5wUhyhVbK",
        "colab_type": "text"
      },
      "source": [
        "* set"
      ]
    },
    {
      "cell_type": "code",
      "metadata": {
        "id": "zNUPKohRhVbL",
        "colab_type": "code",
        "colab": {}
      },
      "source": [
        "s1=set(['a','b','c','d'])\n",
        "s2=set(['e','b','c','f'])"
      ],
      "execution_count": 0,
      "outputs": []
    },
    {
      "cell_type": "code",
      "metadata": {
        "id": "ZlLSREcChVbN",
        "colab_type": "code",
        "colab": {},
        "outputId": "4109dd83-ad82-43c3-fc59-f71e9e88004a"
      },
      "source": [
        "s1.union(s2) # union"
      ],
      "execution_count": 0,
      "outputs": [
        {
          "output_type": "execute_result",
          "data": {
            "text/plain": [
              "{'a', 'b', 'c', 'd', 'e', 'f'}"
            ]
          },
          "metadata": {
            "tags": []
          },
          "execution_count": 70
        }
      ]
    },
    {
      "cell_type": "code",
      "metadata": {
        "id": "f9ISzwS2hVbP",
        "colab_type": "code",
        "colab": {},
        "outputId": "b6c0b25d-3727-42ef-a0b3-fde8f12ad5d9"
      },
      "source": [
        "s1.intersection(s2) # intersection"
      ],
      "execution_count": 0,
      "outputs": [
        {
          "output_type": "execute_result",
          "data": {
            "text/plain": [
              "{'b', 'c'}"
            ]
          },
          "metadata": {
            "tags": []
          },
          "execution_count": 71
        }
      ]
    },
    {
      "cell_type": "code",
      "metadata": {
        "id": "dkSo_bY3hVbS",
        "colab_type": "code",
        "colab": {},
        "outputId": "8a9e359a-ca96-496d-a0d4-c3a5866e5b72"
      },
      "source": [
        "s1.difference(s2) # set difference"
      ],
      "execution_count": 0,
      "outputs": [
        {
          "output_type": "execute_result",
          "data": {
            "text/plain": [
              "{'a', 'd'}"
            ]
          },
          "metadata": {
            "tags": []
          },
          "execution_count": 72
        }
      ]
    },
    {
      "cell_type": "code",
      "metadata": {
        "id": "sqaRSW4BhVbU",
        "colab_type": "code",
        "colab": {},
        "outputId": "0e21113f-de0b-4144-b280-937d5d9f9616"
      },
      "source": [
        "s1.symmetric_difference(s2) # symmetric difference (union-intersection)"
      ],
      "execution_count": 0,
      "outputs": [
        {
          "output_type": "execute_result",
          "data": {
            "text/plain": [
              "{'a', 'd', 'e', 'f'}"
            ]
          },
          "metadata": {
            "tags": []
          },
          "execution_count": 73
        }
      ]
    },
    {
      "cell_type": "markdown",
      "metadata": {
        "id": "AgNeQVQChVbW",
        "colab_type": "text"
      },
      "source": [
        "* Working with matrices: List arrays"
      ]
    },
    {
      "cell_type": "code",
      "metadata": {
        "id": "A3hNFz1lhVbX",
        "colab_type": "code",
        "colab": {},
        "outputId": "a6705b7d-f114-43e5-808d-8a59808f4e60"
      },
      "source": [
        "v=[0.5,0.75,1.0,1.5,2.0]\n",
        "m=[v,v,v]\n",
        "m"
      ],
      "execution_count": 0,
      "outputs": [
        {
          "output_type": "execute_result",
          "data": {
            "text/plain": [
              "[[0.5, 0.75, 1.0, 1.5, 2.0],\n",
              " [0.5, 0.75, 1.0, 1.5, 2.0],\n",
              " [0.5, 0.75, 1.0, 1.5, 2.0]]"
            ]
          },
          "metadata": {
            "tags": []
          },
          "execution_count": 75
        }
      ]
    },
    {
      "cell_type": "code",
      "metadata": {
        "id": "jFteeRlOhVbZ",
        "colab_type": "code",
        "colab": {},
        "outputId": "454140e1-dc8e-4261-ecb7-df9c2f708209"
      },
      "source": [
        "v[0]=-2 # list arrays work by reference pointers (changes are copied across rows)\n",
        "m"
      ],
      "execution_count": 0,
      "outputs": [
        {
          "output_type": "execute_result",
          "data": {
            "text/plain": [
              "[[-2, 0.75, 1.0, 1.5, 2.0],\n",
              " [-2, 0.75, 1.0, 1.5, 2.0],\n",
              " [-2, 0.75, 1.0, 1.5, 2.0]]"
            ]
          },
          "metadata": {
            "tags": []
          },
          "execution_count": 76
        }
      ]
    },
    {
      "cell_type": "markdown",
      "metadata": {
        "id": "sJ7yT7BshVbb",
        "colab_type": "text"
      },
      "source": [
        "* Numpy arrays"
      ]
    },
    {
      "cell_type": "code",
      "metadata": {
        "id": "nU3Y5O6vhVbb",
        "colab_type": "code",
        "colab": {}
      },
      "source": [
        "import numpy as np\n",
        "v1=np.array([0.5,0.75,1.0,1.5,2.0]) # ndarray object"
      ],
      "execution_count": 0,
      "outputs": []
    },
    {
      "cell_type": "code",
      "metadata": {
        "id": "6Owmji7uhVbe",
        "colab_type": "code",
        "colab": {},
        "outputId": "24567336-d898-486c-8c6d-5a4880ed5af3"
      },
      "source": [
        "# Operations on arrays\n",
        "v1.sum(), v1.std(), v1.cumsum(), v1*2, v1**2"
      ],
      "execution_count": 0,
      "outputs": [
        {
          "output_type": "execute_result",
          "data": {
            "text/plain": [
              "(5.75,\n",
              " 0.53851648071345037,\n",
              " array([ 0.5 ,  1.25,  2.25,  3.75,  5.75]),\n",
              " array([ 1. ,  1.5,  2. ,  3. ,  4. ]),\n",
              " array([ 0.25  ,  0.5625,  1.    ,  2.25  ,  4.    ]))"
            ]
          },
          "metadata": {
            "tags": []
          },
          "execution_count": 79
        }
      ]
    },
    {
      "cell_type": "code",
      "metadata": {
        "id": "KGWIa-C1hVbf",
        "colab_type": "code",
        "colab": {},
        "outputId": "a6d683b4-7167-4cc6-cab3-c22935be092e"
      },
      "source": [
        "# Array matrices\n",
        "m1=np.array([v1,v1*2])\n",
        "m1"
      ],
      "execution_count": 0,
      "outputs": [
        {
          "output_type": "execute_result",
          "data": {
            "text/plain": [
              "array([[ 0.5 ,  0.75,  1.  ,  1.5 ,  2.  ],\n",
              "       [ 1.  ,  1.5 ,  2.  ,  3.  ,  4.  ]])"
            ]
          },
          "metadata": {
            "tags": []
          },
          "execution_count": 81
        }
      ]
    },
    {
      "cell_type": "code",
      "metadata": {
        "id": "AtbIKi-KhVbj",
        "colab_type": "code",
        "colab": {},
        "outputId": "5e79f5c6-b0c0-4661-f6b2-ca4741ba4f38"
      },
      "source": [
        "# Indexing\n",
        "m1[0,2]"
      ],
      "execution_count": 0,
      "outputs": [
        {
          "output_type": "execute_result",
          "data": {
            "text/plain": [
              "1.0"
            ]
          },
          "metadata": {
            "tags": []
          },
          "execution_count": 82
        }
      ]
    },
    {
      "cell_type": "code",
      "metadata": {
        "id": "o-yDLQT8hVbm",
        "colab_type": "code",
        "colab": {},
        "outputId": "01f28fc3-a93f-4f12-e0df-887117dc413b"
      },
      "source": [
        "# Column sum\n",
        "m1.sum(axis=0)"
      ],
      "execution_count": 0,
      "outputs": [
        {
          "output_type": "execute_result",
          "data": {
            "text/plain": [
              "array([ 1.5 ,  2.25,  3.  ,  4.5 ,  6.  ])"
            ]
          },
          "metadata": {
            "tags": []
          },
          "execution_count": 83
        }
      ]
    },
    {
      "cell_type": "code",
      "metadata": {
        "id": "o8L7VupThVbo",
        "colab_type": "code",
        "colab": {},
        "outputId": "593d8cf7-fb26-48c3-9de9-0e635c5117dc"
      },
      "source": [
        "# Initializing a matrix (multi-dimensional)\n",
        "np.zeros((2,3,5),dtype='f',order='C') # order: column-wise is F, row-wise is C"
      ],
      "execution_count": 0,
      "outputs": [
        {
          "output_type": "execute_result",
          "data": {
            "text/plain": [
              "array([[[ 0.,  0.,  0.,  0.,  0.],\n",
              "        [ 0.,  0.,  0.,  0.,  0.],\n",
              "        [ 0.,  0.,  0.,  0.,  0.]],\n",
              "\n",
              "       [[ 0.,  0.,  0.,  0.,  0.],\n",
              "        [ 0.,  0.,  0.,  0.,  0.],\n",
              "        [ 0.,  0.,  0.,  0.,  0.]]], dtype=float32)"
            ]
          },
          "metadata": {
            "tags": []
          },
          "execution_count": 84
        }
      ]
    },
    {
      "cell_type": "code",
      "metadata": {
        "id": "Q8XdHXzlhVbt",
        "colab_type": "code",
        "colab": {},
        "outputId": "f2023fc5-b415-4265-8e9f-018339eb0fe9"
      },
      "source": [
        "np.ones((2,3,5),dtype='f',order='C') # order: column-wise is F, row-wise is C"
      ],
      "execution_count": 0,
      "outputs": [
        {
          "output_type": "execute_result",
          "data": {
            "text/plain": [
              "array([[[ 1.,  1.,  1.,  1.,  1.],\n",
              "        [ 1.,  1.,  1.,  1.,  1.],\n",
              "        [ 1.,  1.,  1.,  1.,  1.]],\n",
              "\n",
              "       [[ 1.,  1.,  1.,  1.,  1.],\n",
              "        [ 1.,  1.,  1.,  1.,  1.],\n",
              "        [ 1.,  1.,  1.,  1.,  1.]]], dtype=float32)"
            ]
          },
          "metadata": {
            "tags": []
          },
          "execution_count": 85
        }
      ]
    },
    {
      "cell_type": "code",
      "metadata": {
        "id": "V93x0RnahVbv",
        "colab_type": "code",
        "colab": {},
        "outputId": "b960c9ae-6c91-468e-c5f0-cb91500300c7"
      },
      "source": [
        "# Operation on matrices\n",
        "m1.ravel()"
      ],
      "execution_count": 0,
      "outputs": [
        {
          "output_type": "execute_result",
          "data": {
            "text/plain": [
              "array([ 0.5 ,  0.75,  1.  ,  1.5 ,  2.  ,  1.  ,  1.5 ,  2.  ,  3.  ,  4.  ])"
            ]
          },
          "metadata": {
            "tags": []
          },
          "execution_count": 86
        }
      ]
    },
    {
      "cell_type": "code",
      "metadata": {
        "id": "_ysGTKiUhVbx",
        "colab_type": "code",
        "colab": {},
        "outputId": "87d577e0-7b7c-42eb-832f-dca4987d792f"
      },
      "source": [
        "m1.shape"
      ],
      "execution_count": 0,
      "outputs": [
        {
          "output_type": "execute_result",
          "data": {
            "text/plain": [
              "(2L, 5L)"
            ]
          },
          "metadata": {
            "tags": []
          },
          "execution_count": 90
        }
      ]
    },
    {
      "cell_type": "code",
      "metadata": {
        "id": "WdCQR0RrhVby",
        "colab_type": "code",
        "colab": {},
        "outputId": "2b316277-e070-4f0b-ef14-a7f26c94f55c"
      },
      "source": [
        "m1.reshape(5,-1) # -1 is \"default\""
      ],
      "execution_count": 0,
      "outputs": [
        {
          "output_type": "execute_result",
          "data": {
            "text/plain": [
              "array([[ 0.5 ,  0.75],\n",
              "       [ 1.  ,  1.5 ],\n",
              "       [ 2.  ,  1.  ],\n",
              "       [ 1.5 ,  2.  ],\n",
              "       [ 3.  ,  4.  ]])"
            ]
          },
          "metadata": {
            "tags": []
          },
          "execution_count": 91
        }
      ]
    },
    {
      "cell_type": "code",
      "metadata": {
        "id": "dBZr_nTVhVb2",
        "colab_type": "code",
        "colab": {},
        "outputId": "78d1cddb-9628-4882-e5df-8309ff6a14df"
      },
      "source": [
        "np.vstack((m1,m1)) # stack matrices on top"
      ],
      "execution_count": 0,
      "outputs": [
        {
          "output_type": "execute_result",
          "data": {
            "text/plain": [
              "array([[ 0.5 ,  0.75,  1.  ,  1.5 ,  2.  ],\n",
              "       [ 1.  ,  1.5 ,  2.  ,  3.  ,  4.  ],\n",
              "       [ 0.5 ,  0.75,  1.  ,  1.5 ,  2.  ],\n",
              "       [ 1.  ,  1.5 ,  2.  ,  3.  ,  4.  ]])"
            ]
          },
          "metadata": {
            "tags": []
          },
          "execution_count": 97
        }
      ]
    },
    {
      "cell_type": "code",
      "metadata": {
        "id": "ihoblvUfhVb4",
        "colab_type": "code",
        "colab": {},
        "outputId": "e00ecf94-6457-49e1-fbb0-ba4240243619"
      },
      "source": [
        "np.hstack((m1,m1)) # stack matrices side by side"
      ],
      "execution_count": 0,
      "outputs": [
        {
          "output_type": "execute_result",
          "data": {
            "text/plain": [
              "array([[ 0.5 ,  0.75,  1.  ,  1.5 ,  2.  ,  0.5 ,  0.75,  1.  ,  1.5 ,  2.  ],\n",
              "       [ 1.  ,  1.5 ,  2.  ,  3.  ,  4.  ,  1.  ,  1.5 ,  2.  ,  3.  ,  4.  ]])"
            ]
          },
          "metadata": {
            "tags": []
          },
          "execution_count": 98
        }
      ]
    },
    {
      "cell_type": "markdown",
      "metadata": {
        "id": "4-RnPvw6hVb8",
        "colab_type": "text"
      },
      "source": [
        "* Vectorization"
      ]
    },
    {
      "cell_type": "code",
      "metadata": {
        "id": "dGZXdPL1hVb8",
        "colab_type": "code",
        "colab": {}
      },
      "source": [
        "v20=np.array([2,3,5])\n",
        "v21=np.array([0.5,0.6,0.2])"
      ],
      "execution_count": 0,
      "outputs": []
    },
    {
      "cell_type": "code",
      "metadata": {
        "id": "wTj29dpMhVb-",
        "colab_type": "code",
        "colab": {},
        "outputId": "fe7ce49a-bdec-4b64-913e-d6b6f988d933"
      },
      "source": [
        "v20+v21"
      ],
      "execution_count": 0,
      "outputs": [
        {
          "output_type": "execute_result",
          "data": {
            "text/plain": [
              "array([ 2.5,  3.6,  5.2])"
            ]
          },
          "metadata": {
            "tags": []
          },
          "execution_count": 101
        }
      ]
    },
    {
      "cell_type": "code",
      "metadata": {
        "id": "NOTp8P-VhVcA",
        "colab_type": "code",
        "colab": {},
        "outputId": "8ee9fdc4-a633-45b1-e86f-f8db44f57870"
      },
      "source": [
        "2*v20+3 # broadcasting scalars"
      ],
      "execution_count": 0,
      "outputs": [
        {
          "output_type": "execute_result",
          "data": {
            "text/plain": [
              "array([ 7,  9, 13])"
            ]
          },
          "metadata": {
            "tags": []
          },
          "execution_count": 102
        }
      ]
    },
    {
      "cell_type": "markdown",
      "metadata": {
        "id": "Gz3lqxQDhVcC",
        "colab_type": "text"
      },
      "source": [
        "### Numpy functions"
      ]
    },
    {
      "cell_type": "code",
      "metadata": {
        "id": "kNBgcNFNhVcC",
        "colab_type": "code",
        "colab": {},
        "outputId": "e9c5dcde-014b-4d46-f467-7bcb3cd8625e"
      },
      "source": [
        "np.dot(v20,v21) # scalar product"
      ],
      "execution_count": 0,
      "outputs": [
        {
          "output_type": "execute_result",
          "data": {
            "text/plain": [
              "3.7999999999999998"
            ]
          },
          "metadata": {
            "tags": []
          },
          "execution_count": 103
        }
      ]
    },
    {
      "cell_type": "code",
      "metadata": {
        "id": "Ieawe_xxhVcF",
        "colab_type": "code",
        "colab": {},
        "outputId": "3f0af0e3-0e98-42db-f865-ff62ced3f1e1"
      },
      "source": [
        "m2=np.ones((3,3))\n",
        "np.linalg.det(m2) # determinant"
      ],
      "execution_count": 0,
      "outputs": [
        {
          "output_type": "execute_result",
          "data": {
            "text/plain": [
              "0.0"
            ]
          },
          "metadata": {
            "tags": []
          },
          "execution_count": 106
        }
      ]
    },
    {
      "cell_type": "code",
      "metadata": {
        "id": "oHAuAWY9hVcG",
        "colab_type": "code",
        "colab": {},
        "outputId": "5f1cd77d-58bd-4803-c70a-04b7bcc431a9"
      },
      "source": [
        "m3=np.array([[2,5],[4,0]])\n",
        "v3=np.array([0,3])\n",
        "np.linalg.det(m3), np.linalg.solve(m3,v3), np.linalg.eig(m3) # matrix algebra functions"
      ],
      "execution_count": 0,
      "outputs": [
        {
          "output_type": "execute_result",
          "data": {
            "text/plain": [
              "(-19.999999999999996,\n",
              " array([ 0.75, -0.3 ]),\n",
              " (array([ 5.58257569, -3.58257569]), array([[ 0.81287544, -0.66717004],\n",
              "         [ 0.58243756,  0.74490545]])))"
            ]
          },
          "metadata": {
            "tags": []
          },
          "execution_count": 120
        }
      ]
    },
    {
      "cell_type": "code",
      "metadata": {
        "id": "2OQTXpQQhVcI",
        "colab_type": "code",
        "colab": {},
        "outputId": "1f8586fe-67f8-40da-99a7-c906f8717446"
      },
      "source": [
        "np.sin(np.pi), np.cos(np.pi) # trigonometric"
      ],
      "execution_count": 0,
      "outputs": [
        {
          "output_type": "execute_result",
          "data": {
            "text/plain": [
              "(1.2246467991473532e-16, -1.0)"
            ]
          },
          "metadata": {
            "tags": []
          },
          "execution_count": 108
        }
      ]
    },
    {
      "cell_type": "code",
      "metadata": {
        "id": "2GGIhv7JhVcL",
        "colab_type": "code",
        "colab": {},
        "outputId": "b7248eb2-3acf-4597-9f8f-14e2e096e7f6"
      },
      "source": [
        "np.exp(1), np.log(10), np.sqrt(225) # exponential, log, square roots"
      ],
      "execution_count": 0,
      "outputs": [
        {
          "output_type": "execute_result",
          "data": {
            "text/plain": [
              "(2.7182818284590451, 2.3025850929940459, 15.0)"
            ]
          },
          "metadata": {
            "tags": []
          },
          "execution_count": 110
        }
      ]
    },
    {
      "cell_type": "code",
      "metadata": {
        "id": "1bWh2AglhVcM",
        "colab_type": "code",
        "colab": {},
        "outputId": "7105a5de-cbc3-408c-97ef-5016d1bc76b9"
      },
      "source": [
        "np.mean(v21), np.median(v21), np.std(v21), np.corrcoef(v20,v21) # statistical operators"
      ],
      "execution_count": 0,
      "outputs": [
        {
          "output_type": "execute_result",
          "data": {
            "text/plain": [
              "(0.43333333333333335,\n",
              " 0.5,\n",
              " 0.16996731711975949,\n",
              " array([[ 1.        , -0.83862787],\n",
              "        [-0.83862787,  1.        ]]))"
            ]
          },
          "metadata": {
            "tags": []
          },
          "execution_count": 113
        }
      ]
    },
    {
      "cell_type": "code",
      "metadata": {
        "id": "QEwiuM2EhVcQ",
        "colab_type": "code",
        "colab": {}
      },
      "source": [
        ""
      ],
      "execution_count": 0,
      "outputs": []
    }
  ]
}