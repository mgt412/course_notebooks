{
  "nbformat": 4,
  "nbformat_minor": 0,
  "metadata": {
    "colab": {
      "name": "MGT412_Lecture_1_Introduction.ipynb",
      "version": "0.3.2",
      "provenance": [],
      "collapsed_sections": [],
      "include_colab_link": true
    },
    "language_info": {
      "codemirror_mode": {
        "name": "ipython",
        "version": 3
      },
      "file_extension": ".py",
      "mimetype": "text/x-python",
      "name": "python",
      "nbconvert_exporter": "python",
      "pygments_lexer": "ipython3",
      "version": "3.6.5"
    },
    "kernelspec": {
      "display_name": "Python 3",
      "language": "python",
      "name": "python3"
    }
  },
  "cells": [
    {
      "cell_type": "markdown",
      "metadata": {
        "id": "view-in-github",
        "colab_type": "text"
      },
      "source": [
        "<a href=\"https://colab.research.google.com/github/mgt412/course_notebooks/blob/master/MGT412_Lecture_1_Introduction.ipynb\" target=\"_parent\"><img src=\"https://colab.research.google.com/assets/colab-badge.svg\" alt=\"Open In Colab\"/></a>"
      ]
    },
    {
      "cell_type": "markdown",
      "metadata": {
        "id": "LT3OZ_BLhVaD",
        "colab_type": "text"
      },
      "source": [
        "# Lecture 1: Introduction to Python Programming"
      ]
    },
    {
      "cell_type": "markdown",
      "metadata": {
        "id": "Ja1GC-42lSjP",
        "colab_type": "text"
      },
      "source": [
        "## Why Python?\n",
        "1. *Open source:* free, powerful, and a very dynamic community to develop new packages.\n",
        "2. *Cross-platform*: there are versions for Windows, OS X, and Linux.\n",
        "3. *Easy syntax*: Indentation replaces cumbersome code markers, such as { and }\n",
        "4. *Intuitive language*: Closest to mathematical language and pseudocode.\n",
        "5. *Dynamically typed*: One does not need to declare variable types statically (some do not like this!)\n",
        "6. *Interactive data analytics*: immediate feedback and intuitive data processing in IPython."
      ]
    },
    {
      "cell_type": "markdown",
      "metadata": {
        "id": "P33w83twoiWh",
        "colab_type": "text"
      },
      "source": [
        "## Python Installation and Environments"
      ]
    },
    {
      "cell_type": "markdown",
      "metadata": {
        "id": "T70TVmjKonJP",
        "colab_type": "text"
      },
      "source": [
        ">### Install on your own machine (Windows, Mac,...)\n",
        "\n",
        "1.   Anaconda: One of the two major distributions of Python, along with Canopy (Enthought).\n",
        "2.  Includes all the important packages for this course (any many others).\n",
        "3.  Download (free! and cross-platform) from https://www.anaconda.com/distribution/ (select Python 3.7)\n",
        "\n",
        ">### Run Python in the cloud\n",
        "\n",
        "1.  For most course applications this term, we will use Google Colab platform.\n",
        "2.  You can run Python code and notebooks without having to install anything!\n",
        "3.  For assignments, test: always download the notebook as *.ipynb. \n",
        "\n"
      ]
    },
    {
      "cell_type": "markdown",
      "metadata": {
        "id": "YN484BCWhVaE",
        "colab_type": "text"
      },
      "source": [
        "## Basics: Mathematical and logical operators"
      ]
    },
    {
      "cell_type": "markdown",
      "metadata": {
        "id": "BIN2pTG2hVaP",
        "colab_type": "text"
      },
      "source": [
        ">> #### Assigment opperators"
      ]
    },
    {
      "cell_type": "code",
      "metadata": {
        "id": "LcvhN4cuhVaQ",
        "colab_type": "code",
        "colab": {
          "base_uri": "https://localhost:8080/",
          "height": 34
        },
        "outputId": "000935b8-35fb-4558-ddcb-f14d818b4ac1"
      },
      "source": [
        "x=3 # variable assignment\n",
        "x+=2 # assignment and addition\n",
        "print (\"The value of x is\", x)"
      ],
      "execution_count": 5,
      "outputs": [
        {
          "output_type": "stream",
          "text": [
            "The value of x is 5\n"
          ],
          "name": "stdout"
        }
      ]
    },
    {
      "cell_type": "code",
      "metadata": {
        "id": "iiFpJBi5hVaS",
        "colab_type": "code",
        "colab": {
          "base_uri": "https://localhost:8080/",
          "height": 34
        },
        "outputId": "e90f42d7-948b-4457-bf36-d8d8a4080db2"
      },
      "source": [
        "y=4\n",
        "y*=5 # assignment and multiplication\n",
        "print (\"The value of y is\", y)"
      ],
      "execution_count": 7,
      "outputs": [
        {
          "output_type": "stream",
          "text": [
            "The value of y is 20\n"
          ],
          "name": "stdout"
        }
      ]
    },
    {
      "cell_type": "markdown",
      "metadata": {
        "id": "kUbKfAOYhVaF",
        "colab_type": "text"
      },
      "source": [
        ">>  #### Arithmetic operators (classical)\n",
        "\n",
        "\n"
      ]
    },
    {
      "cell_type": "code",
      "metadata": {
        "id": "Rp31bwfkhVaF",
        "colab_type": "code",
        "colab": {
          "base_uri": "https://localhost:8080/",
          "height": 34
        },
        "outputId": "2f4657f3-1fa3-4640-f2b0-5450f0c46191"
      },
      "source": [
        "a=5+15 # addition\n",
        "b=5-15 # substraction\n",
        "c=5*15 # multiplication\n",
        "d=5/15 # division\n",
        "e=a**d # power\n",
        "\n",
        "a,b,c,d,e # display all results"
      ],
      "execution_count": 10,
      "outputs": [
        {
          "output_type": "execute_result",
          "data": {
            "text/plain": [
              "(20, -10, 75, 0.3333333333333333, 2.7144176165949063)"
            ]
          },
          "metadata": {
            "tags": []
          },
          "execution_count": 10
        }
      ]
    },
    {
      "cell_type": "markdown",
      "metadata": {
        "id": "ZXFJj2ndhVaM",
        "colab_type": "text"
      },
      "source": [
        ">> #### Arithmetic operators (strings)"
      ]
    },
    {
      "cell_type": "code",
      "metadata": {
        "id": "fY_K9_eYhVaN",
        "colab_type": "code",
        "colab": {
          "base_uri": "https://localhost:8080/",
          "height": 51
        },
        "outputId": "d5be48d8-5b60-47a4-a3ae-c22c63bbe8f7"
      },
      "source": [
        "add_words=\"hello\"+\" \"+\"world\"+\"\\n\"\n",
        "multiply_word=\"Dracarys! \" * 3\n",
        "print (add_words, multiply_word)"
      ],
      "execution_count": 15,
      "outputs": [
        {
          "output_type": "stream",
          "text": [
            "hello world\n",
            " Dracarys! Dracarys! Dracarys! \n"
          ],
          "name": "stdout"
        }
      ]
    },
    {
      "cell_type": "markdown",
      "metadata": {
        "id": "tlDEAL3RhVaU",
        "colab_type": "text"
      },
      "source": [
        ">> #### Comparison operators"
      ]
    },
    {
      "cell_type": "code",
      "metadata": {
        "id": "RjATBXDNhVaV",
        "colab_type": "code",
        "colab": {
          "base_uri": "https://localhost:8080/",
          "height": 34
        },
        "outputId": "401b873f-9283-4b1b-c52c-87617a9ec270"
      },
      "source": [
        "# Equality\n",
        "2==2"
      ],
      "execution_count": 16,
      "outputs": [
        {
          "output_type": "execute_result",
          "data": {
            "text/plain": [
              "True"
            ]
          },
          "metadata": {
            "tags": []
          },
          "execution_count": 16
        }
      ]
    },
    {
      "cell_type": "code",
      "metadata": {
        "id": "V7lJ2CuzhVaY",
        "colab_type": "code",
        "colab": {
          "base_uri": "https://localhost:8080/",
          "height": 34
        },
        "outputId": "2aa335f5-e2c4-4aa6-8e55-b93fc464ae50"
      },
      "source": [
        "# Inequality\n",
        "5!=5"
      ],
      "execution_count": 17,
      "outputs": [
        {
          "output_type": "execute_result",
          "data": {
            "text/plain": [
              "False"
            ]
          },
          "metadata": {
            "tags": []
          },
          "execution_count": 17
        }
      ]
    },
    {
      "cell_type": "code",
      "metadata": {
        "id": "L6fo_KBPhVaa",
        "colab_type": "code",
        "colab": {
          "base_uri": "https://localhost:8080/",
          "height": 34
        },
        "outputId": "92e58acc-add1-48cd-fd41-ce40bf5825ed"
      },
      "source": [
        "# Greater/smaller\n",
        "2>-5, 2>=3, 5<10, 2<5<=5"
      ],
      "execution_count": 18,
      "outputs": [
        {
          "output_type": "execute_result",
          "data": {
            "text/plain": [
              "(True, False, True, True)"
            ]
          },
          "metadata": {
            "tags": []
          },
          "execution_count": 18
        }
      ]
    },
    {
      "cell_type": "markdown",
      "metadata": {
        "id": "yimJzJ5phVad",
        "colab_type": "text"
      },
      "source": [
        ">>  #### Boolean (logical) operators\n",
        "\n",
        "| AND   | True | False |\n",
        "|-------|----------|-------|\n",
        "|  True | True     | False |\n",
        "| False | False    | False |\n",
        "\n",
        "\n",
        "---\n",
        "\n",
        "\n",
        "\n",
        "|OR   | True | False |\n",
        "|-------|----------|-------|\n",
        "|  True | True     | True |\n",
        "| False | True   | False |"
      ]
    },
    {
      "cell_type": "code",
      "metadata": {
        "id": "XmJ3Aog_hVad",
        "colab_type": "code",
        "colab": {
          "base_uri": "https://localhost:8080/",
          "height": 34
        },
        "outputId": "1a984c01-bb72-42b2-a779-24d69e3482d3"
      },
      "source": [
        "(1==2) and (3+2==5)"
      ],
      "execution_count": 19,
      "outputs": [
        {
          "output_type": "execute_result",
          "data": {
            "text/plain": [
              "False"
            ]
          },
          "metadata": {
            "tags": []
          },
          "execution_count": 19
        }
      ]
    },
    {
      "cell_type": "code",
      "metadata": {
        "id": "tV4lq6wRhVaf",
        "colab_type": "code",
        "colab": {
          "base_uri": "https://localhost:8080/",
          "height": 34
        },
        "outputId": "956a95ee-cc9c-4bb0-de6f-fe20667fae81"
      },
      "source": [
        "(1==2) or (3+2==5)"
      ],
      "execution_count": 20,
      "outputs": [
        {
          "output_type": "execute_result",
          "data": {
            "text/plain": [
              "True"
            ]
          },
          "metadata": {
            "tags": []
          },
          "execution_count": 20
        }
      ]
    },
    {
      "cell_type": "code",
      "metadata": {
        "id": "SP0YradvhVah",
        "colab_type": "code",
        "colab": {
          "base_uri": "https://localhost:8080/",
          "height": 34
        },
        "outputId": "488bf72f-1b8c-4a43-bf16-69b52a885e89"
      },
      "source": [
        "not(1==2)"
      ],
      "execution_count": 21,
      "outputs": [
        {
          "output_type": "execute_result",
          "data": {
            "text/plain": [
              "True"
            ]
          },
          "metadata": {
            "tags": []
          },
          "execution_count": 21
        }
      ]
    },
    {
      "cell_type": "markdown",
      "metadata": {
        "id": "EudRTJU5hVaj",
        "colab_type": "text"
      },
      "source": [
        "### Control flow"
      ]
    },
    {
      "cell_type": "markdown",
      "metadata": {
        "id": "5UG3m-z3kyBC",
        "colab_type": "text"
      },
      "source": [
        ">> #### `If-else` statements"
      ]
    },
    {
      "cell_type": "markdown",
      "metadata": {
        "id": "1D4M2HaUqzEz",
        "colab_type": "text"
      },
      "source": [
        "The balance sheet of a bank looks like below:\n",
        "\n",
        "\n",
        "| Assets   | Liabilities\n",
        "|-------|----------|\n",
        "|  Stocks 100  |  Capital 20 |\n",
        "| Loans 20 | Deposits 180  |\n",
        "\n",
        "Let $x$ be the return on stocks. If $x$ is -30\\%, is the bank bankrupt?"
      ]
    },
    {
      "cell_type": "code",
      "metadata": {
        "id": "TdyU0p5vhVaj",
        "colab_type": "code",
        "colab": {
          "base_uri": "https://localhost:8080/",
          "height": 34
        },
        "outputId": "9e68a388-eb0f-42b0-ddc8-ee638ec3b443"
      },
      "source": [
        "stocks=100\n",
        "capital=20\n",
        "loans=100\n",
        "deposits=180\n",
        "x=-0.3\n",
        "if stocks*(1+x)+loans-deposits<0:\n",
        "    print (\"bankrupt\")\n",
        "else:\n",
        "    print (\"still alive\")"
      ],
      "execution_count": 24,
      "outputs": [
        {
          "output_type": "stream",
          "text": [
            "bankrupt\n"
          ],
          "name": "stdout"
        }
      ]
    },
    {
      "cell_type": "markdown",
      "metadata": {
        "id": "JN0pucYxrZHK",
        "colab_type": "text"
      },
      "source": [
        ">> #### `While` statements"
      ]
    },
    {
      "cell_type": "markdown",
      "metadata": {
        "id": "Aw5epp6BrfYO",
        "colab_type": "text"
      },
      "source": [
        "What value does the following code print?"
      ]
    },
    {
      "cell_type": "code",
      "metadata": {
        "id": "V30In5iehVam",
        "colab_type": "code",
        "colab": {}
      },
      "source": [
        "a=1\n",
        "n=1\n",
        "while a<100:\n",
        "    a*=n\n",
        "    n+=1\n",
        "    #print (a)"
      ],
      "execution_count": 0,
      "outputs": []
    },
    {
      "cell_type": "markdown",
      "metadata": {
        "id": "oOceVcxnrm1a",
        "colab_type": "text"
      },
      "source": [
        ">> #### `For ` statements"
      ]
    },
    {
      "cell_type": "markdown",
      "metadata": {
        "id": "eOtDQ-BVsDXL",
        "colab_type": "text"
      },
      "source": [
        "1. In Python, the `for` loop operates over any list of objects, including strings!\n",
        "2. This is a very powerful feature (imagine computing statistics for a given list of stock names). \n",
        "3. \"Classical\" format: the function \\texttt{range} $\\left(a,b,s\\right)$ returns all natural numbers between $a$ and $b-1$, step size $s$."
      ]
    },
    {
      "cell_type": "code",
      "metadata": {
        "id": "k4WdAKqLhVao",
        "colab_type": "code",
        "colab": {
          "base_uri": "https://localhost:8080/",
          "height": 153
        },
        "outputId": "279fa4d4-8426-4d30-fb45-1fdd081cc2db"
      },
      "source": [
        "names=[\"Anne\", \"Bob\",\"Thomas\",\"Daisy\"]\n",
        "for x in names:\n",
        "    print (\"Hello \"+x+\"\\n\")"
      ],
      "execution_count": 29,
      "outputs": [
        {
          "output_type": "stream",
          "text": [
            "Hello Anne\n",
            "\n",
            "Hello Bob\n",
            "\n",
            "Hello Thomas\n",
            "\n",
            "Hello Daisy\n",
            "\n"
          ],
          "name": "stdout"
        }
      ]
    },
    {
      "cell_type": "markdown",
      "metadata": {
        "id": "0jjVThjFhVar",
        "colab_type": "text"
      },
      "source": [
        "### User-defined functions"
      ]
    },
    {
      "cell_type": "code",
      "metadata": {
        "id": "H0A5EyljhVar",
        "colab_type": "code",
        "colab": {}
      },
      "source": [
        "# Sign of a function\n",
        "def sign(x):\n",
        "    if x>0:\n",
        "        return 1\n",
        "    elif x<=0:\n",
        "        return -1"
      ],
      "execution_count": 0,
      "outputs": []
    },
    {
      "cell_type": "markdown",
      "metadata": {
        "id": "NWZkddwAhVau",
        "colab_type": "text"
      },
      "source": [
        ">> **Global and local variables**"
      ]
    },
    {
      "cell_type": "markdown",
      "metadata": {
        "id": "tpIWqaPUsZN1",
        "colab_type": "text"
      },
      "source": [
        "Variables names assigned in a function only belong to that function (local)!"
      ]
    },
    {
      "cell_type": "code",
      "metadata": {
        "id": "6769bVOvhVau",
        "colab_type": "code",
        "colab": {}
      },
      "source": [
        "x=5\n",
        "def sum1(y): # global x\n",
        "    print (x+y)\n",
        "def sum2(x,y): # local x\n",
        "    print (x+y)"
      ],
      "execution_count": 0,
      "outputs": []
    },
    {
      "cell_type": "markdown",
      "metadata": {
        "id": "WUy-scnHspBr",
        "colab_type": "text"
      },
      "source": [
        ">> ## Caveats and common errors\n",
        "\n",
        "1.  Indentation matters! Each code block should be intended by the same amount (tabs or spaces).\n",
        "2. Do not forget the  **:** at the end of an `if, elif, else, for, while,  def` statement. \n",
        "3. Do not use augmented assignment operators (+=, *=) on new variables. "
      ]
    },
    {
      "cell_type": "markdown",
      "metadata": {
        "id": "oY8KLeZMhVaw",
        "colab_type": "text"
      },
      "source": [
        ">>> ## In-class Exercise: What does this function do?"
      ]
    },
    {
      "cell_type": "code",
      "metadata": {
        "id": "uJZv4PH3hVaw",
        "colab_type": "code",
        "colab": {}
      },
      "source": [
        "def mysteryfunction(x,tol):\n",
        "    lower=0.0\n",
        "    upper=x\n",
        "    temp=0.5*(lower+upper)\n",
        "    while (abs(x-temp*temp)>tol):\n",
        "        if temp*temp>x:\n",
        "            upper=temp\n",
        "        else:\n",
        "            lower=temp\n",
        "        temp=(upper+lower)*0.5\n",
        "    return temp"
      ],
      "execution_count": 0,
      "outputs": []
    },
    {
      "cell_type": "markdown",
      "metadata": {
        "id": "U84pbg2lhVay",
        "colab_type": "text"
      },
      "source": [
        "## Data types in Python"
      ]
    },
    {
      "cell_type": "markdown",
      "metadata": {
        "id": "6mOHAABEtBSu",
        "colab_type": "text"
      },
      "source": [
        ">>> ### Integers"
      ]
    },
    {
      "cell_type": "code",
      "metadata": {
        "id": "k0C_JGFHhVaz",
        "colab_type": "code",
        "colab": {
          "base_uri": "https://localhost:8080/",
          "height": 34
        },
        "outputId": "143af2da-44da-4320-b2ef-2176c3598fb0"
      },
      "source": [
        "a=10\n",
        "type(a), a/2"
      ],
      "execution_count": 38,
      "outputs": [
        {
          "output_type": "execute_result",
          "data": {
            "text/plain": [
              "(int, 5.0)"
            ]
          },
          "metadata": {
            "tags": []
          },
          "execution_count": 38
        }
      ]
    },
    {
      "cell_type": "markdown",
      "metadata": {
        "id": "2ni3OgP4tLgn",
        "colab_type": "text"
      },
      "source": [
        ">>> ### Float (rational numbers)"
      ]
    },
    {
      "cell_type": "code",
      "metadata": {
        "id": "f2i2Ci4ahVa1",
        "colab_type": "code",
        "colab": {},
        "outputId": "bf60adbc-fd83-46ed-bd42-98634cd7fa9c"
      },
      "source": [
        "b=0.35\n",
        "type(b), b+0.1"
      ],
      "execution_count": 0,
      "outputs": [
        {
          "output_type": "execute_result",
          "data": {
            "text/plain": [
              "(float, 0.44999999999999996)"
            ]
          },
          "metadata": {
            "tags": []
          },
          "execution_count": 37
        }
      ]
    },
    {
      "cell_type": "markdown",
      "metadata": {
        "id": "i51-uVsZtVm4",
        "colab_type": "text"
      },
      "source": [
        ">>> ### Strings (text)"
      ]
    },
    {
      "cell_type": "code",
      "metadata": {
        "id": "ZJZ9MDWfhVa3",
        "colab_type": "code",
        "colab": {},
        "outputId": "6651518e-a88e-4744-88b4-e1800060018d"
      },
      "source": [
        "c=\"string type\"\n",
        "type(c)"
      ],
      "execution_count": 0,
      "outputs": [
        {
          "output_type": "execute_result",
          "data": {
            "text/plain": [
              "str"
            ]
          },
          "metadata": {
            "tags": []
          },
          "execution_count": 47
        }
      ]
    },
    {
      "cell_type": "code",
      "metadata": {
        "id": "aCEgCEXghVa5",
        "colab_type": "code",
        "colab": {},
        "outputId": "2f221385-5040-4a25-e1ae-5831bcb40120"
      },
      "source": [
        "# Examples of string methods\n",
        "c.capitalize(), c.replace('st','b'), c.split(\" \")"
      ],
      "execution_count": 0,
      "outputs": [
        {
          "output_type": "execute_result",
          "data": {
            "text/plain": [
              "('String type', 'bring type', ['string', 'type'])"
            ]
          },
          "metadata": {
            "tags": []
          },
          "execution_count": 50
        }
      ]
    },
    {
      "cell_type": "markdown",
      "metadata": {
        "id": "rXf9fB-RhVa9",
        "colab_type": "text"
      },
      "source": [
        ">>> ### tuples (collections)\n",
        "Simple collection of arbitrary objects. Limited methods. "
      ]
    },
    {
      "cell_type": "code",
      "metadata": {
        "id": "BJXvv7eYhVa-",
        "colab_type": "code",
        "colab": {},
        "outputId": "63fdb46a-65e9-4b1c-9124-26dc8c4fbaea"
      },
      "source": [
        "t=(1,2.5,\"data\")\n",
        "t.count(\"data\"), t.index(1)"
      ],
      "execution_count": 0,
      "outputs": [
        {
          "output_type": "execute_result",
          "data": {
            "text/plain": [
              "(1, 0)"
            ]
          },
          "metadata": {
            "tags": []
          },
          "execution_count": 52
        }
      ]
    },
    {
      "cell_type": "markdown",
      "metadata": {
        "id": "5Dip70szhVbA",
        "colab_type": "text"
      },
      "source": [
        ">>> ### lists (also collections, more operations possible)\n",
        "A collection of arbitrary objects; many methods available."
      ]
    },
    {
      "cell_type": "code",
      "metadata": {
        "id": "hTOnjuo7hVbB",
        "colab_type": "code",
        "colab": {},
        "outputId": "67452447-1dfb-423c-bc03-f124448bb2ed"
      },
      "source": [
        "l=[1,2.5,\"data\"]\n",
        "l.append([4,3]) # append at the end\n",
        "l"
      ],
      "execution_count": 0,
      "outputs": [
        {
          "output_type": "execute_result",
          "data": {
            "text/plain": [
              "[1, 2.5, 'data', [4, 3]]"
            ]
          },
          "metadata": {
            "tags": []
          },
          "execution_count": 62
        }
      ]
    },
    {
      "cell_type": "code",
      "metadata": {
        "id": "k-vlWStfhVbF",
        "colab_type": "code",
        "colab": {},
        "outputId": "faadf424-db29-49be-9cc5-61265f1bc93d"
      },
      "source": [
        "l.insert(1,\"insert\") # insert before index\n",
        "l"
      ],
      "execution_count": 0,
      "outputs": [
        {
          "output_type": "execute_result",
          "data": {
            "text/plain": [
              "[1, 'insert', 2.5, 'data', [4, 3]]"
            ]
          },
          "metadata": {
            "tags": []
          },
          "execution_count": 63
        }
      ]
    },
    {
      "cell_type": "code",
      "metadata": {
        "id": "RUUF6ZkQhVbH",
        "colab_type": "code",
        "colab": {},
        "outputId": "76e645ab-330d-458e-f350-4804959a9a67"
      },
      "source": [
        "l.remove(2.5) # remove first occurence\n",
        "l"
      ],
      "execution_count": 0,
      "outputs": [
        {
          "output_type": "execute_result",
          "data": {
            "text/plain": [
              "[1, 'insert', 'data', [4, 3]]"
            ]
          },
          "metadata": {
            "tags": []
          },
          "execution_count": 64
        }
      ]
    },
    {
      "cell_type": "code",
      "metadata": {
        "id": "ciY7mPFChVbI",
        "colab_type": "code",
        "colab": {},
        "outputId": "7363f778-b4fb-4557-9f7a-bd7f01823b41"
      },
      "source": [
        "l[1:3] # slice a list"
      ],
      "execution_count": 0,
      "outputs": [
        {
          "output_type": "execute_result",
          "data": {
            "text/plain": [
              "['insert', 'data']"
            ]
          },
          "metadata": {
            "tags": []
          },
          "execution_count": 67
        }
      ]
    },
    {
      "cell_type": "markdown",
      "metadata": {
        "id": "CcREg5dStvwM",
        "colab_type": "text"
      },
      "source": [
        ">>> ### Dictionaries\n",
        "Dictionaries with key-value stores. Unordered and un-sortable. Maps (generally) strings into strings or numbers."
      ]
    },
    {
      "cell_type": "code",
      "metadata": {
        "id": "RrL4rwpmt0Dc",
        "colab_type": "code",
        "colab": {}
      },
      "source": [
        "d={'Last':'Doe','First':'John','Age':25, 'Height':[6,1]}"
      ],
      "execution_count": 0,
      "outputs": []
    },
    {
      "cell_type": "code",
      "metadata": {
        "id": "OhELFvASt9mE",
        "colab_type": "code",
        "colab": {
          "base_uri": "https://localhost:8080/",
          "height": 34
        },
        "outputId": "ecf18c34-9d1e-4abd-82ef-9a9fe5f9e37d"
      },
      "source": [
        "d['Last'], d['Height'][0]"
      ],
      "execution_count": 43,
      "outputs": [
        {
          "output_type": "execute_result",
          "data": {
            "text/plain": [
              "('Doe', 6)"
            ]
          },
          "metadata": {
            "tags": []
          },
          "execution_count": 43
        }
      ]
    },
    {
      "cell_type": "code",
      "metadata": {
        "id": "IFwR2vnLuIcV",
        "colab_type": "code",
        "colab": {
          "base_uri": "https://localhost:8080/",
          "height": 51
        },
        "outputId": "5e49a909-4bc4-47a5-cef0-008eb353e285"
      },
      "source": [
        "d.keys(), d.values()"
      ],
      "execution_count": 46,
      "outputs": [
        {
          "output_type": "execute_result",
          "data": {
            "text/plain": [
              "(dict_keys(['Last', 'First', 'Age', 'Height']),\n",
              " dict_values(['Doe', 'John', 25, [6, 1]]))"
            ]
          },
          "metadata": {
            "tags": []
          },
          "execution_count": 46
        }
      ]
    },
    {
      "cell_type": "markdown",
      "metadata": {
        "id": "Svw5wUhyhVbK",
        "colab_type": "text"
      },
      "source": [
        ">>> ### Sets\n",
        "Mathematical sets: unordered collections of objects, repeated only once."
      ]
    },
    {
      "cell_type": "code",
      "metadata": {
        "id": "zNUPKohRhVbL",
        "colab_type": "code",
        "colab": {}
      },
      "source": [
        "s1=set(['a','b','c','d'])\n",
        "s2=set(['e','b','c','f'])"
      ],
      "execution_count": 0,
      "outputs": []
    },
    {
      "cell_type": "code",
      "metadata": {
        "id": "ZlLSREcChVbN",
        "colab_type": "code",
        "colab": {
          "base_uri": "https://localhost:8080/",
          "height": 34
        },
        "outputId": "638283c2-a518-4b43-ec3a-420ad4841987"
      },
      "source": [
        "s1.union(s2) # union"
      ],
      "execution_count": 48,
      "outputs": [
        {
          "output_type": "execute_result",
          "data": {
            "text/plain": [
              "{'a', 'b', 'c', 'd', 'e', 'f'}"
            ]
          },
          "metadata": {
            "tags": []
          },
          "execution_count": 48
        }
      ]
    },
    {
      "cell_type": "code",
      "metadata": {
        "id": "f9ISzwS2hVbP",
        "colab_type": "code",
        "colab": {
          "base_uri": "https://localhost:8080/",
          "height": 34
        },
        "outputId": "407ae506-e049-4e64-df1b-4bdca31c4aa9"
      },
      "source": [
        "s1.intersection(s2) # intersection"
      ],
      "execution_count": 49,
      "outputs": [
        {
          "output_type": "execute_result",
          "data": {
            "text/plain": [
              "{'b', 'c'}"
            ]
          },
          "metadata": {
            "tags": []
          },
          "execution_count": 49
        }
      ]
    },
    {
      "cell_type": "code",
      "metadata": {
        "id": "dkSo_bY3hVbS",
        "colab_type": "code",
        "colab": {
          "base_uri": "https://localhost:8080/",
          "height": 34
        },
        "outputId": "6226bed3-83a9-460a-d622-4253cae003be"
      },
      "source": [
        "s1.difference(s2) # set difference"
      ],
      "execution_count": 50,
      "outputs": [
        {
          "output_type": "execute_result",
          "data": {
            "text/plain": [
              "{'a', 'd'}"
            ]
          },
          "metadata": {
            "tags": []
          },
          "execution_count": 50
        }
      ]
    },
    {
      "cell_type": "code",
      "metadata": {
        "id": "sqaRSW4BhVbU",
        "colab_type": "code",
        "colab": {
          "base_uri": "https://localhost:8080/",
          "height": 34
        },
        "outputId": "1e01fdb1-de9f-403c-85d3-22a43374230c"
      },
      "source": [
        "s1.symmetric_difference(s2) # symmetric difference (union-intersection)"
      ],
      "execution_count": 51,
      "outputs": [
        {
          "output_type": "execute_result",
          "data": {
            "text/plain": [
              "{'a', 'd', 'e', 'f'}"
            ]
          },
          "metadata": {
            "tags": []
          },
          "execution_count": 51
        }
      ]
    },
    {
      "cell_type": "markdown",
      "metadata": {
        "id": "AgNeQVQChVbW",
        "colab_type": "text"
      },
      "source": [
        ">>> ### Working with matrices: List arrays"
      ]
    },
    {
      "cell_type": "markdown",
      "metadata": {
        "id": "o2biCNNOubWi",
        "colab_type": "text"
      },
      "source": [
        "1. Easy to select rows or single elements. \n",
        ">>>> Example: $m[1]$ is second row, $m[1][0]$ first element of the second row.\n",
        "2. Not easy to select columns! (a \"row\" is the primary element of the list matrix)\n",
        "3. Works by reference pointers -- changes in $v$ are copied everywhere in $m$. \n",
        ">>>> Example: $v[0]=-2$. Try out $m=?$"
      ]
    },
    {
      "cell_type": "code",
      "metadata": {
        "id": "A3hNFz1lhVbX",
        "colab_type": "code",
        "colab": {
          "base_uri": "https://localhost:8080/",
          "height": 68
        },
        "outputId": "71406d82-ef38-4eca-d8f1-29311ce107c3"
      },
      "source": [
        "v=[0.5,0.75,1.0,1.5,2.0]\n",
        "m=[v,v,v]\n",
        "m"
      ],
      "execution_count": 52,
      "outputs": [
        {
          "output_type": "execute_result",
          "data": {
            "text/plain": [
              "[[0.5, 0.75, 1.0, 1.5, 2.0],\n",
              " [0.5, 0.75, 1.0, 1.5, 2.0],\n",
              " [0.5, 0.75, 1.0, 1.5, 2.0]]"
            ]
          },
          "metadata": {
            "tags": []
          },
          "execution_count": 52
        }
      ]
    },
    {
      "cell_type": "code",
      "metadata": {
        "id": "jFteeRlOhVbZ",
        "colab_type": "code",
        "colab": {
          "base_uri": "https://localhost:8080/",
          "height": 68
        },
        "outputId": "1fa71b8c-4e08-4eac-da45-4684f96004aa"
      },
      "source": [
        "v[0]=-2 # list arrays work by reference pointers (changes are copied across rows)\n",
        "m"
      ],
      "execution_count": 53,
      "outputs": [
        {
          "output_type": "execute_result",
          "data": {
            "text/plain": [
              "[[-2, 0.75, 1.0, 1.5, 2.0],\n",
              " [-2, 0.75, 1.0, 1.5, 2.0],\n",
              " [-2, 0.75, 1.0, 1.5, 2.0]]"
            ]
          },
          "metadata": {
            "tags": []
          },
          "execution_count": 53
        }
      ]
    },
    {
      "cell_type": "markdown",
      "metadata": {
        "id": "sJ7yT7BshVbb",
        "colab_type": "text"
      },
      "source": [
        ">>> ### Numpy arrays"
      ]
    },
    {
      "cell_type": "markdown",
      "metadata": {
        "id": "ksswqsvFurDc",
        "colab_type": "text"
      },
      "source": [
        "We will import our first library: `numpy` (**num**erical **py**thon)"
      ]
    },
    {
      "cell_type": "code",
      "metadata": {
        "id": "nU3Y5O6vhVbb",
        "colab_type": "code",
        "colab": {}
      },
      "source": [
        "import numpy as np\n",
        "v1=np.array([0.5,0.75,1.0,1.5,2.0]) # ndarray object"
      ],
      "execution_count": 0,
      "outputs": []
    },
    {
      "cell_type": "code",
      "metadata": {
        "id": "6Owmji7uhVbe",
        "colab_type": "code",
        "colab": {
          "base_uri": "https://localhost:8080/",
          "height": 102
        },
        "outputId": "b3bcd160-6525-4cb4-82e2-da153dcb7aa2"
      },
      "source": [
        "# Operations on arrays\n",
        "v1.sum(), v1.std(), v1.cumsum(), v1*2, v1**2"
      ],
      "execution_count": 55,
      "outputs": [
        {
          "output_type": "execute_result",
          "data": {
            "text/plain": [
              "(5.75,\n",
              " 0.5385164807134504,\n",
              " array([0.5 , 1.25, 2.25, 3.75, 5.75]),\n",
              " array([1. , 1.5, 2. , 3. , 4. ]),\n",
              " array([0.25  , 0.5625, 1.    , 2.25  , 4.    ]))"
            ]
          },
          "metadata": {
            "tags": []
          },
          "execution_count": 55
        }
      ]
    },
    {
      "cell_type": "code",
      "metadata": {
        "id": "KGWIa-C1hVbf",
        "colab_type": "code",
        "colab": {},
        "outputId": "a6d683b4-7167-4cc6-cab3-c22935be092e"
      },
      "source": [
        "# Array matrices\n",
        "m1=np.array([v1,v1*2])\n",
        "m1"
      ],
      "execution_count": 0,
      "outputs": [
        {
          "output_type": "execute_result",
          "data": {
            "text/plain": [
              "array([[ 0.5 ,  0.75,  1.  ,  1.5 ,  2.  ],\n",
              "       [ 1.  ,  1.5 ,  2.  ,  3.  ,  4.  ]])"
            ]
          },
          "metadata": {
            "tags": []
          },
          "execution_count": 81
        }
      ]
    },
    {
      "cell_type": "code",
      "metadata": {
        "id": "AtbIKi-KhVbj",
        "colab_type": "code",
        "colab": {},
        "outputId": "5e79f5c6-b0c0-4661-f6b2-ca4741ba4f38"
      },
      "source": [
        "# Indexing\n",
        "m1[0,2]"
      ],
      "execution_count": 0,
      "outputs": [
        {
          "output_type": "execute_result",
          "data": {
            "text/plain": [
              "1.0"
            ]
          },
          "metadata": {
            "tags": []
          },
          "execution_count": 82
        }
      ]
    },
    {
      "cell_type": "code",
      "metadata": {
        "id": "o-yDLQT8hVbm",
        "colab_type": "code",
        "colab": {},
        "outputId": "01f28fc3-a93f-4f12-e0df-887117dc413b"
      },
      "source": [
        "# Column sum\n",
        "m1.sum(axis=0)"
      ],
      "execution_count": 0,
      "outputs": [
        {
          "output_type": "execute_result",
          "data": {
            "text/plain": [
              "array([ 1.5 ,  2.25,  3.  ,  4.5 ,  6.  ])"
            ]
          },
          "metadata": {
            "tags": []
          },
          "execution_count": 83
        }
      ]
    },
    {
      "cell_type": "code",
      "metadata": {
        "id": "o8L7VupThVbo",
        "colab_type": "code",
        "colab": {},
        "outputId": "593d8cf7-fb26-48c3-9de9-0e635c5117dc"
      },
      "source": [
        "# Initializing a matrix (multi-dimensional)\n",
        "np.zeros((2,3,5),dtype='f',order='C') # order: column-wise is F, row-wise is C"
      ],
      "execution_count": 0,
      "outputs": [
        {
          "output_type": "execute_result",
          "data": {
            "text/plain": [
              "array([[[ 0.,  0.,  0.,  0.,  0.],\n",
              "        [ 0.,  0.,  0.,  0.,  0.],\n",
              "        [ 0.,  0.,  0.,  0.,  0.]],\n",
              "\n",
              "       [[ 0.,  0.,  0.,  0.,  0.],\n",
              "        [ 0.,  0.,  0.,  0.,  0.],\n",
              "        [ 0.,  0.,  0.,  0.,  0.]]], dtype=float32)"
            ]
          },
          "metadata": {
            "tags": []
          },
          "execution_count": 84
        }
      ]
    },
    {
      "cell_type": "code",
      "metadata": {
        "id": "Q8XdHXzlhVbt",
        "colab_type": "code",
        "colab": {},
        "outputId": "f2023fc5-b415-4265-8e9f-018339eb0fe9"
      },
      "source": [
        "np.ones((2,3,5),dtype='f',order='C') # order: column-wise is F, row-wise is C"
      ],
      "execution_count": 0,
      "outputs": [
        {
          "output_type": "execute_result",
          "data": {
            "text/plain": [
              "array([[[ 1.,  1.,  1.,  1.,  1.],\n",
              "        [ 1.,  1.,  1.,  1.,  1.],\n",
              "        [ 1.,  1.,  1.,  1.,  1.]],\n",
              "\n",
              "       [[ 1.,  1.,  1.,  1.,  1.],\n",
              "        [ 1.,  1.,  1.,  1.,  1.],\n",
              "        [ 1.,  1.,  1.,  1.,  1.]]], dtype=float32)"
            ]
          },
          "metadata": {
            "tags": []
          },
          "execution_count": 85
        }
      ]
    },
    {
      "cell_type": "code",
      "metadata": {
        "id": "V93x0RnahVbv",
        "colab_type": "code",
        "colab": {},
        "outputId": "b960c9ae-6c91-468e-c5f0-cb91500300c7"
      },
      "source": [
        "# Operation on matrices\n",
        "m1.ravel()"
      ],
      "execution_count": 0,
      "outputs": [
        {
          "output_type": "execute_result",
          "data": {
            "text/plain": [
              "array([ 0.5 ,  0.75,  1.  ,  1.5 ,  2.  ,  1.  ,  1.5 ,  2.  ,  3.  ,  4.  ])"
            ]
          },
          "metadata": {
            "tags": []
          },
          "execution_count": 86
        }
      ]
    },
    {
      "cell_type": "code",
      "metadata": {
        "id": "_ysGTKiUhVbx",
        "colab_type": "code",
        "colab": {},
        "outputId": "87d577e0-7b7c-42eb-832f-dca4987d792f"
      },
      "source": [
        "m1.shape"
      ],
      "execution_count": 0,
      "outputs": [
        {
          "output_type": "execute_result",
          "data": {
            "text/plain": [
              "(2L, 5L)"
            ]
          },
          "metadata": {
            "tags": []
          },
          "execution_count": 90
        }
      ]
    },
    {
      "cell_type": "code",
      "metadata": {
        "id": "WdCQR0RrhVby",
        "colab_type": "code",
        "colab": {},
        "outputId": "2b316277-e070-4f0b-ef14-a7f26c94f55c"
      },
      "source": [
        "m1.reshape(5,-1) # -1 is \"default\""
      ],
      "execution_count": 0,
      "outputs": [
        {
          "output_type": "execute_result",
          "data": {
            "text/plain": [
              "array([[ 0.5 ,  0.75],\n",
              "       [ 1.  ,  1.5 ],\n",
              "       [ 2.  ,  1.  ],\n",
              "       [ 1.5 ,  2.  ],\n",
              "       [ 3.  ,  4.  ]])"
            ]
          },
          "metadata": {
            "tags": []
          },
          "execution_count": 91
        }
      ]
    },
    {
      "cell_type": "code",
      "metadata": {
        "id": "dBZr_nTVhVb2",
        "colab_type": "code",
        "colab": {},
        "outputId": "78d1cddb-9628-4882-e5df-8309ff6a14df"
      },
      "source": [
        "np.vstack((m1,m1)) # stack matrices on top"
      ],
      "execution_count": 0,
      "outputs": [
        {
          "output_type": "execute_result",
          "data": {
            "text/plain": [
              "array([[ 0.5 ,  0.75,  1.  ,  1.5 ,  2.  ],\n",
              "       [ 1.  ,  1.5 ,  2.  ,  3.  ,  4.  ],\n",
              "       [ 0.5 ,  0.75,  1.  ,  1.5 ,  2.  ],\n",
              "       [ 1.  ,  1.5 ,  2.  ,  3.  ,  4.  ]])"
            ]
          },
          "metadata": {
            "tags": []
          },
          "execution_count": 97
        }
      ]
    },
    {
      "cell_type": "code",
      "metadata": {
        "id": "ihoblvUfhVb4",
        "colab_type": "code",
        "colab": {},
        "outputId": "e00ecf94-6457-49e1-fbb0-ba4240243619"
      },
      "source": [
        "np.hstack((m1,m1)) # stack matrices side by side"
      ],
      "execution_count": 0,
      "outputs": [
        {
          "output_type": "execute_result",
          "data": {
            "text/plain": [
              "array([[ 0.5 ,  0.75,  1.  ,  1.5 ,  2.  ,  0.5 ,  0.75,  1.  ,  1.5 ,  2.  ],\n",
              "       [ 1.  ,  1.5 ,  2.  ,  3.  ,  4.  ,  1.  ,  1.5 ,  2.  ,  3.  ,  4.  ]])"
            ]
          },
          "metadata": {
            "tags": []
          },
          "execution_count": 98
        }
      ]
    },
    {
      "cell_type": "markdown",
      "metadata": {
        "id": "4-RnPvw6hVb8",
        "colab_type": "text"
      },
      "source": [
        "* Vectorization"
      ]
    },
    {
      "cell_type": "code",
      "metadata": {
        "id": "dGZXdPL1hVb8",
        "colab_type": "code",
        "colab": {}
      },
      "source": [
        "v20=np.array([2,3,5])\n",
        "v21=np.array([0.5,0.6,0.2])"
      ],
      "execution_count": 0,
      "outputs": []
    },
    {
      "cell_type": "code",
      "metadata": {
        "id": "wTj29dpMhVb-",
        "colab_type": "code",
        "colab": {},
        "outputId": "fe7ce49a-bdec-4b64-913e-d6b6f988d933"
      },
      "source": [
        "v20+v21"
      ],
      "execution_count": 0,
      "outputs": [
        {
          "output_type": "execute_result",
          "data": {
            "text/plain": [
              "array([ 2.5,  3.6,  5.2])"
            ]
          },
          "metadata": {
            "tags": []
          },
          "execution_count": 101
        }
      ]
    },
    {
      "cell_type": "code",
      "metadata": {
        "id": "NOTp8P-VhVcA",
        "colab_type": "code",
        "colab": {},
        "outputId": "8ee9fdc4-a633-45b1-e86f-f8db44f57870"
      },
      "source": [
        "2*v20+3 # broadcasting scalars"
      ],
      "execution_count": 0,
      "outputs": [
        {
          "output_type": "execute_result",
          "data": {
            "text/plain": [
              "array([ 7,  9, 13])"
            ]
          },
          "metadata": {
            "tags": []
          },
          "execution_count": 102
        }
      ]
    },
    {
      "cell_type": "markdown",
      "metadata": {
        "id": "Gz3lqxQDhVcC",
        "colab_type": "text"
      },
      "source": [
        "### Numpy functions"
      ]
    },
    {
      "cell_type": "code",
      "metadata": {
        "id": "kNBgcNFNhVcC",
        "colab_type": "code",
        "colab": {},
        "outputId": "e9c5dcde-014b-4d46-f467-7bcb3cd8625e"
      },
      "source": [
        "np.dot(v20,v21) # scalar product"
      ],
      "execution_count": 0,
      "outputs": [
        {
          "output_type": "execute_result",
          "data": {
            "text/plain": [
              "3.7999999999999998"
            ]
          },
          "metadata": {
            "tags": []
          },
          "execution_count": 103
        }
      ]
    },
    {
      "cell_type": "code",
      "metadata": {
        "id": "Ieawe_xxhVcF",
        "colab_type": "code",
        "colab": {},
        "outputId": "3f0af0e3-0e98-42db-f865-ff62ced3f1e1"
      },
      "source": [
        "m2=np.ones((3,3))\n",
        "np.linalg.det(m2) # determinant"
      ],
      "execution_count": 0,
      "outputs": [
        {
          "output_type": "execute_result",
          "data": {
            "text/plain": [
              "0.0"
            ]
          },
          "metadata": {
            "tags": []
          },
          "execution_count": 106
        }
      ]
    },
    {
      "cell_type": "code",
      "metadata": {
        "id": "oHAuAWY9hVcG",
        "colab_type": "code",
        "colab": {},
        "outputId": "5f1cd77d-58bd-4803-c70a-04b7bcc431a9"
      },
      "source": [
        "m3=np.array([[2,5],[4,0]])\n",
        "v3=np.array([0,3])\n",
        "np.linalg.det(m3), np.linalg.solve(m3,v3), np.linalg.eig(m3) # matrix algebra functions"
      ],
      "execution_count": 0,
      "outputs": [
        {
          "output_type": "execute_result",
          "data": {
            "text/plain": [
              "(-19.999999999999996,\n",
              " array([ 0.75, -0.3 ]),\n",
              " (array([ 5.58257569, -3.58257569]), array([[ 0.81287544, -0.66717004],\n",
              "         [ 0.58243756,  0.74490545]])))"
            ]
          },
          "metadata": {
            "tags": []
          },
          "execution_count": 120
        }
      ]
    },
    {
      "cell_type": "code",
      "metadata": {
        "id": "2OQTXpQQhVcI",
        "colab_type": "code",
        "colab": {},
        "outputId": "1f8586fe-67f8-40da-99a7-c906f8717446"
      },
      "source": [
        "np.sin(np.pi), np.cos(np.pi) # trigonometric"
      ],
      "execution_count": 0,
      "outputs": [
        {
          "output_type": "execute_result",
          "data": {
            "text/plain": [
              "(1.2246467991473532e-16, -1.0)"
            ]
          },
          "metadata": {
            "tags": []
          },
          "execution_count": 108
        }
      ]
    },
    {
      "cell_type": "code",
      "metadata": {
        "id": "2GGIhv7JhVcL",
        "colab_type": "code",
        "colab": {},
        "outputId": "b7248eb2-3acf-4597-9f8f-14e2e096e7f6"
      },
      "source": [
        "np.exp(1), np.log(10), np.sqrt(225) # exponential, log, square roots"
      ],
      "execution_count": 0,
      "outputs": [
        {
          "output_type": "execute_result",
          "data": {
            "text/plain": [
              "(2.7182818284590451, 2.3025850929940459, 15.0)"
            ]
          },
          "metadata": {
            "tags": []
          },
          "execution_count": 110
        }
      ]
    },
    {
      "cell_type": "code",
      "metadata": {
        "id": "1bWh2AglhVcM",
        "colab_type": "code",
        "colab": {},
        "outputId": "7105a5de-cbc3-408c-97ef-5016d1bc76b9"
      },
      "source": [
        "np.mean(v21), np.median(v21), np.std(v21), np.corrcoef(v20,v21) # statistical operators"
      ],
      "execution_count": 0,
      "outputs": [
        {
          "output_type": "execute_result",
          "data": {
            "text/plain": [
              "(0.43333333333333335,\n",
              " 0.5,\n",
              " 0.16996731711975949,\n",
              " array([[ 1.        , -0.83862787],\n",
              "        [-0.83862787,  1.        ]]))"
            ]
          },
          "metadata": {
            "tags": []
          },
          "execution_count": 113
        }
      ]
    },
    {
      "cell_type": "code",
      "metadata": {
        "id": "QEwiuM2EhVcQ",
        "colab_type": "code",
        "colab": {}
      },
      "source": [
        ""
      ],
      "execution_count": 0,
      "outputs": []
    }
  ]
}