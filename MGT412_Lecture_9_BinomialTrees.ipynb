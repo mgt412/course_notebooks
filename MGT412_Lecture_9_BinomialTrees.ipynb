{
  "nbformat": 4,
  "nbformat_minor": 0,
  "metadata": {
    "colab": {
      "name": "MGT412_Lecture_9_BinomialTrees.ipynb",
      "version": "0.3.2",
      "provenance": [],
      "collapsed_sections": [],
      "include_colab_link": true
    },
    "language_info": {
      "codemirror_mode": {
        "name": "ipython",
        "version": 3
      },
      "file_extension": ".py",
      "mimetype": "text/x-python",
      "name": "python",
      "nbconvert_exporter": "python",
      "pygments_lexer": "ipython3",
      "version": "3.6.5"
    },
    "kernelspec": {
      "display_name": "Python 3",
      "language": "python",
      "name": "python3"
    }
  },
  "cells": [
    {
      "cell_type": "markdown",
      "metadata": {
        "id": "view-in-github",
        "colab_type": "text"
      },
      "source": [
        "<a href=\"https://colab.research.google.com/github/mgt412/course_notebooks/blob/master/MGT412_Lecture_9_BinomialTrees.ipynb\" target=\"_parent\"><img src=\"https://colab.research.google.com/assets/colab-badge.svg\" alt=\"Open In Colab\"/></a>"
      ]
    },
    {
      "cell_type": "markdown",
      "metadata": {
        "id": "jlYVmoWjEd9S",
        "colab_type": "text"
      },
      "source": [
        "# Lecture 9: Binomial Trees for Option Pricing"
      ]
    },
    {
      "cell_type": "code",
      "metadata": {
        "id": "OT-jCxjPEd9T",
        "colab_type": "code",
        "colab": {}
      },
      "source": [
        "import numpy as np\n",
        "import numpy.random as npr\n",
        "import matplotlib.pyplot as plt\n",
        "%matplotlib inline"
      ],
      "execution_count": 0,
      "outputs": []
    },
    {
      "cell_type": "markdown",
      "metadata": {
        "id": "Cs0zPrGdGVO9",
        "colab_type": "text"
      },
      "source": [
        "### Overview of plain vanilla options\n",
        "\n",
        "Let $S_T$ be the price of a stock at some **maturity** time $T$. Let $K$ be a **strike price**.\n",
        "\n",
        "A **European call option** gives the holder the right (but not the obligation) to buy the stock for $K$ at maturity $T$. The value of the call option at maturity $T$ is:\n",
        "$$ c_T = \\max(0,S_T-K). $$\n",
        "\n",
        "A **European put option** gives the holder the right (but not the obligation) to sell the stock for $K$ at maturity $T$. The value of the put option at maturity $T$ is:\n",
        "$$ p_T = \\max(0,K-S_T). $$\n",
        "\n",
        "American call and put options give the holder the right to buy/sell the stock **at any moment** until $T$.\n",
        "\n",
        "> **General problem:** what is the value of the option now, i.e., $c_t$ for $t<T$?"
      ]
    },
    {
      "cell_type": "markdown",
      "metadata": {
        "id": "_iVvqstdGSxF",
        "colab_type": "text"
      },
      "source": [
        "## The Cox-Ross-Rubinstein model\n",
        "\n",
        "1. Consider a call (put) option on a stock maturing after time $T$.\n",
        "2. The current stock price is $S_0$, strike price is $K$.\n",
        "3. The volatility of the stock is $\\sigma$, risk free rate r .\n",
        "4. We want to compute the price of the option using a tree with $N$ steps."
      ]
    },
    {
      "cell_type": "markdown",
      "metadata": {
        "id": "J_JFAFJIHT0B",
        "colab_type": "text"
      },
      "source": [
        "\n",
        "\n",
        "\n",
        "### Up-and-down steps (definition)\n",
        "1. The length of a step is $\\Delta t=\\frac{T}{N}$.\n",
        "2. At each step the stock moves up by $u$, or down by $d$:\n",
        "\t\\begin{align}\n",
        "\tu&=\\exp\\left(\\sigma \\Delta t\\right) \\\\\n",
        "\td&=u^{-1}\n",
        "\t\\end{align}"
      ]
    },
    {
      "cell_type": "markdown",
      "metadata": {
        "id": "Wt9SBJ8UGFJ5",
        "colab_type": "text"
      },
      "source": [
        "![alt text](https://github.com/mgt412/course_notebooks/raw/master/Figures/Options_F1.png \"Title\")"
      ]
    },
    {
      "cell_type": "markdown",
      "metadata": {
        "id": "DZbUoKEjKLRd",
        "colab_type": "text"
      },
      "source": [
        "### Risk-neutral probabilities\n",
        "\n",
        "The risk-neutral probability of an upward jump is $p$, where:\n",
        "\\begin{equation}\n",
        "p=\\frac{\\exp\\left(r\\Delta t\\right)-d}{u-d}.\n",
        "\\end{equation}\n",
        "\n",
        "\n",
        "The value of the option at step $k$ is the discounted risk-neutral expectation at $t+1$:\n",
        "\n",
        "\\begin{equation}\n",
        "C_{k}=\\exp\\left(-r\\Delta t\\right)\\left[p \\times C_{k+1}^{u}+\\left(1-p\\right) \\times  C_{k+1}^d\\right]\n",
        "\\end{equation}\n"
      ]
    },
    {
      "cell_type": "markdown",
      "metadata": {
        "id": "Cln0OEdcKcKu",
        "colab_type": "text"
      },
      "source": [
        "### Background\n",
        "\n",
        "Remember that to price the option at step $k$ we replicate the payoffs at step $k+1$ using $\\Delta$ stocks and $B$ bonds:\n",
        "\\begin{align*}\n",
        "C_{k+1}^{u}&=\\Delta u S + \\exp\\left(r\\Delta t\\right) B \\\\\n",
        "C_{k+1}^{d}&=\\Delta d S + \\exp\\left(r\\Delta t\\right) B\n",
        "\\end{align*}\n",
        "Therefore, solving this system:\n",
        "\\begin{align*}\n",
        "\\Delta &= \\frac{C_{k+1}^{u}-C_{k+1}^{d}}{\\left(u-d\\right)S} \\\\\n",
        "B &=\\frac{u C_{k+1}^{d}- d C_{k+1}^{u}}{\\left(u-d\\right)\\exp\\left(r\\Delta t\\right) }\n",
        "\\end{align*}\n",
        "\n",
        "\n",
        "The current value of the option is the current value of the stock and bond portfolio:\n",
        "\\begin{equation}\n",
        "C_{k}=\\Delta S + B.\n",
        "\\end{equation}\n",
        "\n",
        "Replacing the previously found values for $\\Delta$ and $B$,\n",
        "\\begin{equation}\n",
        "C_{k}=\\exp\\left(-r\\Delta t\\right)\\left[p C_{k+1}^{u}+\\left(1-p\\right) C_{k+1}^d\\right]\n",
        "\\end{equation}\n"
      ]
    },
    {
      "cell_type": "markdown",
      "metadata": {
        "id": "FhVgVnpEKoL4",
        "colab_type": "text"
      },
      "source": [
        "### Algorithm\n",
        "\n",
        "Inputs:\n",
        "\n",
        "* $T$ is the time to maturity (in years),\n",
        "* $N$ is the number of tree steps,\n",
        "* $S$ is the current stock price,\n",
        "* $r$ is the risk free rate (net, absolute terms, i.e., 0.03 for 3\\% p.a.),\n",
        "* $\\sigma$ is annual volatility (absolute terms),\n",
        "* $K$ is the strike price,\n",
        "* `typeEA` takes value `European` or `American`, \n",
        "* `typeCP` takes value `call` or `put`.\n"
      ]
    },
    {
      "cell_type": "code",
      "metadata": {
        "id": "VLdlasfkKZ5X",
        "colab_type": "code",
        "colab": {}
      },
      "source": [
        "# initialize values\n",
        "T, N, S, r, sigma, K, typeEA, typeCP = 2, 50, 100, 0.03, 0.20, 110, 'European', 'call'"
      ],
      "execution_count": 0,
      "outputs": []
    },
    {
      "cell_type": "markdown",
      "metadata": {
        "id": "d-UuimO9LPbz",
        "colab_type": "text"
      },
      "source": [
        "### Option payoff\n",
        "\n",
        "1. The call option payoff is $\\max (S - K, 0)$ whereas the put option payoff is $\\max (K - S; 0)$.\n",
        "2. We transform the `typeCP` variable from a string to a number: 1 for call options, -1 for put options.\n",
        "3. Then we can write both the call and put option payoff together:\n",
        "$$ \\text{OptionPayoff} = \\text{typeCP} \\times \\max (S - K; 0) $$"
      ]
    },
    {
      "cell_type": "code",
      "metadata": {
        "id": "s305RRdAL4Xh",
        "colab_type": "code",
        "colab": {}
      },
      "source": [
        "if typeCP==\"call\": # Call or put option\n",
        "  typeCP=1\n",
        "else:\n",
        "  typeCP=-1"
      ],
      "execution_count": 0,
      "outputs": []
    },
    {
      "cell_type": "markdown",
      "metadata": {
        "id": "1ezKu27dMGaT",
        "colab_type": "text"
      },
      "source": [
        "### Intermediary variables:"
      ]
    },
    {
      "cell_type": "code",
      "metadata": {
        "id": "ttsPQiU9MDUB",
        "colab_type": "code",
        "colab": {}
      },
      "source": [
        "dt=np.float(T)/N # step size\n",
        "u=np.exp(sigma*np.sqrt(dt)) # up and down steps\n",
        "d=1/u\n",
        "p=(np.exp(r*dt)-d)/(u-d) # risk-neutral probabilities\n",
        "\n",
        "ST=np.zeros(N+1) # Final stock prices vector\n",
        "option=np.zeros(N+1) # option price vector"
      ],
      "execution_count": 0,
      "outputs": []
    },
    {
      "cell_type": "markdown",
      "metadata": {
        "id": "6STXON9_MRlD",
        "colab_type": "text"
      },
      "source": [
        "### Recursive solution: fill in the terminal values\n",
        "\n",
        "1. The tree has $N$ steps, hence $N + 1$ terminal values for the stock and the option price.\n",
        "2. Each possible terminal value is a combination of $k$ downward steps and $N-k$ upward steps, where k varies from zero to N.\n",
        "3. Terminal option prices are just computed using terminal stock prices (no expectation required)."
      ]
    },
    {
      "cell_type": "code",
      "metadata": {
        "id": "gFku9VuUMeLN",
        "colab_type": "code",
        "colab": {}
      },
      "source": [
        "for i in range(0,N+1):\n",
        "  ST[i]=S*u**(N-i)*d**i # Fill in terminal stock prices\n",
        "  option[i]=max(typeCP*(ST[i]-K),0) # Fill in terminal option prices  "
      ],
      "execution_count": 0,
      "outputs": []
    },
    {
      "cell_type": "markdown",
      "metadata": {
        "id": "jr3B4UqkMlNC",
        "colab_type": "text"
      },
      "source": [
        "### Moving backwards:\n",
        "\n",
        "Starting from the vector option of terminal values, loop:\n",
        "1. Backwards over tree levels ($i$ loop);\n",
        "2. Forward over cells on a tree level ($j$ loop)\n",
        "3. At each new tree level, we overwrite the option vector with the discounted expected values of the option on the following level."
      ]
    },
    {
      "cell_type": "markdown",
      "metadata": {
        "id": "1YvwbNHoFUCh",
        "colab_type": "text"
      },
      "source": [
        "![alt text](https://github.com/mgt412/course_notebooks/raw/master/Figures/Options_F2.png \"Title\")"
      ]
    },
    {
      "cell_type": "code",
      "metadata": {
        "id": "rZ86dRHZMtRq",
        "colab_type": "code",
        "colab": {}
      },
      "source": [
        "for i in range(N-1,-1,-1):\n",
        "  for j in range(0,i+1):\n",
        "    option[j]=np.exp(-r*dt)*(p*option[j]+(1-p)*option[j+1])"
      ],
      "execution_count": 0,
      "outputs": []
    },
    {
      "cell_type": "markdown",
      "metadata": {
        "id": "04LKLsYLM8KQ",
        "colab_type": "text"
      },
      "source": [
        "For an American option, at each node $j$ we:\n",
        "1. Compute the stock price at that node.\n",
        "2. Compare the European option value with the payoff on immediate exercise (using the stock price we just computed).\n",
        "3. We keep the largest value of the two."
      ]
    },
    {
      "cell_type": "code",
      "metadata": {
        "id": "TWHF0EHwNGXd",
        "colab_type": "code",
        "colab": {}
      },
      "source": [
        "for i in range(N-1,-1,-1):\n",
        "  for j in range(0,i+1):\n",
        "    option[j]=np.exp(-r*dt)*(p*option[j]+(1-p)*option[j+1])\n",
        "    if typeEA==\"American\":\n",
        "      ST[j]=np.exp(-r*dt)*(p*ST[j]+(1-p)*ST[j+1])\n",
        "      option[j]=max(option[j], max(typeCP*(ST[j]-K),0))"
      ],
      "execution_count": 0,
      "outputs": []
    },
    {
      "cell_type": "markdown",
      "metadata": {
        "collapsed": true,
        "id": "DMonaHDGEd9W",
        "colab_type": "text"
      },
      "source": [
        "## Binomial tree function"
      ]
    },
    {
      "cell_type": "code",
      "metadata": {
        "id": "25eJzcRdEd9W",
        "colab_type": "code",
        "colab": {}
      },
      "source": [
        "def binomialtree(T,N,S,r,sigma,K, typeEA, typeCP):\n",
        "\n",
        "    if typeCP==\"call\": # Call or put option\n",
        "        typeCP=1\n",
        "    else:\n",
        "        typeCP=-1\n",
        "\n",
        "    dt=np.float(T)/N # step size\n",
        "    u=np.exp(sigma*np.sqrt(dt)) # up and down steps\n",
        "    d=1/u\n",
        "    p=(np.exp(r*dt)-d)/(u-d) # risk-neutral probabilities\n",
        "\n",
        "    ST=np.zeros(N+1) # Final stock prices vector\n",
        "    option=np.zeros(N+1) # option price vector\n",
        "\n",
        "    for i in range(0,N+1):\n",
        "        ST[i]=S*u**(N-i)*d**i # Fill in terminal stock prices\n",
        "        option[i]=max(typeCP*(ST[i]-K),0) # Fill in terminal option prices\n",
        "    \n",
        "    for i in range(N-1,-1,-1):\n",
        "        for j in range(0,i+1):\n",
        "            option[j]=np.exp(-r*dt)*(p*option[j]+(1-p)*option[j+1])\n",
        "            if typeEA==\"American\":\n",
        "                ST[j]=np.exp(-r*dt)*(p*ST[j]+(1-p)*ST[j+1])\n",
        "                option[j]=max(option[j], max(typeCP*(ST[j]-K),0))\n",
        "\n",
        "    return option[0]"
      ],
      "execution_count": 0,
      "outputs": []
    },
    {
      "cell_type": "code",
      "metadata": {
        "id": "vWZU11pJEd9u",
        "colab_type": "code",
        "colab": {
          "base_uri": "https://localhost:8080/",
          "height": 34
        },
        "outputId": "cf6c1414-3628-4a36-c546-9f2aa8ac13d0"
      },
      "source": [
        "binomialtree(T,N,S,r,sigma,K,typeEA, \"call\")"
      ],
      "execution_count": 25,
      "outputs": [
        {
          "output_type": "execute_result",
          "data": {
            "text/plain": [
              "9.745036447735755"
            ]
          },
          "metadata": {
            "tags": []
          },
          "execution_count": 25
        }
      ]
    },
    {
      "cell_type": "markdown",
      "metadata": {
        "id": "6vqqdMjAN7NY",
        "colab_type": "text"
      },
      "source": [
        "## Black-Scholes option price\n",
        "\n",
        "The Black-Scholes formula for pricing a call option is:\n",
        "$$ c = S_t \\times N(d_1) - K e^{-rT} N(d_2) $$\n",
        "\n",
        "where $d_1=\\frac{\\log\\frac{S_t}{K}+\\left(r+\\frac{\\sigma^2}{2}\\right)T}{\\sigma \\sqrt{T}}$ and $d_2=d_1-\\sigma\\sqrt{T}$."
      ]
    },
    {
      "cell_type": "code",
      "metadata": {
        "id": "oANJttcROqbH",
        "colab_type": "code",
        "colab": {}
      },
      "source": [
        "from scipy.stats import norm"
      ],
      "execution_count": 0,
      "outputs": []
    },
    {
      "cell_type": "code",
      "metadata": {
        "id": "CJVasjyjNPbh",
        "colab_type": "code",
        "colab": {}
      },
      "source": [
        "def BlackScholes(T,S,K,sigma,r,typeCP):\n",
        "  d1=(np.log(S/K)+(r+0.5*sigma**2)*T)/(sigma*np.sqrt(T))\n",
        "  d2=d1-sigma*np.sqrt(T)\n",
        "  \n",
        "  call=S*norm.cdf(d1)-K*np.exp(-r*T)*norm.cdf(d2)\n",
        "  put = K*np.exp(-r*T)*norm.cdf(-d2)- S*norm.cdf(-d1)\n",
        "  \n",
        "  if typeCP=='call':\n",
        "    return call\n",
        "  else:\n",
        "    return put"
      ],
      "execution_count": 0,
      "outputs": []
    },
    {
      "cell_type": "code",
      "metadata": {
        "id": "RcmgNgYhOxSQ",
        "colab_type": "code",
        "colab": {
          "base_uri": "https://localhost:8080/",
          "height": 34
        },
        "outputId": "ba60ab67-4b62-4684-f5ac-0befe27f8af6"
      },
      "source": [
        "BlackScholes(T,S,K,sigma,r,'put')"
      ],
      "execution_count": 30,
      "outputs": [
        {
          "output_type": "execute_result",
          "data": {
            "text/plain": [
              "13.333935020075948"
            ]
          },
          "metadata": {
            "tags": []
          },
          "execution_count": 30
        }
      ]
    },
    {
      "cell_type": "code",
      "metadata": {
        "id": "jl38FYbVOzu4",
        "colab_type": "code",
        "colab": {}
      },
      "source": [
        "N_space=np.linspace(2,100,99) # number of stepts in the binomial tree\n",
        "\n",
        "binomial_space=[binomialtree(T,int(x),S,r,sigma,K,typeEA, \"call\") for x in N_space]\n",
        "BS_space=[BlackScholes(T,S,K,sigma,r,'call') for x in N_space]"
      ],
      "execution_count": 0,
      "outputs": []
    },
    {
      "cell_type": "code",
      "metadata": {
        "id": "ToDFzdISQm6o",
        "colab_type": "code",
        "colab": {
          "base_uri": "https://localhost:8080/",
          "height": 530
        },
        "outputId": "ca76e815-9c6d-45d3-a16c-f7559c322287"
      },
      "source": [
        "fig=plt.figure(figsize=(12,8))\n",
        "plt.plot(binomial_space,label='Binomial tree price',c='b')\n",
        "plt.plot(BS_space,label='Black-Scholes price',c='r',ls='--')\n",
        "plt.xlabel('Number of steps in the tree',fontsize=18)\n",
        "plt.ylabel('Price',fontsize=18)\n",
        "plt.xticks(fontsize=16)\n",
        "plt.yticks(fontsize=16)\n",
        "plt.legend(fontsize=16,loc='best')"
      ],
      "execution_count": 48,
      "outputs": [
        {
          "output_type": "execute_result",
          "data": {
            "text/plain": [
              "<matplotlib.legend.Legend at 0x7fea03760da0>"
            ]
          },
          "metadata": {
            "tags": []
          },
          "execution_count": 48
        },
        {
          "output_type": "display_data",
          "data": {
            "image/png": "[encoded data removed]",
            "text/plain": [
              "<Figure size 864x576 with 1 Axes>"
            ]
          },
          "metadata": {
            "tags": []
          }
        }
      ]
    },
    {
      "cell_type": "markdown",
      "metadata": {
        "id": "0T1GA9WPSDEw",
        "colab_type": "text"
      },
      "source": [
        "### Put-call parity\n",
        "\n",
        "We can verify if the put-call parity holds, or:\n",
        "\n",
        "$$ C - P = S - Ke^{-r T} $$"
      ]
    },
    {
      "cell_type": "code",
      "metadata": {
        "id": "y5aQLJ1HQntn",
        "colab_type": "code",
        "colab": {}
      },
      "source": [
        "def put_call_parity(T,N,S,r,sigma,K):\n",
        "  call=binomialtree(T,N,S,r,sigma,K, \"European\", \"call\")\n",
        "  put=binomialtree(T,N,S,r,sigma,K, \"European\", \"put\")\n",
        "  \n",
        "  return (call-put)-(S-K*np.exp(-r*T))"
      ],
      "execution_count": 0,
      "outputs": []
    },
    {
      "cell_type": "markdown",
      "metadata": {
        "id": "rDf4FsW8StL0",
        "colab_type": "text"
      },
      "source": [
        "The function returns essentially zero."
      ]
    },
    {
      "cell_type": "code",
      "metadata": {
        "id": "CYIpm-ZBSdXN",
        "colab_type": "code",
        "colab": {
          "base_uri": "https://localhost:8080/",
          "height": 34
        },
        "outputId": "36771660-9df7-4456-ca48-f17d6ca137ad"
      },
      "source": [
        "put_call_parity(T,20,S,r,sigma,K)"
      ],
      "execution_count": 55,
      "outputs": [
        {
          "output_type": "execute_result",
          "data": {
            "text/plain": [
              "1.3145040611561853e-13"
            ]
          },
          "metadata": {
            "tags": []
          },
          "execution_count": 55
        }
      ]
    },
    {
      "cell_type": "markdown",
      "metadata": {
        "id": "W6mhFXLSSwdi",
        "colab_type": "text"
      },
      "source": [
        "### Option properties"
      ]
    },
    {
      "cell_type": "markdown",
      "metadata": {
        "id": "uYctLsvrTo4S",
        "colab_type": "text"
      },
      "source": [
        "Option price should increase with volatility."
      ]
    },
    {
      "cell_type": "code",
      "metadata": {
        "id": "n-uis0hASmRu",
        "colab_type": "code",
        "colab": {}
      },
      "source": [
        "s_space=np.linspace(0.1,0.2,1000) # number of stepts in the binomial tree\n",
        "\n",
        "sigma_space_bin=[binomialtree(T,50,S,r,s,K,typeEA, \"call\") for s in s_space]\n",
        "sigma_space_BS=[BlackScholes(T,S,K,s,r,'call') for s in s_space]"
      ],
      "execution_count": 0,
      "outputs": []
    },
    {
      "cell_type": "code",
      "metadata": {
        "id": "1RY5Qw3zTAM1",
        "colab_type": "code",
        "colab": {
          "base_uri": "https://localhost:8080/",
          "height": 535
        },
        "outputId": "5100ec31-2b3e-412b-ff0a-08a895c4a9f9"
      },
      "source": [
        "fig=plt.figure(figsize=(12,8))\n",
        "plt.plot(s_space, sigma_space_bin,label='Binomial tree price',c='b')\n",
        "plt.plot(s_space, sigma_space_BS,label='Black-Scholes price',c='r',ls='--')\n",
        "plt.xlabel('Stock price volatility ($\\sigma$)',fontsize=18)\n",
        "plt.ylabel('Price',fontsize=18)\n",
        "plt.xticks(fontsize=16)\n",
        "plt.yticks(fontsize=16)\n",
        "plt.legend(fontsize=16,loc='best')"
      ],
      "execution_count": 73,
      "outputs": [
        {
          "output_type": "execute_result",
          "data": {
            "text/plain": [
              "<matplotlib.legend.Legend at 0x7fea0343b198>"
            ]
          },
          "metadata": {
            "tags": []
          },
          "execution_count": 73
        },
        {
          "output_type": "display_data",
          "data": {
            "image/png": "[encoded data removed]",
            "text/plain": [
              "<Figure size 864x576 with 1 Axes>"
            ]
          },
          "metadata": {
            "tags": []
          }
        }
      ]
    },
    {
      "cell_type": "code",
      "metadata": {
        "id": "xIW999CfTGms",
        "colab_type": "code",
        "colab": {}
      },
      "source": [
        ""
      ],
      "execution_count": 0,
      "outputs": []
    }
  ]
}