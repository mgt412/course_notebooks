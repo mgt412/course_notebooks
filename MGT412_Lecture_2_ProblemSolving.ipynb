{
  "nbformat": 4,
  "nbformat_minor": 0,
  "metadata": {
    "colab": {
      "name": "MGT412_Lecture_2_ProblemSolving.ipynb",
      "version": "0.3.2",
      "provenance": [],
      "collapsed_sections": [],
      "include_colab_link": true
    },
    "kernelspec": {
      "name": "python3",
      "display_name": "Python 3"
    }
  },
  "cells": [
    {
      "cell_type": "markdown",
      "metadata": {
        "id": "view-in-github",
        "colab_type": "text"
      },
      "source": [
        "<a href=\"https://colab.research.google.com/github/mgt412/course_notebooks/blob/master/MGT412_Lecture_2_ProblemSolving.ipynb\" target=\"_parent\"><img src=\"https://colab.research.google.com/assets/colab-badge.svg\" alt=\"Open In Colab\"/></a>"
      ]
    },
    {
      "cell_type": "markdown",
      "metadata": {
        "id": "42pshGYNdcRz",
        "colab_type": "text"
      },
      "source": [
        "# Lecture 2: Algorithmic Problem-Solving in Python (Practical)\n",
        "\n"
      ]
    },
    {
      "cell_type": "markdown",
      "metadata": {
        "id": "6T3waylud787",
        "colab_type": "text"
      },
      "source": [
        "## Exercise 1 (easy)\n",
        "\n",
        "Write a program which can compute the factorial of a given number $a$. The factorial function is:\n",
        "\n",
        "$$ f\\left(a\\right) = a! = 1 \\times 2 \\times 3 \\dots \\times a $$\n",
        "\n",
        "Further, $0!=1$."
      ]
    },
    {
      "cell_type": "code",
      "metadata": {
        "id": "61GxbEVoc6qq",
        "colab_type": "code",
        "colab": {}
      },
      "source": [
        ""
      ],
      "execution_count": 0,
      "outputs": []
    },
    {
      "cell_type": "markdown",
      "metadata": {
        "id": "I72NLN5Yfh3R",
        "colab_type": "text"
      },
      "source": [
        "## Exercise 2 (difficult)\n",
        "\n",
        "Write a program to remove and print every third number from a list of numbers until the list becomes empty. You can use the list method \"pop\", which given the index of element $x$, removes the element $x$ fom the list."
      ]
    },
    {
      "cell_type": "code",
      "metadata": {
        "id": "ckkYnWunfkB7",
        "colab_type": "code",
        "colab": {
          "base_uri": "https://localhost:8080/",
          "height": 34
        },
        "outputId": "c634258d-e0bf-4c52-8d61-8a0c902637df"
      },
      "source": [
        "# Example of how \"pop\" works\n",
        "l=[3,2,5]\n",
        "l.pop(2), l"
      ],
      "execution_count": 1,
      "outputs": [
        {
          "output_type": "execute_result",
          "data": {
            "text/plain": [
              "(5, [3, 2])"
            ]
          },
          "metadata": {
            "tags": []
          },
          "execution_count": 1
        }
      ]
    },
    {
      "cell_type": "code",
      "metadata": {
        "id": "oX4HIVJXiKY1",
        "colab_type": "code",
        "colab": {}
      },
      "source": [
        ""
      ],
      "execution_count": 0,
      "outputs": []
    },
    {
      "cell_type": "markdown",
      "metadata": {
        "id": "UPcNFGWDfkn5",
        "colab_type": "text"
      },
      "source": [
        "## Exercise 3 (medium)\n",
        "Write a Python program that returns the smallest number of banknotes you need to make up a given amount $X$. The eligible notes you can use are given below.\n",
        "\n",
        "For example, 585 dollars = 5 x 100 dollars + 1 x 50 dollars + 1 x 20 dollars + 1 x 10 dollars + 1 times x 5 dollars, so 5+1+1+1+1=9 banknotes. If you cannot just use banknotes to make up the amount, the function returns $-1$.\n",
        "\n",
        "Hint:  `notes.sort(reverse=True) `sorts the banknotes from the most to the least valuable."
      ]
    },
    {
      "cell_type": "code",
      "metadata": {
        "id": "EchsZOdZlqh5",
        "colab_type": "code",
        "colab": {}
      },
      "source": [
        "notes=[5,10,20,50,100] # 5 dollar note, 10 dollar note, ...."
      ],
      "execution_count": 0,
      "outputs": []
    },
    {
      "cell_type": "code",
      "metadata": {
        "id": "z-OWbMrvnJ0u",
        "colab_type": "code",
        "colab": {}
      },
      "source": [
        ""
      ],
      "execution_count": 0,
      "outputs": []
    },
    {
      "cell_type": "markdown",
      "metadata": {
        "id": "eWthWGdbnHFI",
        "colab_type": "text"
      },
      "source": [
        "## Exercise 4 (medium)\n",
        "Write a Python program to compute the greatest common divisor (GCD) of two positive integers."
      ]
    },
    {
      "cell_type": "code",
      "metadata": {
        "id": "QqnRzzqRlsMO",
        "colab_type": "code",
        "colab": {}
      },
      "source": [
        ""
      ],
      "execution_count": 0,
      "outputs": []
    },
    {
      "cell_type": "markdown",
      "metadata": {
        "id": "tDFgGp5tJELx",
        "colab_type": "text"
      },
      "source": [
        "## Exercise 5 (medium)\n",
        "\n",
        "Write a Python program to compute the future value of a specified constant cash-flow (CF), rate of interest (r), and a number of years (T). \n",
        "\n",
        ">> Example: `cf = 100, int = 3%, years = 5`\n",
        "\n",
        ">> Expected Output : `457.97`\n",
        "\n",
        "*   Formula: $$ FV = \\sum_{t=1}^T \\frac{CF}{(1+r)^t}$$\n",
        "\n",
        "*   Compare the output for a large maturity with the value of a perpetuity, $\\dfrac{CF}{r}$.\n",
        "\n"
      ]
    },
    {
      "cell_type": "code",
      "metadata": {
        "id": "9WITUUgHJErI",
        "colab_type": "code",
        "colab": {}
      },
      "source": [
        ""
      ],
      "execution_count": 0,
      "outputs": []
    },
    {
      "cell_type": "markdown",
      "metadata": {
        "id": "bnsSK0NHNPZD",
        "colab_type": "text"
      },
      "source": [
        "## Exercise 6 (simple)\n",
        "\n",
        "Write a program that given a 3-number list, returns the list in sorted order (ascending)."
      ]
    },
    {
      "cell_type": "code",
      "metadata": {
        "id": "IlCOIvISNOhq",
        "colab_type": "code",
        "colab": {}
      },
      "source": [
        ""
      ],
      "execution_count": 0,
      "outputs": []
    },
    {
      "cell_type": "markdown",
      "metadata": {
        "id": "tkNhnc2jPr7j",
        "colab_type": "text"
      },
      "source": [
        "## Exercise 7 (medium)\n",
        "\n",
        "Write a function to find the maximum and minimum numbers from a sequence of numbers (no built-in functions)"
      ]
    },
    {
      "cell_type": "code",
      "metadata": {
        "id": "-T4eAfe_PukF",
        "colab_type": "code",
        "colab": {}
      },
      "source": [
        ""
      ],
      "execution_count": 0,
      "outputs": []
    },
    {
      "cell_type": "markdown",
      "metadata": {
        "id": "QnD9VFDRPvLT",
        "colab_type": "text"
      },
      "source": [
        "## Exercise 8 (medium)\n",
        "\n",
        "Write a Python function that takes a list and returns a new list with unique elements of the first list."
      ]
    },
    {
      "cell_type": "code",
      "metadata": {
        "id": "F_cyfyyBSer5",
        "colab_type": "code",
        "colab": {}
      },
      "source": [
        ""
      ],
      "execution_count": 0,
      "outputs": []
    },
    {
      "cell_type": "markdown",
      "metadata": {
        "id": "Y_XSf8mBWMpw",
        "colab_type": "text"
      },
      "source": [
        "# Assignment Exercises"
      ]
    },
    {
      "cell_type": "markdown",
      "metadata": {
        "id": "MoTolR2ZWTeX",
        "colab_type": "text"
      },
      "source": [
        "## Exercise A.1\n",
        "\n",
        "Write a Python function to check whether a number is perfect or not.\n",
        "\n",
        "A perfect number is a positive integer that is equal to the sum of its proper positive divisors, that is, the sum of its positive divisors excluding the number itself. \n",
        "\n",
        "**Example**:   The first perfect number is 6, because 1, 2, and 3 are its proper positive divisors, and 1 + 2 + 3 = 6. The next perfect number is 28 = 1 + 2 + 4 + 7 + 14. This is followed by the perfect numbers 496 and 8128."
      ]
    },
    {
      "cell_type": "markdown",
      "metadata": {
        "id": "ATwe7t8ZYAJP",
        "colab_type": "text"
      },
      "source": [
        "## Exercise A.2\n",
        "\n",
        "Write a Python program to count the number of characters (character frequency) in a string. Sort the resulting list descending by character frequency.\n",
        "\n",
        "> Sample String :`Python_for_finance'`\n",
        "\n",
        "> Expected Result : `[('n', 3), ('o', 2), ('_', 2), ('f', 2), ('P', 1), ('y', 1), ('t', 1), ('h', 1), ('r', 1), ('i', 1), ('a', 1), ('c', 1), ('e', 1)]`"
      ]
    },
    {
      "cell_type": "code",
      "metadata": {
        "id": "rNeRNI8dYCDp",
        "colab_type": "code",
        "colab": {}
      },
      "source": [
        ""
      ],
      "execution_count": 0,
      "outputs": []
    },
    {
      "cell_type": "markdown",
      "metadata": {
        "id": "pIfUc7Krboww",
        "colab_type": "text"
      },
      "source": [
        "## Exercise A.3 (Bubble sort)\n",
        "\n",
        "Implement a simple sorting algorithm: we iterate over a list, comparing elements in pairs and swapping them until the larger elements \"bubble up\" to the end of the list, and the smaller elements stay at the \"bottom\".\n",
        "\n",
        "We begin by comparing the first two elements of the list. If the first element is larger than the second element, we swap them. If they are already in order we leave them as is. We then move to the next pair of elements, compare their values and swap as necessary. This process continues to the last pair of items in the list.\n",
        "\n",
        "Upon reaching the end of the list, it repeats this process for every item. How would we know that we're finished sorting? If the items were in order then we would not have to swap items. So, whenever we swap values we set a flag to True to repeat sorting process. If no swaps occurred, the flag would remain False and the algorithm would stop."
      ]
    },
    {
      "cell_type": "code",
      "metadata": {
        "id": "GET8Q_FTbpJK",
        "colab_type": "code",
        "colab": {}
      },
      "source": [
        ""
      ],
      "execution_count": 0,
      "outputs": []
    },
    {
      "cell_type": "markdown",
      "metadata": {
        "id": "c8ylMdZjfVmZ",
        "colab_type": "text"
      },
      "source": [
        "## Exercise A.4 \n",
        "\n",
        "The Sharpe ratio of a portfolio can be computed as $$ S = \\frac{\\overline{R}_p-r_f}{\\sigma_p}, $$\n",
        "where $\\overline{R}_p$ is the expected return on the portfolio, $r_f$ is the risk-free rate, and $\\sigma_p$ is the volatility of the portfolio. Given a list of portfolio returns, and a risk-free rate, compute the Sharpe ratio for the portfolio. If the Sharpe ratio is negative, return zero.\n",
        "\n",
        "Use as example: returns `[2.6,4.2,4.5,0.15,-2.18,-3,2.15,-1,1.22,0.5,-0.2,2.5,3,1.11,2,1.5]` and risk-free rate 0.9"
      ]
    },
    {
      "cell_type": "code",
      "metadata": {
        "id": "C9X5z8RHfWbN",
        "colab_type": "code",
        "colab": {}
      },
      "source": [
        ""
      ],
      "execution_count": 0,
      "outputs": []
    },
    {
      "cell_type": "markdown",
      "metadata": {
        "id": "n50SpAcOfW75",
        "colab_type": "text"
      },
      "source": [
        "## Exercise A.5\n",
        "\n",
        "What is the probability that a number between `a` and `b` (inputs to your function) have only even digits?\n",
        "\n",
        "For example: $a=21$ and $b=26$. Three out of 6 numbers in between have this property: 21, **22**, 23, **24**, 25, **26**, so the probability is 0.5"
      ]
    },
    {
      "cell_type": "code",
      "metadata": {
        "id": "Gz6t8BSFjkaa",
        "colab_type": "code",
        "colab": {}
      },
      "source": [
        ""
      ],
      "execution_count": 0,
      "outputs": []
    }
  ]
}