{
  "nbformat": 4,
  "nbformat_minor": 0,
  "metadata": {
    "colab": {
      "name": "MGT412_Lecture_8_Empirical Asset Pricing.ipynb",
      "version": "0.3.2",
      "provenance": [],
      "collapsed_sections": [],
      "include_colab_link": true
    },
    "kernelspec": {
      "name": "python3",
      "display_name": "Python 3"
    }
  },
  "cells": [
    {
      "cell_type": "markdown",
      "metadata": {
        "id": "view-in-github",
        "colab_type": "text"
      },
      "source": [
        "<a href=\"https://colab.research.google.com/github/mgt412/course_notebooks/blob/master/MGT412_Lecture_8_Empirical_Asset_Pricing.ipynb\" target=\"_parent\"><img src=\"https://colab.research.google.com/assets/colab-badge.svg\" alt=\"Open In Colab\"/></a>"
      ]
    },
    {
      "cell_type": "markdown",
      "metadata": {
        "id": "vtDdKl2-Ehmu",
        "colab_type": "text"
      },
      "source": [
        "# Lecture 8: Empirical Asset Pricing"
      ]
    },
    {
      "cell_type": "markdown",
      "metadata": {
        "id": "10m5Pb6GE1EK",
        "colab_type": "text"
      },
      "source": [
        "## Manipulating and visualizing financial data with CRSP and Fama-French"
      ]
    },
    {
      "cell_type": "code",
      "metadata": {
        "id": "4lXwA5O-EYls",
        "colab_type": "code",
        "colab": {}
      },
      "source": [
        "from pandas import *\n",
        "import numpy as np\n",
        "import matplotlib.pyplot as plt\n",
        "\n",
        "# this code is to be able to see the plot in the Jupyter notebook\n",
        "%matplotlib inline"
      ],
      "execution_count": 0,
      "outputs": []
    },
    {
      "cell_type": "markdown",
      "metadata": {
        "id": "SaZ7F3ESNIed",
        "colab_type": "text"
      },
      "source": [
        "#### Upload CRSP Dataset (Center for Research in Security Prices)"
      ]
    },
    {
      "cell_type": "code",
      "metadata": {
        "id": "HZFJPfJ2E6Ud",
        "colab_type": "code",
        "colab": {}
      },
      "source": [
        "url=\"https://github.com/mgt412/course_notebooks/blob/master/Datasets/CRSP_Data.xlsx?raw=true\"\n",
        "crsp = read_excel(url,index_col=0)"
      ],
      "execution_count": 0,
      "outputs": []
    },
    {
      "cell_type": "code",
      "metadata": {
        "id": "bZXIL8P2M7rC",
        "colab_type": "code",
        "colab": {
          "base_uri": "https://localhost:8080/",
          "height": 204
        },
        "outputId": "7a63befc-78a6-4192-a420-78c1c9b4e756"
      },
      "source": [
        "crsp.head()"
      ],
      "execution_count": 12,
      "outputs": [
        {
          "output_type": "execute_result",
          "data": {
            "text/html": [
              "<div>\n",
              "<style scoped>\n",
              "    .dataframe tbody tr th:only-of-type {\n",
              "        vertical-align: middle;\n",
              "    }\n",
              "\n",
              "    .dataframe tbody tr th {\n",
              "        vertical-align: top;\n",
              "    }\n",
              "\n",
              "    .dataframe thead th {\n",
              "        text-align: right;\n",
              "    }\n",
              "</style>\n",
              "<table border=\"1\" class=\"dataframe\">\n",
              "  <thead>\n",
              "    <tr style=\"text-align: right;\">\n",
              "      <th></th>\n",
              "      <th>PERMNO</th>\n",
              "      <th>date</th>\n",
              "      <th>TICKER</th>\n",
              "      <th>PRC</th>\n",
              "      <th>mktrf</th>\n",
              "      <th>smb</th>\n",
              "      <th>hml</th>\n",
              "      <th>rf</th>\n",
              "      <th>umd</th>\n",
              "    </tr>\n",
              "  </thead>\n",
              "  <tbody>\n",
              "    <tr>\n",
              "      <th>0</th>\n",
              "      <td>10001</td>\n",
              "      <td>20090831</td>\n",
              "      <td>EGAS</td>\n",
              "      <td>8.5400</td>\n",
              "      <td>0.0333</td>\n",
              "      <td>-0.0090</td>\n",
              "      <td>0.0776</td>\n",
              "      <td>0.0001</td>\n",
              "      <td>-0.0884</td>\n",
              "    </tr>\n",
              "    <tr>\n",
              "      <th>1</th>\n",
              "      <td>10001</td>\n",
              "      <td>20090930</td>\n",
              "      <td>EGAS</td>\n",
              "      <td>8.5999</td>\n",
              "      <td>0.0408</td>\n",
              "      <td>0.0245</td>\n",
              "      <td>0.0092</td>\n",
              "      <td>0.0001</td>\n",
              "      <td>-0.0493</td>\n",
              "    </tr>\n",
              "    <tr>\n",
              "      <th>2</th>\n",
              "      <td>10001</td>\n",
              "      <td>20091030</td>\n",
              "      <td>EGAS</td>\n",
              "      <td>8.8800</td>\n",
              "      <td>-0.0259</td>\n",
              "      <td>-0.0423</td>\n",
              "      <td>-0.0418</td>\n",
              "      <td>0.0000</td>\n",
              "      <td>0.0265</td>\n",
              "    </tr>\n",
              "    <tr>\n",
              "      <th>3</th>\n",
              "      <td>10001</td>\n",
              "      <td>20091130</td>\n",
              "      <td>EGAS</td>\n",
              "      <td>8.8980</td>\n",
              "      <td>0.0556</td>\n",
              "      <td>-0.0249</td>\n",
              "      <td>-0.0017</td>\n",
              "      <td>0.0000</td>\n",
              "      <td>0.0029</td>\n",
              "    </tr>\n",
              "    <tr>\n",
              "      <th>4</th>\n",
              "      <td>10001</td>\n",
              "      <td>20091231</td>\n",
              "      <td>EGAS</td>\n",
              "      <td>10.3000</td>\n",
              "      <td>0.0275</td>\n",
              "      <td>0.0611</td>\n",
              "      <td>0.0001</td>\n",
              "      <td>0.0001</td>\n",
              "      <td>0.0291</td>\n",
              "    </tr>\n",
              "  </tbody>\n",
              "</table>\n",
              "</div>"
            ],
            "text/plain": [
              "   PERMNO      date TICKER      PRC   mktrf     smb     hml      rf     umd\n",
              "0   10001  20090831   EGAS   8.5400  0.0333 -0.0090  0.0776  0.0001 -0.0884\n",
              "1   10001  20090930   EGAS   8.5999  0.0408  0.0245  0.0092  0.0001 -0.0493\n",
              "2   10001  20091030   EGAS   8.8800 -0.0259 -0.0423 -0.0418  0.0000  0.0265\n",
              "3   10001  20091130   EGAS   8.8980  0.0556 -0.0249 -0.0017  0.0000  0.0029\n",
              "4   10001  20091231   EGAS  10.3000  0.0275  0.0611  0.0001  0.0001  0.0291"
            ]
          },
          "metadata": {
            "tags": []
          },
          "execution_count": 12
        }
      ]
    },
    {
      "cell_type": "markdown",
      "metadata": {
        "id": "xqmh7wh2aYiO",
        "colab_type": "text"
      },
      "source": [
        "#### Data description\n",
        "\n",
        "1. **PERMNO** = CRSP Permanent Company Number\n",
        "2. **date** = in format YYYYMMDD\n",
        "3. **TICKER** = trading ticker for the stock\n",
        "4. **PRC** = end-of-month price\n",
        "5. **mktrf** = market return minus risk free rate\n",
        "6. **smb** = small minus big factor (Fama-French \"size\" factor)\n",
        "7. **hml** = high minus low book-to-market factor (Fama-French \"value\" factor)\n",
        "8. **rf** = risk-free rate\n",
        "9. **umd** = up minus down momentum factor"
      ]
    },
    {
      "cell_type": "code",
      "metadata": {
        "id": "EjRREEYJNQeh",
        "colab_type": "code",
        "colab": {}
      },
      "source": [
        "# convert date from integers to Pandas date format\n",
        "crsp['date'] = to_datetime(crsp['date'], format='%Y%m%d')"
      ],
      "execution_count": 0,
      "outputs": []
    },
    {
      "cell_type": "markdown",
      "metadata": {
        "id": "YmjubZwpcHef",
        "colab_type": "text"
      },
      "source": [
        "#### Compute returns"
      ]
    },
    {
      "cell_type": "code",
      "metadata": {
        "id": "cXPxc6_ybyVJ",
        "colab_type": "code",
        "colab": {}
      },
      "source": [
        "# we compute returns as percent change from previous period\n",
        "crsp[\"RET\"] = crsp.groupby(\"TICKER\")[\"PRC\"].pct_change(1)"
      ],
      "execution_count": 0,
      "outputs": []
    },
    {
      "cell_type": "code",
      "metadata": {
        "id": "vkdaP5N3cydU",
        "colab_type": "code",
        "colab": {
          "base_uri": "https://localhost:8080/",
          "height": 204
        },
        "outputId": "42b31c4b-e891-4a80-e4d2-2851e5142ab7"
      },
      "source": [
        "crsp.head()"
      ],
      "execution_count": 27,
      "outputs": [
        {
          "output_type": "execute_result",
          "data": {
            "text/html": [
              "<div>\n",
              "<style scoped>\n",
              "    .dataframe tbody tr th:only-of-type {\n",
              "        vertical-align: middle;\n",
              "    }\n",
              "\n",
              "    .dataframe tbody tr th {\n",
              "        vertical-align: top;\n",
              "    }\n",
              "\n",
              "    .dataframe thead th {\n",
              "        text-align: right;\n",
              "    }\n",
              "</style>\n",
              "<table border=\"1\" class=\"dataframe\">\n",
              "  <thead>\n",
              "    <tr style=\"text-align: right;\">\n",
              "      <th></th>\n",
              "      <th>PERMNO</th>\n",
              "      <th>date</th>\n",
              "      <th>TICKER</th>\n",
              "      <th>PRC</th>\n",
              "      <th>mktrf</th>\n",
              "      <th>smb</th>\n",
              "      <th>hml</th>\n",
              "      <th>rf</th>\n",
              "      <th>umd</th>\n",
              "      <th>RET</th>\n",
              "    </tr>\n",
              "  </thead>\n",
              "  <tbody>\n",
              "    <tr>\n",
              "      <th>0</th>\n",
              "      <td>10001</td>\n",
              "      <td>2009-08-31</td>\n",
              "      <td>EGAS</td>\n",
              "      <td>8.5400</td>\n",
              "      <td>0.0333</td>\n",
              "      <td>-0.0090</td>\n",
              "      <td>0.0776</td>\n",
              "      <td>0.0001</td>\n",
              "      <td>-0.0884</td>\n",
              "      <td>NaN</td>\n",
              "    </tr>\n",
              "    <tr>\n",
              "      <th>1</th>\n",
              "      <td>10001</td>\n",
              "      <td>2009-09-30</td>\n",
              "      <td>EGAS</td>\n",
              "      <td>8.5999</td>\n",
              "      <td>0.0408</td>\n",
              "      <td>0.0245</td>\n",
              "      <td>0.0092</td>\n",
              "      <td>0.0001</td>\n",
              "      <td>-0.0493</td>\n",
              "      <td>0.007014</td>\n",
              "    </tr>\n",
              "    <tr>\n",
              "      <th>2</th>\n",
              "      <td>10001</td>\n",
              "      <td>2009-10-30</td>\n",
              "      <td>EGAS</td>\n",
              "      <td>8.8800</td>\n",
              "      <td>-0.0259</td>\n",
              "      <td>-0.0423</td>\n",
              "      <td>-0.0418</td>\n",
              "      <td>0.0000</td>\n",
              "      <td>0.0265</td>\n",
              "      <td>0.032570</td>\n",
              "    </tr>\n",
              "    <tr>\n",
              "      <th>3</th>\n",
              "      <td>10001</td>\n",
              "      <td>2009-11-30</td>\n",
              "      <td>EGAS</td>\n",
              "      <td>8.8980</td>\n",
              "      <td>0.0556</td>\n",
              "      <td>-0.0249</td>\n",
              "      <td>-0.0017</td>\n",
              "      <td>0.0000</td>\n",
              "      <td>0.0029</td>\n",
              "      <td>0.002027</td>\n",
              "    </tr>\n",
              "    <tr>\n",
              "      <th>4</th>\n",
              "      <td>10001</td>\n",
              "      <td>2009-12-31</td>\n",
              "      <td>EGAS</td>\n",
              "      <td>10.3000</td>\n",
              "      <td>0.0275</td>\n",
              "      <td>0.0611</td>\n",
              "      <td>0.0001</td>\n",
              "      <td>0.0001</td>\n",
              "      <td>0.0291</td>\n",
              "      <td>0.157563</td>\n",
              "    </tr>\n",
              "  </tbody>\n",
              "</table>\n",
              "</div>"
            ],
            "text/plain": [
              "   PERMNO       date TICKER      PRC  ...     hml      rf     umd       RET\n",
              "0   10001 2009-08-31   EGAS   8.5400  ...  0.0776  0.0001 -0.0884       NaN\n",
              "1   10001 2009-09-30   EGAS   8.5999  ...  0.0092  0.0001 -0.0493  0.007014\n",
              "2   10001 2009-10-30   EGAS   8.8800  ... -0.0418  0.0000  0.0265  0.032570\n",
              "3   10001 2009-11-30   EGAS   8.8980  ... -0.0017  0.0000  0.0029  0.002027\n",
              "4   10001 2009-12-31   EGAS  10.3000  ...  0.0001  0.0001  0.0291  0.157563\n",
              "\n",
              "[5 rows x 10 columns]"
            ]
          },
          "metadata": {
            "tags": []
          },
          "execution_count": 27
        }
      ]
    },
    {
      "cell_type": "markdown",
      "metadata": {
        "id": "w-ldyIUmnAXD",
        "colab_type": "text"
      },
      "source": [
        "#### Selecting a few stocks (Apple, Oracle, NVidia, Amazon, EBay)"
      ]
    },
    {
      "cell_type": "code",
      "metadata": {
        "id": "jGM2P1n8eNqa",
        "colab_type": "code",
        "colab": {}
      },
      "source": [
        "# Selecting stocks\n",
        "lstocks=['AAPL', 'ORCL', 'NVDA', 'AMZN', 'EBAY']\n",
        "df = crsp[crsp['TICKER'].isin(lstocks)]  # look at the isin command"
      ],
      "execution_count": 0,
      "outputs": []
    },
    {
      "cell_type": "code",
      "metadata": {
        "id": "UPtWPY2ynZUv",
        "colab_type": "code",
        "colab": {
          "base_uri": "https://localhost:8080/",
          "height": 235
        },
        "outputId": "0f570215-e858-4d33-f6f3-e22f4eafa484"
      },
      "source": [
        "df.groupby('TICKER').count()"
      ],
      "execution_count": 33,
      "outputs": [
        {
          "output_type": "execute_result",
          "data": {
            "text/html": [
              "<div>\n",
              "<style scoped>\n",
              "    .dataframe tbody tr th:only-of-type {\n",
              "        vertical-align: middle;\n",
              "    }\n",
              "\n",
              "    .dataframe tbody tr th {\n",
              "        vertical-align: top;\n",
              "    }\n",
              "\n",
              "    .dataframe thead th {\n",
              "        text-align: right;\n",
              "    }\n",
              "</style>\n",
              "<table border=\"1\" class=\"dataframe\">\n",
              "  <thead>\n",
              "    <tr style=\"text-align: right;\">\n",
              "      <th></th>\n",
              "      <th>PERMNO</th>\n",
              "      <th>date</th>\n",
              "      <th>PRC</th>\n",
              "      <th>mktrf</th>\n",
              "      <th>smb</th>\n",
              "      <th>hml</th>\n",
              "      <th>rf</th>\n",
              "      <th>umd</th>\n",
              "      <th>RET</th>\n",
              "    </tr>\n",
              "    <tr>\n",
              "      <th>TICKER</th>\n",
              "      <th></th>\n",
              "      <th></th>\n",
              "      <th></th>\n",
              "      <th></th>\n",
              "      <th></th>\n",
              "      <th></th>\n",
              "      <th></th>\n",
              "      <th></th>\n",
              "      <th></th>\n",
              "    </tr>\n",
              "  </thead>\n",
              "  <tbody>\n",
              "    <tr>\n",
              "      <th>AAPL</th>\n",
              "      <td>144</td>\n",
              "      <td>144</td>\n",
              "      <td>144</td>\n",
              "      <td>144</td>\n",
              "      <td>144</td>\n",
              "      <td>144</td>\n",
              "      <td>144</td>\n",
              "      <td>144</td>\n",
              "      <td>143</td>\n",
              "    </tr>\n",
              "    <tr>\n",
              "      <th>AMZN</th>\n",
              "      <td>144</td>\n",
              "      <td>144</td>\n",
              "      <td>144</td>\n",
              "      <td>144</td>\n",
              "      <td>144</td>\n",
              "      <td>144</td>\n",
              "      <td>144</td>\n",
              "      <td>144</td>\n",
              "      <td>143</td>\n",
              "    </tr>\n",
              "    <tr>\n",
              "      <th>EBAY</th>\n",
              "      <td>144</td>\n",
              "      <td>144</td>\n",
              "      <td>144</td>\n",
              "      <td>144</td>\n",
              "      <td>144</td>\n",
              "      <td>144</td>\n",
              "      <td>144</td>\n",
              "      <td>144</td>\n",
              "      <td>143</td>\n",
              "    </tr>\n",
              "    <tr>\n",
              "      <th>NVDA</th>\n",
              "      <td>144</td>\n",
              "      <td>144</td>\n",
              "      <td>144</td>\n",
              "      <td>144</td>\n",
              "      <td>144</td>\n",
              "      <td>144</td>\n",
              "      <td>144</td>\n",
              "      <td>144</td>\n",
              "      <td>143</td>\n",
              "    </tr>\n",
              "    <tr>\n",
              "      <th>ORCL</th>\n",
              "      <td>144</td>\n",
              "      <td>144</td>\n",
              "      <td>144</td>\n",
              "      <td>144</td>\n",
              "      <td>144</td>\n",
              "      <td>144</td>\n",
              "      <td>144</td>\n",
              "      <td>144</td>\n",
              "      <td>143</td>\n",
              "    </tr>\n",
              "  </tbody>\n",
              "</table>\n",
              "</div>"
            ],
            "text/plain": [
              "        PERMNO  date  PRC  mktrf  smb  hml   rf  umd  RET\n",
              "TICKER                                                   \n",
              "AAPL       144   144  144    144  144  144  144  144  143\n",
              "AMZN       144   144  144    144  144  144  144  144  143\n",
              "EBAY       144   144  144    144  144  144  144  144  143\n",
              "NVDA       144   144  144    144  144  144  144  144  143\n",
              "ORCL       144   144  144    144  144  144  144  144  143"
            ]
          },
          "metadata": {
            "tags": []
          },
          "execution_count": 33
        }
      ]
    },
    {
      "cell_type": "markdown",
      "metadata": {
        "id": "acA_jdp9nvGY",
        "colab_type": "text"
      },
      "source": [
        "#### We provide the summary statistics of the returns (mean, std, min, max) and the 10th, 25th, 50th, 75th, 90th percentiles of the 5 stock returns."
      ]
    },
    {
      "cell_type": "code",
      "metadata": {
        "id": "cicav1evnbyP",
        "colab_type": "code",
        "colab": {
          "base_uri": "https://localhost:8080/",
          "height": 359
        },
        "outputId": "93547256-5446-4d01-a54c-e85c2095f839"
      },
      "source": [
        "df2 = df.pivot(columns='TICKER', values='RET', index='date')\n",
        "stat = df2.describe(percentiles=[.1, .25, .5, .75, .9])\n",
        "stat"
      ],
      "execution_count": 86,
      "outputs": [
        {
          "output_type": "execute_result",
          "data": {
            "text/html": [
              "<div>\n",
              "<style scoped>\n",
              "    .dataframe tbody tr th:only-of-type {\n",
              "        vertical-align: middle;\n",
              "    }\n",
              "\n",
              "    .dataframe tbody tr th {\n",
              "        vertical-align: top;\n",
              "    }\n",
              "\n",
              "    .dataframe thead th {\n",
              "        text-align: right;\n",
              "    }\n",
              "</style>\n",
              "<table border=\"1\" class=\"dataframe\">\n",
              "  <thead>\n",
              "    <tr style=\"text-align: right;\">\n",
              "      <th>TICKER</th>\n",
              "      <th>AAPL</th>\n",
              "      <th>AMZN</th>\n",
              "      <th>EBAY</th>\n",
              "      <th>NVDA</th>\n",
              "      <th>ORCL</th>\n",
              "    </tr>\n",
              "  </thead>\n",
              "  <tbody>\n",
              "    <tr>\n",
              "      <th>count</th>\n",
              "      <td>143.000000</td>\n",
              "      <td>143.000000</td>\n",
              "      <td>143.000000</td>\n",
              "      <td>143.000000</td>\n",
              "      <td>143.000000</td>\n",
              "    </tr>\n",
              "    <tr>\n",
              "      <th>mean</th>\n",
              "      <td>0.016075</td>\n",
              "      <td>0.031020</td>\n",
              "      <td>0.004361</td>\n",
              "      <td>0.019546</td>\n",
              "      <td>0.008914</td>\n",
              "    </tr>\n",
              "    <tr>\n",
              "      <th>std</th>\n",
              "      <td>0.116410</td>\n",
              "      <td>0.102091</td>\n",
              "      <td>0.098519</td>\n",
              "      <td>0.136956</td>\n",
              "      <td>0.065732</td>\n",
              "    </tr>\n",
              "    <tr>\n",
              "      <th>min</th>\n",
              "      <td>-0.853191</td>\n",
              "      <td>-0.254018</td>\n",
              "      <td>-0.533201</td>\n",
              "      <td>-0.388889</td>\n",
              "      <td>-0.181818</td>\n",
              "    </tr>\n",
              "    <tr>\n",
              "      <th>10%</th>\n",
              "      <td>-0.086671</td>\n",
              "      <td>-0.084772</td>\n",
              "      <td>-0.088257</td>\n",
              "      <td>-0.154994</td>\n",
              "      <td>-0.076505</td>\n",
              "    </tr>\n",
              "    <tr>\n",
              "      <th>25%</th>\n",
              "      <td>-0.026284</td>\n",
              "      <td>-0.032091</td>\n",
              "      <td>-0.044829</td>\n",
              "      <td>-0.050297</td>\n",
              "      <td>-0.038811</td>\n",
              "    </tr>\n",
              "    <tr>\n",
              "      <th>50%</th>\n",
              "      <td>0.019953</td>\n",
              "      <td>0.026226</td>\n",
              "      <td>0.000000</td>\n",
              "      <td>0.025728</td>\n",
              "      <td>0.010892</td>\n",
              "    </tr>\n",
              "    <tr>\n",
              "      <th>75%</th>\n",
              "      <td>0.075403</td>\n",
              "      <td>0.083982</td>\n",
              "      <td>0.058379</td>\n",
              "      <td>0.094252</td>\n",
              "      <td>0.047721</td>\n",
              "    </tr>\n",
              "    <tr>\n",
              "      <th>90%</th>\n",
              "      <td>0.128549</td>\n",
              "      <td>0.144888</td>\n",
              "      <td>0.104477</td>\n",
              "      <td>0.157530</td>\n",
              "      <td>0.094065</td>\n",
              "    </tr>\n",
              "    <tr>\n",
              "      <th>max</th>\n",
              "      <td>0.237701</td>\n",
              "      <td>0.541342</td>\n",
              "      <td>0.331055</td>\n",
              "      <td>0.553247</td>\n",
              "      <td>0.229114</td>\n",
              "    </tr>\n",
              "  </tbody>\n",
              "</table>\n",
              "</div>"
            ],
            "text/plain": [
              "TICKER        AAPL        AMZN        EBAY        NVDA        ORCL\n",
              "count   143.000000  143.000000  143.000000  143.000000  143.000000\n",
              "mean      0.016075    0.031020    0.004361    0.019546    0.008914\n",
              "std       0.116410    0.102091    0.098519    0.136956    0.065732\n",
              "min      -0.853191   -0.254018   -0.533201   -0.388889   -0.181818\n",
              "10%      -0.086671   -0.084772   -0.088257   -0.154994   -0.076505\n",
              "25%      -0.026284   -0.032091   -0.044829   -0.050297   -0.038811\n",
              "50%       0.019953    0.026226    0.000000    0.025728    0.010892\n",
              "75%       0.075403    0.083982    0.058379    0.094252    0.047721\n",
              "90%       0.128549    0.144888    0.104477    0.157530    0.094065\n",
              "max       0.237701    0.541342    0.331055    0.553247    0.229114"
            ]
          },
          "metadata": {
            "tags": []
          },
          "execution_count": 86
        }
      ]
    },
    {
      "cell_type": "markdown",
      "metadata": {
        "id": "uBWJGDLEoKLc",
        "colab_type": "text"
      },
      "source": [
        "#### We plot a bar graph showing the mean and standard deviation of each stock returns."
      ]
    },
    {
      "cell_type": "code",
      "metadata": {
        "id": "aYnD2Ta7n5OO",
        "colab_type": "code",
        "colab": {
          "base_uri": "https://localhost:8080/",
          "height": 541
        },
        "outputId": "0b290c3c-d52a-4acc-d5cd-91b6b0ad0c5c"
      },
      "source": [
        "stat = stat.loc[['mean', 'std']].T\n",
        "stat[['mean', 'std']].plot.bar(figsize=(12,8))\n",
        "plt.legend(fontsize=18)\n",
        "plt.xticks(fontsize=16)\n",
        "plt.yticks(fontsize=16)\n",
        "plt.xlabel(\"\")"
      ],
      "execution_count": 87,
      "outputs": [
        {
          "output_type": "execute_result",
          "data": {
            "text/plain": [
              "Text(0.5, 0, '')"
            ]
          },
          "metadata": {
            "tags": []
          },
          "execution_count": 87
        },
        {
          "output_type": "display_data",
          "data": {
            "image/png": "[encoded data removed]",
            "text/plain": [
              "<Figure size 864x576 with 1 Axes>"
            ]
          },
          "metadata": {
            "tags": []
          }
        }
      ]
    },
    {
      "cell_type": "markdown",
      "metadata": {
        "id": "a4NPcA9Ap6ns",
        "colab_type": "text"
      },
      "source": [
        "#### We plot the cumulative excess returns (excess of risk-free rate)"
      ]
    },
    {
      "cell_type": "code",
      "metadata": {
        "id": "Nxl8R6OSoTSO",
        "colab_type": "code",
        "colab": {
          "base_uri": "https://localhost:8080/",
          "height": 547
        },
        "outputId": "9876afe6-1450-448a-8b17-21956064c6ae"
      },
      "source": [
        "crsp['RetRf']=crsp['RET']-crsp['rf']\n",
        "\n",
        "plt.figure(figsize=(12,8))\n",
        "\n",
        "for stock in lstocks:\n",
        "  plt.plot(crsp[crsp.TICKER==stock]['date'],crsp[crsp.TICKER==stock]['RetRf'].cumsum(), label=stock)\n",
        "  \n",
        "plt.xlabel('Time', fontsize=18)\n",
        "plt.ylabel('Excess return', fontsize=18)\n",
        "plt.legend(loc='best',fontsize=18)\n",
        "plt.xticks(fontsize=16)\n",
        "plt.yticks(fontsize=16)"
      ],
      "execution_count": 53,
      "outputs": [
        {
          "output_type": "execute_result",
          "data": {
            "text/plain": [
              "(array([-2., -1.,  0.,  1.,  2.,  3.,  4.,  5.]),\n",
              " <a list of 8 Text yticklabel objects>)"
            ]
          },
          "metadata": {
            "tags": []
          },
          "execution_count": 53
        },
        {
          "output_type": "display_data",
          "data": {
            "image/png": "[encoded data removed]",
            "text/plain": [
              "<Figure size 864x576 with 1 Axes>"
            ]
          },
          "metadata": {
            "tags": []
          }
        }
      ]
    },
    {
      "cell_type": "markdown",
      "metadata": {
        "id": "ZIbIz5zrrbVu",
        "colab_type": "text"
      },
      "source": [
        "#### Computing and plotting the Sharpe ratio"
      ]
    },
    {
      "cell_type": "code",
      "metadata": {
        "id": "XBfIdhgjrhxE",
        "colab_type": "code",
        "colab": {}
      },
      "source": [
        "df_sharpe = crsp[crsp['TICKER'].isin(lstocks)]\n",
        "df_sharpe = df_sharpe.pivot(columns='TICKER', values='RetRf', index='date')\n",
        "stat_sharpe = df_sharpe.describe(percentiles=[.1, .25, .5, .75, .9])"
      ],
      "execution_count": 0,
      "outputs": []
    },
    {
      "cell_type": "code",
      "metadata": {
        "id": "-q9uCksFqieS",
        "colab_type": "code",
        "colab": {
          "base_uri": "https://localhost:8080/",
          "height": 359
        },
        "outputId": "ac06bdd8-2013-4d9a-f853-1d3771675c27"
      },
      "source": [
        "stat_sharpe"
      ],
      "execution_count": 65,
      "outputs": [
        {
          "output_type": "execute_result",
          "data": {
            "text/html": [
              "<div>\n",
              "<style scoped>\n",
              "    .dataframe tbody tr th:only-of-type {\n",
              "        vertical-align: middle;\n",
              "    }\n",
              "\n",
              "    .dataframe tbody tr th {\n",
              "        vertical-align: top;\n",
              "    }\n",
              "\n",
              "    .dataframe thead th {\n",
              "        text-align: right;\n",
              "    }\n",
              "</style>\n",
              "<table border=\"1\" class=\"dataframe\">\n",
              "  <thead>\n",
              "    <tr style=\"text-align: right;\">\n",
              "      <th>TICKER</th>\n",
              "      <th>AAPL</th>\n",
              "      <th>AMZN</th>\n",
              "      <th>EBAY</th>\n",
              "      <th>NVDA</th>\n",
              "      <th>ORCL</th>\n",
              "    </tr>\n",
              "  </thead>\n",
              "  <tbody>\n",
              "    <tr>\n",
              "      <th>count</th>\n",
              "      <td>143.000000</td>\n",
              "      <td>143.000000</td>\n",
              "      <td>143.000000</td>\n",
              "      <td>143.000000</td>\n",
              "      <td>143.000000</td>\n",
              "    </tr>\n",
              "    <tr>\n",
              "      <th>mean</th>\n",
              "      <td>0.015460</td>\n",
              "      <td>0.030405</td>\n",
              "      <td>0.003745</td>\n",
              "      <td>0.018930</td>\n",
              "      <td>0.008298</td>\n",
              "    </tr>\n",
              "    <tr>\n",
              "      <th>std</th>\n",
              "      <td>0.116326</td>\n",
              "      <td>0.101982</td>\n",
              "      <td>0.098616</td>\n",
              "      <td>0.137070</td>\n",
              "      <td>0.065726</td>\n",
              "    </tr>\n",
              "    <tr>\n",
              "      <th>min</th>\n",
              "      <td>-0.853191</td>\n",
              "      <td>-0.254318</td>\n",
              "      <td>-0.533201</td>\n",
              "      <td>-0.390389</td>\n",
              "      <td>-0.181818</td>\n",
              "    </tr>\n",
              "    <tr>\n",
              "      <th>10%</th>\n",
              "      <td>-0.086671</td>\n",
              "      <td>-0.084872</td>\n",
              "      <td>-0.089637</td>\n",
              "      <td>-0.155294</td>\n",
              "      <td>-0.076605</td>\n",
              "    </tr>\n",
              "    <tr>\n",
              "      <th>25%</th>\n",
              "      <td>-0.026334</td>\n",
              "      <td>-0.032141</td>\n",
              "      <td>-0.044908</td>\n",
              "      <td>-0.050347</td>\n",
              "      <td>-0.039261</td>\n",
              "    </tr>\n",
              "    <tr>\n",
              "      <th>50%</th>\n",
              "      <td>0.019953</td>\n",
              "      <td>0.026126</td>\n",
              "      <td>0.000000</td>\n",
              "      <td>0.025728</td>\n",
              "      <td>0.010892</td>\n",
              "    </tr>\n",
              "    <tr>\n",
              "      <th>75%</th>\n",
              "      <td>0.074182</td>\n",
              "      <td>0.083982</td>\n",
              "      <td>0.057954</td>\n",
              "      <td>0.094252</td>\n",
              "      <td>0.047521</td>\n",
              "    </tr>\n",
              "    <tr>\n",
              "      <th>90%</th>\n",
              "      <td>0.128209</td>\n",
              "      <td>0.144048</td>\n",
              "      <td>0.104457</td>\n",
              "      <td>0.157110</td>\n",
              "      <td>0.093578</td>\n",
              "    </tr>\n",
              "    <tr>\n",
              "      <th>max</th>\n",
              "      <td>0.234501</td>\n",
              "      <td>0.536942</td>\n",
              "      <td>0.330855</td>\n",
              "      <td>0.553147</td>\n",
              "      <td>0.229014</td>\n",
              "    </tr>\n",
              "  </tbody>\n",
              "</table>\n",
              "</div>"
            ],
            "text/plain": [
              "TICKER        AAPL        AMZN        EBAY        NVDA        ORCL\n",
              "count   143.000000  143.000000  143.000000  143.000000  143.000000\n",
              "mean      0.015460    0.030405    0.003745    0.018930    0.008298\n",
              "std       0.116326    0.101982    0.098616    0.137070    0.065726\n",
              "min      -0.853191   -0.254318   -0.533201   -0.390389   -0.181818\n",
              "10%      -0.086671   -0.084872   -0.089637   -0.155294   -0.076605\n",
              "25%      -0.026334   -0.032141   -0.044908   -0.050347   -0.039261\n",
              "50%       0.019953    0.026126    0.000000    0.025728    0.010892\n",
              "75%       0.074182    0.083982    0.057954    0.094252    0.047521\n",
              "90%       0.128209    0.144048    0.104457    0.157110    0.093578\n",
              "max       0.234501    0.536942    0.330855    0.553147    0.229014"
            ]
          },
          "metadata": {
            "tags": []
          },
          "execution_count": 65
        }
      ]
    },
    {
      "cell_type": "code",
      "metadata": {
        "id": "xOQEeHzHr7k5",
        "colab_type": "code",
        "colab": {}
      },
      "source": [
        "stat_sharpe = stat_sharpe.loc[['mean', 'std']].T\n",
        "stat_sharpe['Sharpe']=stat_sharpe['mean']/stat_sharpe['std']"
      ],
      "execution_count": 0,
      "outputs": []
    },
    {
      "cell_type": "code",
      "metadata": {
        "id": "E2qAtkrEr_z4",
        "colab_type": "code",
        "colab": {
          "base_uri": "https://localhost:8080/",
          "height": 541
        },
        "outputId": "0fa654f2-d4fd-44cc-ecb9-5dd5e73a1104"
      },
      "source": [
        "stat_sharpe[['mean', 'std','Sharpe']].plot.bar(figsize=(12, 8))\n",
        "plt.legend(fontsize=18)\n",
        "plt.xticks(fontsize=16)\n",
        "plt.yticks(fontsize=16)\n",
        "plt.xlabel(\"\")"
      ],
      "execution_count": 85,
      "outputs": [
        {
          "output_type": "execute_result",
          "data": {
            "text/plain": [
              "Text(0.5, 0, '')"
            ]
          },
          "metadata": {
            "tags": []
          },
          "execution_count": 85
        },
        {
          "output_type": "display_data",
          "data": {
            "image/png": "[encoded data removed]",
            "text/plain": [
              "<Figure size 864x576 with 1 Axes>"
            ]
          },
          "metadata": {
            "tags": []
          }
        }
      ]
    },
    {
      "cell_type": "markdown",
      "metadata": {
        "id": "1fyY_3Fwsmxa",
        "colab_type": "text"
      },
      "source": [
        "## Asset pricing models and testing\n",
        "\n",
        "1. The goal of this exercise is to test: \n",
        "> * the CAPM (only Market matters) \n",
        "> * the 3-factor Fama-French model (Market + SMB + HML factors), and \n",
        "> * the 4-factor Carhart model (Fama-French + Momentum). \n",
        "\n",
        "2. To do so, we will run a time-series OLS regression.\n",
        "\n",
        "3. First, we need form an equally weighted portfolio with our 5 stocks.\n",
        "\n",
        "4. **Challenge**: Rebalancing. We invest $1 in each stock at the beginning of the period. Simply averaging returns for each stock each month would imply that we rebalance the portfolio each month."
      ]
    },
    {
      "cell_type": "code",
      "metadata": {
        "id": "cGIQ7zvRsL9A",
        "colab_type": "code",
        "colab": {}
      },
      "source": [
        "df = crsp[crsp['TICKER'].isin(lstocks)]  # re-load the data"
      ],
      "execution_count": 0,
      "outputs": []
    },
    {
      "cell_type": "markdown",
      "metadata": {
        "id": "jA7IteiIxPrv",
        "colab_type": "text"
      },
      "source": [
        "#### Pivot the data so columns are stocks and row are dates. Obtain gross returns by adding 1"
      ]
    },
    {
      "cell_type": "code",
      "metadata": {
        "id": "cxyj6J-KuktN",
        "colab_type": "code",
        "colab": {
          "base_uri": "https://localhost:8080/",
          "height": 235
        },
        "outputId": "48f381dd-d258-4bcb-80bd-50b63a94bd66"
      },
      "source": [
        "df_pivot=df.pivot(columns='TICKER', values='RET', index='date') \n",
        "df_pivot=1+df_pivot # to obtain gross returns\n",
        "df_pivot.head()"
      ],
      "execution_count": 112,
      "outputs": [
        {
          "output_type": "execute_result",
          "data": {
            "text/html": [
              "<div>\n",
              "<style scoped>\n",
              "    .dataframe tbody tr th:only-of-type {\n",
              "        vertical-align: middle;\n",
              "    }\n",
              "\n",
              "    .dataframe tbody tr th {\n",
              "        vertical-align: top;\n",
              "    }\n",
              "\n",
              "    .dataframe thead th {\n",
              "        text-align: right;\n",
              "    }\n",
              "</style>\n",
              "<table border=\"1\" class=\"dataframe\">\n",
              "  <thead>\n",
              "    <tr style=\"text-align: right;\">\n",
              "      <th>TICKER</th>\n",
              "      <th>AAPL</th>\n",
              "      <th>AMZN</th>\n",
              "      <th>EBAY</th>\n",
              "      <th>NVDA</th>\n",
              "      <th>ORCL</th>\n",
              "    </tr>\n",
              "    <tr>\n",
              "      <th>date</th>\n",
              "      <th></th>\n",
              "      <th></th>\n",
              "      <th></th>\n",
              "      <th></th>\n",
              "      <th></th>\n",
              "    </tr>\n",
              "  </thead>\n",
              "  <tbody>\n",
              "    <tr>\n",
              "      <th>2007-01-31</th>\n",
              "      <td>NaN</td>\n",
              "      <td>NaN</td>\n",
              "      <td>NaN</td>\n",
              "      <td>NaN</td>\n",
              "      <td>NaN</td>\n",
              "    </tr>\n",
              "    <tr>\n",
              "      <th>2007-02-28</th>\n",
              "      <td>0.986936</td>\n",
              "      <td>1.039023</td>\n",
              "      <td>0.989812</td>\n",
              "      <td>1.011419</td>\n",
              "      <td>0.957459</td>\n",
              "    </tr>\n",
              "    <tr>\n",
              "      <th>2007-03-30</th>\n",
              "      <td>1.098097</td>\n",
              "      <td>1.016607</td>\n",
              "      <td>1.033999</td>\n",
              "      <td>0.928387</td>\n",
              "      <td>1.103469</td>\n",
              "    </tr>\n",
              "    <tr>\n",
              "      <th>2007-04-30</th>\n",
              "      <td>1.074158</td>\n",
              "      <td>1.541342</td>\n",
              "      <td>1.023831</td>\n",
              "      <td>1.142808</td>\n",
              "      <td>1.036955</td>\n",
              "    </tr>\n",
              "    <tr>\n",
              "      <th>2007-05-31</th>\n",
              "      <td>1.214339</td>\n",
              "      <td>1.127344</td>\n",
              "      <td>0.959340</td>\n",
              "      <td>1.053177</td>\n",
              "      <td>1.030851</td>\n",
              "    </tr>\n",
              "  </tbody>\n",
              "</table>\n",
              "</div>"
            ],
            "text/plain": [
              "TICKER          AAPL      AMZN      EBAY      NVDA      ORCL\n",
              "date                                                        \n",
              "2007-01-31       NaN       NaN       NaN       NaN       NaN\n",
              "2007-02-28  0.986936  1.039023  0.989812  1.011419  0.957459\n",
              "2007-03-30  1.098097  1.016607  1.033999  0.928387  1.103469\n",
              "2007-04-30  1.074158  1.541342  1.023831  1.142808  1.036955\n",
              "2007-05-31  1.214339  1.127344  0.959340  1.053177  1.030851"
            ]
          },
          "metadata": {
            "tags": []
          },
          "execution_count": 112
        }
      ]
    },
    {
      "cell_type": "markdown",
      "metadata": {
        "id": "-IVpdlVqxXi_",
        "colab_type": "text"
      },
      "source": [
        "#### Allocate one dollar initially to all of the five stocks"
      ]
    },
    {
      "cell_type": "code",
      "metadata": {
        "id": "IfoUdzvpwe3T",
        "colab_type": "code",
        "colab": {
          "base_uri": "https://localhost:8080/",
          "height": 235
        },
        "outputId": "3c4e9820-4a42-4d29-bab0-9798f51afe57"
      },
      "source": [
        "# allocate one dollar to each of the five stocks initially\n",
        "df_pivot.loc[to_datetime('2007-01-31')]=1 \n",
        "df_pivot.head()"
      ],
      "execution_count": 113,
      "outputs": [
        {
          "output_type": "execute_result",
          "data": {
            "text/html": [
              "<div>\n",
              "<style scoped>\n",
              "    .dataframe tbody tr th:only-of-type {\n",
              "        vertical-align: middle;\n",
              "    }\n",
              "\n",
              "    .dataframe tbody tr th {\n",
              "        vertical-align: top;\n",
              "    }\n",
              "\n",
              "    .dataframe thead th {\n",
              "        text-align: right;\n",
              "    }\n",
              "</style>\n",
              "<table border=\"1\" class=\"dataframe\">\n",
              "  <thead>\n",
              "    <tr style=\"text-align: right;\">\n",
              "      <th>TICKER</th>\n",
              "      <th>AAPL</th>\n",
              "      <th>AMZN</th>\n",
              "      <th>EBAY</th>\n",
              "      <th>NVDA</th>\n",
              "      <th>ORCL</th>\n",
              "    </tr>\n",
              "    <tr>\n",
              "      <th>date</th>\n",
              "      <th></th>\n",
              "      <th></th>\n",
              "      <th></th>\n",
              "      <th></th>\n",
              "      <th></th>\n",
              "    </tr>\n",
              "  </thead>\n",
              "  <tbody>\n",
              "    <tr>\n",
              "      <th>2007-01-31</th>\n",
              "      <td>1.000000</td>\n",
              "      <td>1.000000</td>\n",
              "      <td>1.000000</td>\n",
              "      <td>1.000000</td>\n",
              "      <td>1.000000</td>\n",
              "    </tr>\n",
              "    <tr>\n",
              "      <th>2007-02-28</th>\n",
              "      <td>0.986936</td>\n",
              "      <td>1.039023</td>\n",
              "      <td>0.989812</td>\n",
              "      <td>1.011419</td>\n",
              "      <td>0.957459</td>\n",
              "    </tr>\n",
              "    <tr>\n",
              "      <th>2007-03-30</th>\n",
              "      <td>1.098097</td>\n",
              "      <td>1.016607</td>\n",
              "      <td>1.033999</td>\n",
              "      <td>0.928387</td>\n",
              "      <td>1.103469</td>\n",
              "    </tr>\n",
              "    <tr>\n",
              "      <th>2007-04-30</th>\n",
              "      <td>1.074158</td>\n",
              "      <td>1.541342</td>\n",
              "      <td>1.023831</td>\n",
              "      <td>1.142808</td>\n",
              "      <td>1.036955</td>\n",
              "    </tr>\n",
              "    <tr>\n",
              "      <th>2007-05-31</th>\n",
              "      <td>1.214339</td>\n",
              "      <td>1.127344</td>\n",
              "      <td>0.959340</td>\n",
              "      <td>1.053177</td>\n",
              "      <td>1.030851</td>\n",
              "    </tr>\n",
              "  </tbody>\n",
              "</table>\n",
              "</div>"
            ],
            "text/plain": [
              "TICKER          AAPL      AMZN      EBAY      NVDA      ORCL\n",
              "date                                                        \n",
              "2007-01-31  1.000000  1.000000  1.000000  1.000000  1.000000\n",
              "2007-02-28  0.986936  1.039023  0.989812  1.011419  0.957459\n",
              "2007-03-30  1.098097  1.016607  1.033999  0.928387  1.103469\n",
              "2007-04-30  1.074158  1.541342  1.023831  1.142808  1.036955\n",
              "2007-05-31  1.214339  1.127344  0.959340  1.053177  1.030851"
            ]
          },
          "metadata": {
            "tags": []
          },
          "execution_count": 113
        }
      ]
    },
    {
      "cell_type": "markdown",
      "metadata": {
        "id": "ZkZDY2NHxwL-",
        "colab_type": "text"
      },
      "source": [
        "#### Roll over the investment"
      ]
    },
    {
      "cell_type": "code",
      "metadata": {
        "id": "xT8vs6IOwuij",
        "colab_type": "code",
        "colab": {
          "base_uri": "https://localhost:8080/",
          "height": 235
        },
        "outputId": "b02041d1-b7df-4445-ad29-98634adaaa23"
      },
      "source": [
        "EW_Invest = df_pivot.cumprod()\n",
        "EW_Invest.head()"
      ],
      "execution_count": 115,
      "outputs": [
        {
          "output_type": "execute_result",
          "data": {
            "text/html": [
              "<div>\n",
              "<style scoped>\n",
              "    .dataframe tbody tr th:only-of-type {\n",
              "        vertical-align: middle;\n",
              "    }\n",
              "\n",
              "    .dataframe tbody tr th {\n",
              "        vertical-align: top;\n",
              "    }\n",
              "\n",
              "    .dataframe thead th {\n",
              "        text-align: right;\n",
              "    }\n",
              "</style>\n",
              "<table border=\"1\" class=\"dataframe\">\n",
              "  <thead>\n",
              "    <tr style=\"text-align: right;\">\n",
              "      <th>TICKER</th>\n",
              "      <th>AAPL</th>\n",
              "      <th>AMZN</th>\n",
              "      <th>EBAY</th>\n",
              "      <th>NVDA</th>\n",
              "      <th>ORCL</th>\n",
              "    </tr>\n",
              "    <tr>\n",
              "      <th>date</th>\n",
              "      <th></th>\n",
              "      <th></th>\n",
              "      <th></th>\n",
              "      <th></th>\n",
              "      <th></th>\n",
              "    </tr>\n",
              "  </thead>\n",
              "  <tbody>\n",
              "    <tr>\n",
              "      <th>2007-01-31</th>\n",
              "      <td>1.000000</td>\n",
              "      <td>1.000000</td>\n",
              "      <td>1.000000</td>\n",
              "      <td>1.000000</td>\n",
              "      <td>1.000000</td>\n",
              "    </tr>\n",
              "    <tr>\n",
              "      <th>2007-02-28</th>\n",
              "      <td>0.986936</td>\n",
              "      <td>1.039023</td>\n",
              "      <td>0.989812</td>\n",
              "      <td>1.011419</td>\n",
              "      <td>0.957459</td>\n",
              "    </tr>\n",
              "    <tr>\n",
              "      <th>2007-03-30</th>\n",
              "      <td>1.083751</td>\n",
              "      <td>1.056278</td>\n",
              "      <td>1.023464</td>\n",
              "      <td>0.938989</td>\n",
              "      <td>1.056527</td>\n",
              "    </tr>\n",
              "    <tr>\n",
              "      <th>2007-04-30</th>\n",
              "      <td>1.164120</td>\n",
              "      <td>1.628086</td>\n",
              "      <td>1.047854</td>\n",
              "      <td>1.073083</td>\n",
              "      <td>1.095571</td>\n",
              "    </tr>\n",
              "    <tr>\n",
              "      <th>2007-05-31</th>\n",
              "      <td>1.413636</td>\n",
              "      <td>1.835413</td>\n",
              "      <td>1.005249</td>\n",
              "      <td>1.130147</td>\n",
              "      <td>1.129371</td>\n",
              "    </tr>\n",
              "  </tbody>\n",
              "</table>\n",
              "</div>"
            ],
            "text/plain": [
              "TICKER          AAPL      AMZN      EBAY      NVDA      ORCL\n",
              "date                                                        \n",
              "2007-01-31  1.000000  1.000000  1.000000  1.000000  1.000000\n",
              "2007-02-28  0.986936  1.039023  0.989812  1.011419  0.957459\n",
              "2007-03-30  1.083751  1.056278  1.023464  0.938989  1.056527\n",
              "2007-04-30  1.164120  1.628086  1.047854  1.073083  1.095571\n",
              "2007-05-31  1.413636  1.835413  1.005249  1.130147  1.129371"
            ]
          },
          "metadata": {
            "tags": []
          },
          "execution_count": 115
        }
      ]
    },
    {
      "cell_type": "markdown",
      "metadata": {
        "id": "oC_mpB_lyMPz",
        "colab_type": "text"
      },
      "source": [
        "#### Computing the value of investment each month (and the return)"
      ]
    },
    {
      "cell_type": "code",
      "metadata": {
        "id": "sd3fshKJx5gO",
        "colab_type": "code",
        "colab": {}
      },
      "source": [
        "EW_Invest['portfolio_value'] = EW_Invest.sum(axis=1)  \n",
        "# by default axis=0: sum values by columns but we want to sum by rows\n",
        "EW_Invest['portfolio_return'] = EW_Invest['portfolio_value'].pct_change()  \n",
        "# getting the returns on each month for the portfolio"
      ],
      "execution_count": 0,
      "outputs": []
    },
    {
      "cell_type": "code",
      "metadata": {
        "id": "k1_00pTnyFpZ",
        "colab_type": "code",
        "colab": {
          "base_uri": "https://localhost:8080/",
          "height": 235
        },
        "outputId": "c942af34-6d6d-4526-c377-a88d0165f447"
      },
      "source": [
        "EW_Invest.head()"
      ],
      "execution_count": 117,
      "outputs": [
        {
          "output_type": "execute_result",
          "data": {
            "text/html": [
              "<div>\n",
              "<style scoped>\n",
              "    .dataframe tbody tr th:only-of-type {\n",
              "        vertical-align: middle;\n",
              "    }\n",
              "\n",
              "    .dataframe tbody tr th {\n",
              "        vertical-align: top;\n",
              "    }\n",
              "\n",
              "    .dataframe thead th {\n",
              "        text-align: right;\n",
              "    }\n",
              "</style>\n",
              "<table border=\"1\" class=\"dataframe\">\n",
              "  <thead>\n",
              "    <tr style=\"text-align: right;\">\n",
              "      <th>TICKER</th>\n",
              "      <th>AAPL</th>\n",
              "      <th>AMZN</th>\n",
              "      <th>EBAY</th>\n",
              "      <th>NVDA</th>\n",
              "      <th>ORCL</th>\n",
              "      <th>portfolio_value</th>\n",
              "      <th>portfolio_return</th>\n",
              "    </tr>\n",
              "    <tr>\n",
              "      <th>date</th>\n",
              "      <th></th>\n",
              "      <th></th>\n",
              "      <th></th>\n",
              "      <th></th>\n",
              "      <th></th>\n",
              "      <th></th>\n",
              "      <th></th>\n",
              "    </tr>\n",
              "  </thead>\n",
              "  <tbody>\n",
              "    <tr>\n",
              "      <th>2007-01-31</th>\n",
              "      <td>1.000000</td>\n",
              "      <td>1.000000</td>\n",
              "      <td>1.000000</td>\n",
              "      <td>1.000000</td>\n",
              "      <td>1.000000</td>\n",
              "      <td>5.000000</td>\n",
              "      <td>NaN</td>\n",
              "    </tr>\n",
              "    <tr>\n",
              "      <th>2007-02-28</th>\n",
              "      <td>0.986936</td>\n",
              "      <td>1.039023</td>\n",
              "      <td>0.989812</td>\n",
              "      <td>1.011419</td>\n",
              "      <td>0.957459</td>\n",
              "      <td>4.984649</td>\n",
              "      <td>-0.003070</td>\n",
              "    </tr>\n",
              "    <tr>\n",
              "      <th>2007-03-30</th>\n",
              "      <td>1.083751</td>\n",
              "      <td>1.056278</td>\n",
              "      <td>1.023464</td>\n",
              "      <td>0.938989</td>\n",
              "      <td>1.056527</td>\n",
              "      <td>5.159009</td>\n",
              "      <td>0.034979</td>\n",
              "    </tr>\n",
              "    <tr>\n",
              "      <th>2007-04-30</th>\n",
              "      <td>1.164120</td>\n",
              "      <td>1.628086</td>\n",
              "      <td>1.047854</td>\n",
              "      <td>1.073083</td>\n",
              "      <td>1.095571</td>\n",
              "      <td>6.008714</td>\n",
              "      <td>0.164703</td>\n",
              "    </tr>\n",
              "    <tr>\n",
              "      <th>2007-05-31</th>\n",
              "      <td>1.413636</td>\n",
              "      <td>1.835413</td>\n",
              "      <td>1.005249</td>\n",
              "      <td>1.130147</td>\n",
              "      <td>1.129371</td>\n",
              "      <td>6.513815</td>\n",
              "      <td>0.084061</td>\n",
              "    </tr>\n",
              "  </tbody>\n",
              "</table>\n",
              "</div>"
            ],
            "text/plain": [
              "TICKER          AAPL      AMZN  ...  portfolio_value  portfolio_return\n",
              "date                            ...                                   \n",
              "2007-01-31  1.000000  1.000000  ...         5.000000               NaN\n",
              "2007-02-28  0.986936  1.039023  ...         4.984649         -0.003070\n",
              "2007-03-30  1.083751  1.056278  ...         5.159009          0.034979\n",
              "2007-04-30  1.164120  1.628086  ...         6.008714          0.164703\n",
              "2007-05-31  1.413636  1.835413  ...         6.513815          0.084061\n",
              "\n",
              "[5 rows x 7 columns]"
            ]
          },
          "metadata": {
            "tags": []
          },
          "execution_count": 117
        }
      ]
    },
    {
      "cell_type": "markdown",
      "metadata": {
        "id": "DSVZACMfzSrQ",
        "colab_type": "text"
      },
      "source": [
        "### Merge the equally weighted data with the factor data"
      ]
    },
    {
      "cell_type": "code",
      "metadata": {
        "id": "r69aJQQCyGzJ",
        "colab_type": "code",
        "colab": {}
      },
      "source": [
        "test_data=EW_Invest.reset_index()[['date','portfolio_return']].merge(\n",
        "    crsp[['date','mktrf',\t'smb', 'hml',\t'rf',\t'umd']],on='date',how='left').drop_duplicates().reset_index(drop=True)"
      ],
      "execution_count": 0,
      "outputs": []
    },
    {
      "cell_type": "code",
      "metadata": {
        "id": "K3ykYKYgzaeX",
        "colab_type": "code",
        "colab": {
          "base_uri": "https://localhost:8080/",
          "height": 204
        },
        "outputId": "3bc13c44-07b3-4185-aecf-24ae30cb027e"
      },
      "source": [
        "test_data.head()"
      ],
      "execution_count": 130,
      "outputs": [
        {
          "output_type": "execute_result",
          "data": {
            "text/html": [
              "<div>\n",
              "<style scoped>\n",
              "    .dataframe tbody tr th:only-of-type {\n",
              "        vertical-align: middle;\n",
              "    }\n",
              "\n",
              "    .dataframe tbody tr th {\n",
              "        vertical-align: top;\n",
              "    }\n",
              "\n",
              "    .dataframe thead th {\n",
              "        text-align: right;\n",
              "    }\n",
              "</style>\n",
              "<table border=\"1\" class=\"dataframe\">\n",
              "  <thead>\n",
              "    <tr style=\"text-align: right;\">\n",
              "      <th></th>\n",
              "      <th>date</th>\n",
              "      <th>portfolio_return</th>\n",
              "      <th>mktrf</th>\n",
              "      <th>smb</th>\n",
              "      <th>hml</th>\n",
              "      <th>rf</th>\n",
              "      <th>umd</th>\n",
              "    </tr>\n",
              "  </thead>\n",
              "  <tbody>\n",
              "    <tr>\n",
              "      <th>0</th>\n",
              "      <td>2007-01-31</td>\n",
              "      <td>NaN</td>\n",
              "      <td>0.0140</td>\n",
              "      <td>0.0010</td>\n",
              "      <td>-0.0011</td>\n",
              "      <td>0.0044</td>\n",
              "      <td>0.0021</td>\n",
              "    </tr>\n",
              "    <tr>\n",
              "      <th>1</th>\n",
              "      <td>2007-02-28</td>\n",
              "      <td>-0.003070</td>\n",
              "      <td>-0.0196</td>\n",
              "      <td>0.0132</td>\n",
              "      <td>-0.0009</td>\n",
              "      <td>0.0038</td>\n",
              "      <td>-0.0135</td>\n",
              "    </tr>\n",
              "    <tr>\n",
              "      <th>2</th>\n",
              "      <td>2007-03-30</td>\n",
              "      <td>0.034979</td>\n",
              "      <td>0.0068</td>\n",
              "      <td>-0.0006</td>\n",
              "      <td>-0.0022</td>\n",
              "      <td>0.0043</td>\n",
              "      <td>0.0247</td>\n",
              "    </tr>\n",
              "    <tr>\n",
              "      <th>3</th>\n",
              "      <td>2007-04-30</td>\n",
              "      <td>0.164703</td>\n",
              "      <td>0.0349</td>\n",
              "      <td>-0.0206</td>\n",
              "      <td>-0.0115</td>\n",
              "      <td>0.0044</td>\n",
              "      <td>-0.0016</td>\n",
              "    </tr>\n",
              "    <tr>\n",
              "      <th>4</th>\n",
              "      <td>2007-05-31</td>\n",
              "      <td>0.084061</td>\n",
              "      <td>0.0324</td>\n",
              "      <td>0.0003</td>\n",
              "      <td>-0.0005</td>\n",
              "      <td>0.0041</td>\n",
              "      <td>-0.0026</td>\n",
              "    </tr>\n",
              "  </tbody>\n",
              "</table>\n",
              "</div>"
            ],
            "text/plain": [
              "        date  portfolio_return   mktrf     smb     hml      rf     umd\n",
              "0 2007-01-31               NaN  0.0140  0.0010 -0.0011  0.0044  0.0021\n",
              "1 2007-02-28         -0.003070 -0.0196  0.0132 -0.0009  0.0038 -0.0135\n",
              "2 2007-03-30          0.034979  0.0068 -0.0006 -0.0022  0.0043  0.0247\n",
              "3 2007-04-30          0.164703  0.0349 -0.0206 -0.0115  0.0044 -0.0016\n",
              "4 2007-05-31          0.084061  0.0324  0.0003 -0.0005  0.0041 -0.0026"
            ]
          },
          "metadata": {
            "tags": []
          },
          "execution_count": 130
        }
      ]
    },
    {
      "cell_type": "code",
      "metadata": {
        "id": "YRMQmtbY0DyW",
        "colab_type": "code",
        "colab": {
          "base_uri": "https://localhost:8080/",
          "height": 290
        },
        "outputId": "44a253df-26da-4cdd-b2d5-e23dab8c498a"
      },
      "source": [
        "test_data.set_index('date')['portfolio_return'].plot(figsize=(9,4$R_{t}-RF_t = \\alpha + \\beta R_{M,t}-RF_t + \\varepsilon_t$ is the regression. \n",
        "Hint: Merge the Fama-French data to your return dataframe of your portfolio. $R_{t}-RF_t$ this is the excess return of your portfolio and $R_{M,t}-RF_t$ the excess return of the market (EXMKT) in Fama-French\n",
        "#### Report the $\\alpha$ and $\\beta$ of your regression))"
      ],
      "execution_count": 135,
      "outputs": [
        {
          "output_type": "execute_result",
          "data": {
            "text/plain": [
              "<matplotlib.axes._subplots.AxesSubplot at 0x7faa3b764d68>"
            ]
          },
          "metadata": {
            "tags": []
          },
          "execution_count": 135
        },
        {
          "output_type": "display_data",
          "data": {
            "image/png": "[encoded data removed]",
            "text/plain": [
              "<Figure size 648x288 with 1 Axes>"
            ]
          },
          "metadata": {
            "tags": []
          }
        }
      ]
    },
    {
      "cell_type": "code",
      "metadata": {
        "id": "xQVHpj2U0PM2",
        "colab_type": "code",
        "colab": {
          "base_uri": "https://localhost:8080/",
          "height": 290
        },
        "outputId": "fb0f5e43-126f-4347-df43-4d8f0d96846d"
      },
      "source": [
        "test_data.set_index('date')['portfolio_return'].cumsum().plot(figsize=(9,4))"
      ],
      "execution_count": 136,
      "outputs": [
        {
          "output_type": "execute_result",
          "data": {
            "text/plain": [
              "<matplotlib.axes._subplots.AxesSubplot at 0x7faa3977fa90>"
            ]
          },
          "metadata": {
            "tags": []
          },
          "execution_count": 136
        },
        {
          "output_type": "display_data",
          "data": {
            "image/png": "[encoded data removed]",
            "text/plain": [
              "<Figure size 648x288 with 1 Axes>"
            ]
          },
          "metadata": {
            "tags": []
          }
        }
      ]
    },
    {
      "cell_type": "markdown",
      "metadata": {
        "id": "E6DUIrIi0kuS",
        "colab_type": "text"
      },
      "source": [
        "We want to estimate the model\n",
        "\n",
        "$$R_{t}-RF_t = \\alpha + \\beta \\left(R_{M,t}-RF_t\\right)+ \\beta_1 \\text{SML}+ \\beta_1 \\text{HMB} + + \\beta_1 \\text{UMD} + \\varepsilon_t.$$ \n"
      ]
    },
    {
      "cell_type": "code",
      "metadata": {
        "id": "1BeK_XQF0ZoO",
        "colab_type": "code",
        "colab": {}
      },
      "source": [
        "import statsmodels.formula.api as smf # load the econometrics package"
      ],
      "execution_count": 0,
      "outputs": []
    },
    {
      "cell_type": "code",
      "metadata": {
        "id": "xd0jYnRe1BWE",
        "colab_type": "code",
        "colab": {}
      },
      "source": [
        "test_data['ExcessReturn']=test_data['portfolio_return']-test_data['rf']"
      ],
      "execution_count": 0,
      "outputs": []
    },
    {
      "cell_type": "markdown",
      "metadata": {
        "id": "qJK9gfEm1cU0",
        "colab_type": "text"
      },
      "source": [
        "#### CAPM Model. What do you infer?"
      ]
    },
    {
      "cell_type": "code",
      "metadata": {
        "id": "tTgNakBu1VM9",
        "colab_type": "code",
        "colab": {
          "base_uri": "https://localhost:8080/",
          "height": 444
        },
        "outputId": "547f743a-5128-4693-fb68-43430225bf73"
      },
      "source": [
        "reg_CAPM = smf.ols('ExcessReturn~mktrf', data=test_data).fit(covtype='HC2')\n",
        "reg_CAPM.summary()"
      ],
      "execution_count": 151,
      "outputs": [
        {
          "output_type": "execute_result",
          "data": {
            "text/html": [
              "<table class=\"simpletable\">\n",
              "<caption>OLS Regression Results</caption>\n",
              "<tr>\n",
              "  <th>Dep. Variable:</th>      <td>ExcessReturn</td>   <th>  R-squared:         </th> <td>   0.431</td>\n",
              "</tr>\n",
              "<tr>\n",
              "  <th>Model:</th>                   <td>OLS</td>       <th>  Adj. R-squared:    </th> <td>   0.427</td>\n",
              "</tr>\n",
              "<tr>\n",
              "  <th>Method:</th>             <td>Least Squares</td>  <th>  F-statistic:       </th> <td>   106.8</td>\n",
              "</tr>\n",
              "<tr>\n",
              "  <th>Date:</th>             <td>Wed, 03 Jul 2019</td> <th>  Prob (F-statistic):</th> <td>5.56e-19</td>\n",
              "</tr>\n",
              "<tr>\n",
              "  <th>Time:</th>                 <td>17:19:59</td>     <th>  Log-Likelihood:    </th> <td>  202.91</td>\n",
              "</tr>\n",
              "<tr>\n",
              "  <th>No. Observations:</th>      <td>   143</td>      <th>  AIC:               </th> <td>  -401.8</td>\n",
              "</tr>\n",
              "<tr>\n",
              "  <th>Df Residuals:</th>          <td>   141</td>      <th>  BIC:               </th> <td>  -395.9</td>\n",
              "</tr>\n",
              "<tr>\n",
              "  <th>Df Model:</th>              <td>     1</td>      <th>                     </th>     <td> </td>   \n",
              "</tr>\n",
              "<tr>\n",
              "  <th>Covariance Type:</th>      <td>nonrobust</td>    <th>                     </th>     <td> </td>   \n",
              "</tr>\n",
              "</table>\n",
              "<table class=\"simpletable\">\n",
              "<tr>\n",
              "      <td></td>         <th>coef</th>     <th>std err</th>      <th>t</th>      <th>P>|t|</th>  <th>[0.025</th>    <th>0.975]</th>  \n",
              "</tr>\n",
              "<tr>\n",
              "  <th>Intercept</th> <td>    0.0114</td> <td>    0.005</td> <td>    2.296</td> <td> 0.023</td> <td>    0.002</td> <td>    0.021</td>\n",
              "</tr>\n",
              "<tr>\n",
              "  <th>mktrf</th>     <td>    1.1692</td> <td>    0.113</td> <td>   10.333</td> <td> 0.000</td> <td>    0.945</td> <td>    1.393</td>\n",
              "</tr>\n",
              "</table>\n",
              "<table class=\"simpletable\">\n",
              "<tr>\n",
              "  <th>Omnibus:</th>       <td>56.520</td> <th>  Durbin-Watson:     </th> <td>   1.775</td>\n",
              "</tr>\n",
              "<tr>\n",
              "  <th>Prob(Omnibus):</th> <td> 0.000</td> <th>  Jarque-Bera (JB):  </th> <td> 328.308</td>\n",
              "</tr>\n",
              "<tr>\n",
              "  <th>Skew:</th>          <td>-1.243</td> <th>  Prob(JB):          </th> <td>5.12e-72</td>\n",
              "</tr>\n",
              "<tr>\n",
              "  <th>Kurtosis:</th>      <td> 9.994</td> <th>  Cond. No.          </th> <td>    22.9</td>\n",
              "</tr>\n",
              "</table><br/><br/>Warnings:<br/>[1] Standard Errors assume that the covariance matrix of the errors is correctly specified."
            ],
            "text/plain": [
              "<class 'statsmodels.iolib.summary.Summary'>\n",
              "\"\"\"\n",
              "                            OLS Regression Results                            \n",
              "==============================================================================\n",
              "Dep. Variable:           ExcessReturn   R-squared:                       0.431\n",
              "Model:                            OLS   Adj. R-squared:                  0.427\n",
              "Method:                 Least Squares   F-statistic:                     106.8\n",
              "Date:                Wed, 03 Jul 2019   Prob (F-statistic):           5.56e-19\n",
              "Time:                        17:19:59   Log-Likelihood:                 202.91\n",
              "No. Observations:                 143   AIC:                            -401.8\n",
              "Df Residuals:                     141   BIC:                            -395.9\n",
              "Df Model:                           1                                         \n",
              "Covariance Type:            nonrobust                                         \n",
              "==============================================================================\n",
              "                 coef    std err          t      P>|t|      [0.025      0.975]\n",
              "------------------------------------------------------------------------------\n",
              "Intercept      0.0114      0.005      2.296      0.023       0.002       0.021\n",
              "mktrf          1.1692      0.113     10.333      0.000       0.945       1.393\n",
              "==============================================================================\n",
              "Omnibus:                       56.520   Durbin-Watson:                   1.775\n",
              "Prob(Omnibus):                  0.000   Jarque-Bera (JB):              328.308\n",
              "Skew:                          -1.243   Prob(JB):                     5.12e-72\n",
              "Kurtosis:                       9.994   Cond. No.                         22.9\n",
              "==============================================================================\n",
              "\n",
              "Warnings:\n",
              "[1] Standard Errors assume that the covariance matrix of the errors is correctly specified.\n",
              "\"\"\""
            ]
          },
          "metadata": {
            "tags": []
          },
          "execution_count": 151
        }
      ]
    },
    {
      "cell_type": "markdown",
      "metadata": {
        "id": "8mYafD_a1iPV",
        "colab_type": "text"
      },
      "source": [
        "#### 3-Factor Model. What do you infer?"
      ]
    },
    {
      "cell_type": "code",
      "metadata": {
        "id": "qaV2xWAo1L0d",
        "colab_type": "code",
        "colab": {
          "base_uri": "https://localhost:8080/",
          "height": 486
        },
        "outputId": "f45c5aab-2b18-4fee-d601-227655f7e073"
      },
      "source": [
        "reg_FF = smf.ols('ExcessReturn~mktrf+smb+hml', data=test_data).fit(cov_type='HC2')\n",
        "reg_FF.summary()"
      ],
      "execution_count": 150,
      "outputs": [
        {
          "output_type": "execute_result",
          "data": {
            "text/html": [
              "<table class=\"simpletable\">\n",
              "<caption>OLS Regression Results</caption>\n",
              "<tr>\n",
              "  <th>Dep. Variable:</th>      <td>ExcessReturn</td>   <th>  R-squared:         </th> <td>   0.537</td>\n",
              "</tr>\n",
              "<tr>\n",
              "  <th>Model:</th>                   <td>OLS</td>       <th>  Adj. R-squared:    </th> <td>   0.527</td>\n",
              "</tr>\n",
              "<tr>\n",
              "  <th>Method:</th>             <td>Least Squares</td>  <th>  F-statistic:       </th> <td>   52.67</td>\n",
              "</tr>\n",
              "<tr>\n",
              "  <th>Date:</th>             <td>Wed, 03 Jul 2019</td> <th>  Prob (F-statistic):</th> <td>8.37e-23</td>\n",
              "</tr>\n",
              "<tr>\n",
              "  <th>Time:</th>                 <td>17:19:48</td>     <th>  Log-Likelihood:    </th> <td>  217.60</td>\n",
              "</tr>\n",
              "<tr>\n",
              "  <th>No. Observations:</th>      <td>   143</td>      <th>  AIC:               </th> <td>  -427.2</td>\n",
              "</tr>\n",
              "<tr>\n",
              "  <th>Df Residuals:</th>          <td>   139</td>      <th>  BIC:               </th> <td>  -415.4</td>\n",
              "</tr>\n",
              "<tr>\n",
              "  <th>Df Model:</th>              <td>     3</td>      <th>                     </th>     <td> </td>   \n",
              "</tr>\n",
              "<tr>\n",
              "  <th>Covariance Type:</th>         <td>HC2</td>       <th>                     </th>     <td> </td>   \n",
              "</tr>\n",
              "</table>\n",
              "<table class=\"simpletable\">\n",
              "<tr>\n",
              "      <td></td>         <th>coef</th>     <th>std err</th>      <th>z</th>      <th>P>|z|</th>  <th>[0.025</th>    <th>0.975]</th>  \n",
              "</tr>\n",
              "<tr>\n",
              "  <th>Intercept</th> <td>    0.0082</td> <td>    0.004</td> <td>    1.862</td> <td> 0.063</td> <td>   -0.000</td> <td>    0.017</td>\n",
              "</tr>\n",
              "<tr>\n",
              "  <th>mktrf</th>     <td>    1.3854</td> <td>    0.116</td> <td>   11.984</td> <td> 0.000</td> <td>    1.159</td> <td>    1.612</td>\n",
              "</tr>\n",
              "<tr>\n",
              "  <th>smb</th>       <td>   -0.3222</td> <td>    0.218</td> <td>   -1.478</td> <td> 0.139</td> <td>   -0.749</td> <td>    0.105</td>\n",
              "</tr>\n",
              "<tr>\n",
              "  <th>hml</th>       <td>   -0.9298</td> <td>    0.158</td> <td>   -5.875</td> <td> 0.000</td> <td>   -1.240</td> <td>   -0.620</td>\n",
              "</tr>\n",
              "</table>\n",
              "<table class=\"simpletable\">\n",
              "<tr>\n",
              "  <th>Omnibus:</th>       <td>86.460</td> <th>  Durbin-Watson:     </th> <td>   1.778</td> \n",
              "</tr>\n",
              "<tr>\n",
              "  <th>Prob(Omnibus):</th> <td> 0.000</td> <th>  Jarque-Bera (JB):  </th> <td> 781.769</td> \n",
              "</tr>\n",
              "<tr>\n",
              "  <th>Skew:</th>          <td>-1.936</td> <th>  Prob(JB):          </th> <td>1.74e-170</td>\n",
              "</tr>\n",
              "<tr>\n",
              "  <th>Kurtosis:</th>      <td>13.780</td> <th>  Cond. No.          </th> <td>    47.2</td> \n",
              "</tr>\n",
              "</table><br/><br/>Warnings:<br/>[1] Standard Errors are heteroscedasticity robust (HC2)"
            ],
            "text/plain": [
              "<class 'statsmodels.iolib.summary.Summary'>\n",
              "\"\"\"\n",
              "                            OLS Regression Results                            \n",
              "==============================================================================\n",
              "Dep. Variable:           ExcessReturn   R-squared:                       0.537\n",
              "Model:                            OLS   Adj. R-squared:                  0.527\n",
              "Method:                 Least Squares   F-statistic:                     52.67\n",
              "Date:                Wed, 03 Jul 2019   Prob (F-statistic):           8.37e-23\n",
              "Time:                        17:19:48   Log-Likelihood:                 217.60\n",
              "No. Observations:                 143   AIC:                            -427.2\n",
              "Df Residuals:                     139   BIC:                            -415.4\n",
              "Df Model:                           3                                         \n",
              "Covariance Type:                  HC2                                         \n",
              "==============================================================================\n",
              "                 coef    std err          z      P>|z|      [0.025      0.975]\n",
              "------------------------------------------------------------------------------\n",
              "Intercept      0.0082      0.004      1.862      0.063      -0.000       0.017\n",
              "mktrf          1.3854      0.116     11.984      0.000       1.159       1.612\n",
              "smb           -0.3222      0.218     -1.478      0.139      -0.749       0.105\n",
              "hml           -0.9298      0.158     -5.875      0.000      -1.240      -0.620\n",
              "==============================================================================\n",
              "Omnibus:                       86.460   Durbin-Watson:                   1.778\n",
              "Prob(Omnibus):                  0.000   Jarque-Bera (JB):              781.769\n",
              "Skew:                          -1.936   Prob(JB):                    1.74e-170\n",
              "Kurtosis:                      13.780   Cond. No.                         47.2\n",
              "==============================================================================\n",
              "\n",
              "Warnings:\n",
              "[1] Standard Errors are heteroscedasticity robust (HC2)\n",
              "\"\"\""
            ]
          },
          "metadata": {
            "tags": []
          },
          "execution_count": 150
        }
      ]
    },
    {
      "cell_type": "markdown",
      "metadata": {
        "id": "4iNfz-bK1qgw",
        "colab_type": "text"
      },
      "source": [
        "#### 3-Factor + Momentum Model. What do you infer? "
      ]
    },
    {
      "cell_type": "code",
      "metadata": {
        "id": "0ZahvDLK1Z41",
        "colab_type": "code",
        "colab": {
          "base_uri": "https://localhost:8080/",
          "height": 507
        },
        "outputId": "ae8d1e8e-1d85-41dc-dd3b-06c977f52e1c"
      },
      "source": [
        "reg_Carhart = smf.ols('ExcessReturn~mktrf+smb+hml+umd', data=test_data).fit(cov_type='HC2')\n",
        "reg_Carhart.summary()"
      ],
      "execution_count": 149,
      "outputs": [
        {
          "output_type": "execute_result",
          "data": {
            "text/html": [
              "<table class=\"simpletable\">\n",
              "<caption>OLS Regression Results</caption>\n",
              "<tr>\n",
              "  <th>Dep. Variable:</th>      <td>ExcessReturn</td>   <th>  R-squared:         </th> <td>   0.538</td>\n",
              "</tr>\n",
              "<tr>\n",
              "  <th>Model:</th>                   <td>OLS</td>       <th>  Adj. R-squared:    </th> <td>   0.524</td>\n",
              "</tr>\n",
              "<tr>\n",
              "  <th>Method:</th>             <td>Least Squares</td>  <th>  F-statistic:       </th> <td>   40.52</td>\n",
              "</tr>\n",
              "<tr>\n",
              "  <th>Date:</th>             <td>Wed, 03 Jul 2019</td> <th>  Prob (F-statistic):</th> <td>2.02e-22</td>\n",
              "</tr>\n",
              "<tr>\n",
              "  <th>Time:</th>                 <td>17:19:33</td>     <th>  Log-Likelihood:    </th> <td>  217.78</td>\n",
              "</tr>\n",
              "<tr>\n",
              "  <th>No. Observations:</th>      <td>   143</td>      <th>  AIC:               </th> <td>  -425.6</td>\n",
              "</tr>\n",
              "<tr>\n",
              "  <th>Df Residuals:</th>          <td>   138</td>      <th>  BIC:               </th> <td>  -410.8</td>\n",
              "</tr>\n",
              "<tr>\n",
              "  <th>Df Model:</th>              <td>     4</td>      <th>                     </th>     <td> </td>   \n",
              "</tr>\n",
              "<tr>\n",
              "  <th>Covariance Type:</th>         <td>HC2</td>       <th>                     </th>     <td> </td>   \n",
              "</tr>\n",
              "</table>\n",
              "<table class=\"simpletable\">\n",
              "<tr>\n",
              "      <td></td>         <th>coef</th>     <th>std err</th>      <th>z</th>      <th>P>|z|</th>  <th>[0.025</th>    <th>0.975]</th>  \n",
              "</tr>\n",
              "<tr>\n",
              "  <th>Intercept</th> <td>    0.0083</td> <td>    0.004</td> <td>    1.867</td> <td> 0.062</td> <td>   -0.000</td> <td>    0.017</td>\n",
              "</tr>\n",
              "<tr>\n",
              "  <th>mktrf</th>     <td>    1.3690</td> <td>    0.123</td> <td>   11.161</td> <td> 0.000</td> <td>    1.129</td> <td>    1.609</td>\n",
              "</tr>\n",
              "<tr>\n",
              "  <th>smb</th>       <td>   -0.3211</td> <td>    0.219</td> <td>   -1.468</td> <td> 0.142</td> <td>   -0.750</td> <td>    0.108</td>\n",
              "</tr>\n",
              "<tr>\n",
              "  <th>hml</th>       <td>   -0.9751</td> <td>    0.157</td> <td>   -6.209</td> <td> 0.000</td> <td>   -1.283</td> <td>   -0.667</td>\n",
              "</tr>\n",
              "<tr>\n",
              "  <th>umd</th>       <td>   -0.0657</td> <td>    0.106</td> <td>   -0.619</td> <td> 0.536</td> <td>   -0.274</td> <td>    0.142</td>\n",
              "</tr>\n",
              "</table>\n",
              "<table class=\"simpletable\">\n",
              "<tr>\n",
              "  <th>Omnibus:</th>       <td>86.881</td> <th>  Durbin-Watson:     </th> <td>   1.780</td> \n",
              "</tr>\n",
              "<tr>\n",
              "  <th>Prob(Omnibus):</th> <td> 0.000</td> <th>  Jarque-Bera (JB):  </th> <td> 786.926</td> \n",
              "</tr>\n",
              "<tr>\n",
              "  <th>Skew:</th>          <td>-1.949</td> <th>  Prob(JB):          </th> <td>1.32e-171</td>\n",
              "</tr>\n",
              "<tr>\n",
              "  <th>Kurtosis:</th>      <td>13.811</td> <th>  Cond. No.          </th> <td>    47.6</td> \n",
              "</tr>\n",
              "</table><br/><br/>Warnings:<br/>[1] Standard Errors are heteroscedasticity robust (HC2)"
            ],
            "text/plain": [
              "<class 'statsmodels.iolib.summary.Summary'>\n",
              "\"\"\"\n",
              "                            OLS Regression Results                            \n",
              "==============================================================================\n",
              "Dep. Variable:           ExcessReturn   R-squared:                       0.538\n",
              "Model:                            OLS   Adj. R-squared:                  0.524\n",
              "Method:                 Least Squares   F-statistic:                     40.52\n",
              "Date:                Wed, 03 Jul 2019   Prob (F-statistic):           2.02e-22\n",
              "Time:                        17:19:33   Log-Likelihood:                 217.78\n",
              "No. Observations:                 143   AIC:                            -425.6\n",
              "Df Residuals:                     138   BIC:                            -410.8\n",
              "Df Model:                           4                                         \n",
              "Covariance Type:                  HC2                                         \n",
              "==============================================================================\n",
              "                 coef    std err          z      P>|z|      [0.025      0.975]\n",
              "------------------------------------------------------------------------------\n",
              "Intercept      0.0083      0.004      1.867      0.062      -0.000       0.017\n",
              "mktrf          1.3690      0.123     11.161      0.000       1.129       1.609\n",
              "smb           -0.3211      0.219     -1.468      0.142      -0.750       0.108\n",
              "hml           -0.9751      0.157     -6.209      0.000      -1.283      -0.667\n",
              "umd           -0.0657      0.106     -0.619      0.536      -0.274       0.142\n",
              "==============================================================================\n",
              "Omnibus:                       86.881   Durbin-Watson:                   1.780\n",
              "Prob(Omnibus):                  0.000   Jarque-Bera (JB):              786.926\n",
              "Skew:                          -1.949   Prob(JB):                    1.32e-171\n",
              "Kurtosis:                      13.811   Cond. No.                         47.6\n",
              "==============================================================================\n",
              "\n",
              "Warnings:\n",
              "[1] Standard Errors are heteroscedasticity robust (HC2)\n",
              "\"\"\""
            ]
          },
          "metadata": {
            "tags": []
          },
          "execution_count": 149
        }
      ]
    },
    {
      "cell_type": "code",
      "metadata": {
        "id": "TfnkRL5E2Mu0",
        "colab_type": "code",
        "colab": {}
      },
      "source": [
        ""
      ],
      "execution_count": 0,
      "outputs": []
    }
  ]
}